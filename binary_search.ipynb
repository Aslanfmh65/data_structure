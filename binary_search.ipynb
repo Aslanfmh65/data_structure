{
 "cells": [
  {
   "cell_type": "code",
   "execution_count": 1,
   "metadata": {},
   "outputs": [],
   "source": [
    "array = [0, 1, 2, 3, 4, 5, 6, 7, 8, 9, 10]\n",
    "target = 6\n",
    "index = 6"
   ]
  },
  {
   "cell_type": "code",
   "execution_count": 52,
   "metadata": {},
   "outputs": [],
   "source": [
    "def binary_search(array, target):\n",
    "    lower_bound = 0\n",
    "    upper_bound = len(array)\n",
    "    while True:\n",
    "        mid = int(len(array)/2)\n",
    "        if array[mid] == target:\n",
    "            return array[mid]\n",
    "        else:\n",
    "            if array[mid] == target:\n",
    "                return array[mid]\n",
    "            elif array[mid] > target:\n",
    "                upper_bound = mid\n",
    "            elif lower_bound == mid:\n",
    "                return array[mid]\n",
    "            else:\n",
    "                lower_bound = mid\n",
    "                \n",
    "        array = array[lower_bound:upper_bound]\n",
    "        lower_bound = 0\n",
    "        upper_bound = len(array)"
   ]
  },
  {
   "cell_type": "code",
   "execution_count": 53,
   "metadata": {},
   "outputs": [],
   "source": [
    "def test_function(test_case):\n",
    "    answer = binary_search(test_case[0], test_case[1])\n",
    "    if answer == test_case[2]:\n",
    "        print(\"Pass!\")\n",
    "    else:\n",
    "        print(\"Fail!\")"
   ]
  },
  {
   "cell_type": "code",
   "execution_count": 54,
   "metadata": {},
   "outputs": [
    {
     "name": "stdout",
     "output_type": "stream",
     "text": [
      "Pass!\n"
     ]
    }
   ],
   "source": [
    "array = [0, 1, 2, 3, 4, 5, 6, 7, 8, 9, 10]\n",
    "target = 6\n",
    "index = 6\n",
    "test_case = [array, target, index]\n",
    "test_function(test_case)"
   ]
  },
  {
   "cell_type": "code",
   "execution_count": 4,
   "metadata": {},
   "outputs": [
    {
     "data": {
      "text/plain": [
       "[3, 6]"
      ]
     },
     "execution_count": 4,
     "metadata": {},
     "output_type": "execute_result"
    }
   ],
   "source": [
    "## better version\n",
    "\n",
    "def recursive_binary_search(source, target, left=0):\n",
    "    if len(source) == 0:\n",
    "        return None\n",
    "    center = (len(source)-1) // 2\n",
    "    if source[center] == target:\n",
    "        return center + left\n",
    "    elif source[center] < target:\n",
    "        return recursive_binary_search(target, source[center+1:], left+center+1)\n",
    "    else:\n",
    "        return recursive_binary_search(target, source[:center], left)\n",
    "    \n",
    "def first_and_last_index(arr, number):\n",
    "       \n",
    "    index = recursive_binary_search(arr, number)\n",
    "    \n",
    "    if index is None:\n",
    "        return [-1, -1]\n",
    "    \n",
    "    first = index\n",
    "    last = index\n",
    "    \n",
    "    index1 = index\n",
    "    index2 = index\n",
    "    \n",
    "    while index1 > 0:\n",
    "        index1 -= 1\n",
    "        if arr[index1] == number:\n",
    "            first = index1\n",
    "    while index2 < len(arr)-1:\n",
    "        index2 += 1\n",
    "        if arr[index2] == number:\n",
    "            last = index2\n",
    "            \n",
    "    return [first, last]\n",
    "        \n",
    "\n",
    "input_list = [0, 1, 2, 3, 3, 3, 3, 4, 5, 6]\n",
    "first_and_last_index(input_list, 3)"
   ]
  },
  {
   "cell_type": "code",
   "execution_count": null,
   "metadata": {},
   "outputs": [],
   "source": []
  }
 ],
 "metadata": {
  "kernelspec": {
   "display_name": "Python 3",
   "language": "python",
   "name": "python3"
  },
  "language_info": {
   "codemirror_mode": {
    "name": "ipython",
    "version": 3
   },
   "file_extension": ".py",
   "mimetype": "text/x-python",
   "name": "python",
   "nbconvert_exporter": "python",
   "pygments_lexer": "ipython3",
   "version": "3.7.4"
  }
 },
 "nbformat": 4,
 "nbformat_minor": 2
}
