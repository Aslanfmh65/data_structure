{
 "cells": [
  {
   "cell_type": "code",
   "execution_count": 13,
   "metadata": {},
   "outputs": [],
   "source": [
    "import collections\n",
    "\n",
    "Item = collections.namedtuple('Item', ['weight', 'value'])\n",
    "\n",
    "def max_value(knapsack_max_weight, items):\n",
    "    lookup_table = [0] * (knapsack_max_weight + 1)\n",
    "\n",
    "    for item in items:\n",
    "        for capacity in reversed(range(knapsack_max_weight + 1)):\n",
    "            if item.weight <= capacity:\n",
    "                lookup_table[capacity] = max(lookup_table[capacity], lookup_table[capacity - item.weight] + item.value)\n",
    "\n",
    "    return lookup_table"
   ]
  },
  {
   "cell_type": "code",
   "execution_count": 16,
   "metadata": {},
   "outputs": [
    {
     "data": {
      "text/plain": [
       "14"
      ]
     },
     "execution_count": 16,
     "metadata": {},
     "output_type": "execute_result"
    }
   ],
   "source": [
    "knapsack_max_weight = 15\n",
    "input_ = [Item(10, 7), Item(9, 8), Item(5, 6)]\n",
    "max_value(knapsack_max_weight, input_)[-1]"
   ]
  },
  {
   "cell_type": "code",
   "execution_count": 17,
   "metadata": {},
   "outputs": [
    {
     "data": {
      "text/plain": [
       "13"
      ]
     },
     "execution_count": 17,
     "metadata": {},
     "output_type": "execute_result"
    }
   ],
   "source": [
    "knapsack_max_weight = 25\n",
    "input_ = [Item(10, 2), Item(29, 10), Item(5, 7), Item(5, 3), Item(5, 1), Item(24, 12)]\n",
    "\n",
    "max_value(knapsack_max_weight, input_)[-1]"
   ]
  },
  {
   "cell_type": "code",
   "execution_count": null,
   "metadata": {},
   "outputs": [],
   "source": []
  }
 ],
 "metadata": {
  "kernelspec": {
   "display_name": "Python 3",
   "language": "python",
   "name": "python3"
  },
  "language_info": {
   "codemirror_mode": {
    "name": "ipython",
    "version": 3
   },
   "file_extension": ".py",
   "mimetype": "text/x-python",
   "name": "python",
   "nbconvert_exporter": "python",
   "pygments_lexer": "ipython3",
   "version": "3.7.4"
  }
 },
 "nbformat": 4,
 "nbformat_minor": 2
}
