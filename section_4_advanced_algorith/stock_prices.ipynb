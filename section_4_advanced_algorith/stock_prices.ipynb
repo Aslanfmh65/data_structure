{
 "cells": [
  {
   "cell_type": "markdown",
   "metadata": {},
   "source": [
    "You are given access to yesterday's stock prices for a single stock. The data is in the form of an array with the stock price in 30 minute intervals from 9:30 a.m EST opening to 4:00 p.m EST closing time. With this data, write a function that returns the maximum profit obtainable. You will need to buy before you can sell.\n",
    "\n",
    "For example, suppose you have the following prices:\n",
    "\n",
    "`prices = [3, 4, 7, 8, 6]`\n",
    "\n",
    ">Note: This is a shortened array, just for the sake of example—a full set of prices for the day would have 13 elements (one price for each 30 minute interval betwen 9:30 and 4:00), as seen in the test cases further down in this notebook.\n",
    "\n",
    "In order to get the maximum profit in this example, you would want to buy at a price of 3 and sell at a price of 8 to yield a maximum profit of 5. In other words, you are looking for the greatest possible difference between two numbers in the array.\n",
    "\n",
    "Fill out the function below and run it against the test cases. Take into consideration the time complexity of your solution. "
   ]
  },
  {
   "cell_type": "code",
   "execution_count": 17,
   "metadata": {},
   "outputs": [],
   "source": [
    "def max_returns(prices):\n",
    "    \n",
    "    smallest = 10000000\n",
    "    largest = 0\n",
    "\n",
    "    for i in prices:\n",
    "        if i < smallest:\n",
    "            smallest = i\n",
    "        if i > largest:\n",
    "            largest = i\n",
    "    if smallest == prices[-1]:\n",
    "        return 0\n",
    "    else:\n",
    "        profit = largest - smallest\n",
    "        return profit\n",
    "\n",
    "# Test Cases\n",
    "def test_function(test_case):\n",
    "    prices = test_case[0]\n",
    "    solution = test_case[1]\n",
    "    output = max_returns(prices)\n",
    "    if output == solution:\n",
    "        print(\"Pass\")\n",
    "    else:\n",
    "        print(\"Fail\")"
   ]
  },
  {
   "cell_type": "code",
   "execution_count": 18,
   "metadata": {},
   "outputs": [
    {
     "name": "stdout",
     "output_type": "stream",
     "text": [
      "Pass\n",
      "Pass\n",
      "Pass\n"
     ]
    }
   ],
   "source": [
    "prices = [2, 2, 7, 9, 9, 12, 18, 23, 34, 37, 45, 54, 78]\n",
    "solution = 76\n",
    "test_case = [prices, solution]\n",
    "test_function(test_case)\n",
    "\n",
    "prices = [54, 18, 37, 9, 11, 48, 23, 1, 7, 34, 2, 45, 67]\n",
    "solution = 66\n",
    "test_case = [prices, solution]\n",
    "test_function(test_case)\n",
    "\n",
    "prices = [78, 54, 45, 37, 34, 23, 18, 12, 9, 9, 7, 2, 2]\n",
    "solution = 0\n",
    "test_case = [prices, solution]\n",
    "test_function(test_case)"
   ]
  },
  {
   "cell_type": "code",
   "execution_count": null,
   "metadata": {},
   "outputs": [],
   "source": []
  }
 ],
 "metadata": {
  "kernelspec": {
   "display_name": "Python 3",
   "language": "python",
   "name": "python3"
  },
  "language_info": {
   "codemirror_mode": {
    "name": "ipython",
    "version": 3
   },
   "file_extension": ".py",
   "mimetype": "text/x-python",
   "name": "python",
   "nbconvert_exporter": "python",
   "pygments_lexer": "ipython3",
   "version": "3.7.4"
  }
 },
 "nbformat": 4,
 "nbformat_minor": 2
}
