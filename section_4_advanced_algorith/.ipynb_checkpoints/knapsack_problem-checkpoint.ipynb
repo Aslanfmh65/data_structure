{
 "cells": [
  {
   "cell_type": "code",
   "execution_count": 98,
   "metadata": {},
   "outputs": [],
   "source": [
    "import collections\n",
    "\n",
    "Item = collections.namedtuple('Item', ['weight', 'value'])\n",
    "\n",
    "\n",
    "def max_value(knapsack_max_weight, items):\n",
    "    \"\"\"\n",
    "    Get the maximum value of the knapsack.\n",
    "    \"\"\"\n",
    "    dict_ = {i:0 for i in range(knapsack_max_weight+1)}\n",
    "    \n",
    "    for item in items:\n",
    "        weight = item[0]\n",
    "        value = item[1]\n",
    "        if weight > knapsack_max_weight:\n",
    "            continue\n",
    "        for i in range(weight,knapsack_max_weight+1):\n",
    "            if dict_[i] < value:\n",
    "                dict_[i] = value\n",
    "            elif dict_[i] > value:\n",
    "                new_value = max(dict_[i], dict_[i-weight]+dict_[weight])\n",
    "                dict_[i] = new_value\n",
    "\n",
    "    return dict_"
   ]
  },
  {
   "cell_type": "code",
   "execution_count": 99,
   "metadata": {},
   "outputs": [
    {
     "data": {
      "text/plain": [
       "{0: 0,\n",
       " 1: 0,\n",
       " 2: 0,\n",
       " 3: 0,\n",
       " 4: 0,\n",
       " 5: 6,\n",
       " 6: 6,\n",
       " 7: 6,\n",
       " 8: 6,\n",
       " 9: 8,\n",
       " 10: 12,\n",
       " 11: 12,\n",
       " 12: 12,\n",
       " 13: 12,\n",
       " 14: 14,\n",
       " 15: 18}"
      ]
     },
     "execution_count": 99,
     "metadata": {},
     "output_type": "execute_result"
    }
   ],
   "source": [
    "knapsack_max_weight = 15\n",
    "input_ = [Item(10, 7), Item(9, 8), Item(5, 6)]\n",
    "max_value(knapsack_max_weight, input_)"
   ]
  },
  {
   "cell_type": "code",
   "execution_count": 69,
   "metadata": {},
   "outputs": [
    {
     "data": {
      "text/plain": [
       "{0: 0,\n",
       " 1: 0,\n",
       " 2: 0,\n",
       " 3: 0,\n",
       " 4: 0,\n",
       " 5: 7,\n",
       " 6: 7,\n",
       " 7: 7,\n",
       " 8: 7,\n",
       " 9: 7,\n",
       " 10: 14,\n",
       " 11: 14,\n",
       " 12: 14,\n",
       " 13: 14,\n",
       " 14: 14,\n",
       " 15: 21,\n",
       " 16: 21,\n",
       " 17: 21,\n",
       " 18: 21,\n",
       " 19: 21,\n",
       " 20: 28,\n",
       " 21: 28,\n",
       " 22: 28,\n",
       " 23: 28,\n",
       " 24: 28,\n",
       " 25: 35}"
      ]
     },
     "execution_count": 69,
     "metadata": {},
     "output_type": "execute_result"
    }
   ],
   "source": [
    "knapsack_max_weight = 25\n",
    "input_ = [Item(10, 2), Item(29, 10), Item(5, 7), Item(5, 3), Item(5, 1), Item(24, 12)]\n",
    "\n",
    "max_value(knapsack_max_weight, input_)"
   ]
  },
  {
   "cell_type": "code",
   "execution_count": 76,
   "metadata": {},
   "outputs": [],
   "source": [
    "def max_value(knapsack_max_weight, items):\n",
    "    lookup_table = [0] * (knapsack_max_weight + 1)\n",
    "\n",
    "    for item in items:\n",
    "        for capacity in reversed(range(knapsack_max_weight + 1)):\n",
    "            if item.weight <= capacity:\n",
    "                lookup_table[capacity] = max(lookup_table[capacity], lookup_table[capacity - item.weight] + item.value)\n",
    "\n",
    "    return lookup_table"
   ]
  },
  {
   "cell_type": "code",
   "execution_count": 77,
   "metadata": {},
   "outputs": [
    {
     "data": {
      "text/plain": [
       "[0, 0, 0, 0, 0, 6, 6, 6, 6, 8, 8, 8, 8, 8, 14, 14]"
      ]
     },
     "execution_count": 77,
     "metadata": {},
     "output_type": "execute_result"
    }
   ],
   "source": [
    "knapsack_max_weight = 15\n",
    "input_ = [Item(10, 7), Item(9, 8), Item(5, 6)]\n",
    "max_value(knapsack_max_weight, input_)"
   ]
  },
  {
   "cell_type": "code",
   "execution_count": 72,
   "metadata": {},
   "outputs": [
    {
     "data": {
      "text/plain": [
       "13"
      ]
     },
     "execution_count": 72,
     "metadata": {},
     "output_type": "execute_result"
    }
   ],
   "source": [
    "knapsack_max_weight = 25\n",
    "input_ = [Item(10, 2), Item(29, 10), Item(5, 7), Item(5, 3), Item(5, 1), Item(24, 12)]\n",
    "\n",
    "max_value(knapsack_max_weight, input_)"
   ]
  },
  {
   "cell_type": "code",
   "execution_count": 73,
   "metadata": {},
   "outputs": [
    {
     "data": {
      "text/plain": [
       "[25,\n",
       " 24,\n",
       " 23,\n",
       " 22,\n",
       " 21,\n",
       " 20,\n",
       " 19,\n",
       " 18,\n",
       " 17,\n",
       " 16,\n",
       " 15,\n",
       " 14,\n",
       " 13,\n",
       " 12,\n",
       " 11,\n",
       " 10,\n",
       " 9,\n",
       " 8,\n",
       " 7,\n",
       " 6,\n",
       " 5,\n",
       " 4,\n",
       " 3,\n",
       " 2,\n",
       " 1,\n",
       " 0]"
      ]
     },
     "execution_count": 73,
     "metadata": {},
     "output_type": "execute_result"
    }
   ],
   "source": [
    "[capacity for capacity in reversed(range(knapsack_max_weight + 1))]"
   ]
  },
  {
   "cell_type": "code",
   "execution_count": null,
   "metadata": {},
   "outputs": [],
   "source": []
  }
 ],
 "metadata": {
  "kernelspec": {
   "display_name": "Python 3",
   "language": "python",
   "name": "python3"
  },
  "language_info": {
   "codemirror_mode": {
    "name": "ipython",
    "version": 3
   },
   "file_extension": ".py",
   "mimetype": "text/x-python",
   "name": "python",
   "nbconvert_exporter": "python",
   "pygments_lexer": "ipython3",
   "version": "3.7.4"
  }
 },
 "nbformat": 4,
 "nbformat_minor": 2
}
