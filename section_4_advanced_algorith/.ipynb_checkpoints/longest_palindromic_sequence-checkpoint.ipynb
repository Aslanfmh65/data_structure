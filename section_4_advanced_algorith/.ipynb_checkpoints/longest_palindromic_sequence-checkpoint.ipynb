{
 "cells": [
  {
   "cell_type": "markdown",
   "metadata": {},
   "source": [
    "# Longest Palindromic Subsequence\n",
    "\n",
    "In this notebook, you'll be tasked with finding the length of the *Longest Palindromic Subsequence* (LPS) given a string of characters.\n",
    "\n",
    "As an example:\n",
    "* With an input string, `ABBDBCACB`\n",
    "* The LPS is `BCACB`, which has `length = 5`\n",
    "\n",
    "In this notebook, we'll focus on finding an optimal solution to the LPS task, using dynamic programming. There will be some similarities to the Longest Common Subsequence (LCS) task, which is outlined in detail in a previous notebook. It is recommended that you start with that notebook before trying out this task.\n",
    "\n",
    "### Hint\n",
    "**Storing pre-computed values**\n",
    "\n",
    "The LPS algorithm depends on looking at one string and comparing letters to one another. Similar to how you compared two strings in the LCS (Longest Common Subsequence) task, you can compare the characters in just *one* string with one another, using a matrix to store the results of matching characters.\n",
    "\n",
    "\n",
    "For a string on length n characters, you can create an `n x n` matrix to store the solution to subproblems. In this case, the subproblem is the length of the longest palindromic subsequence, up to a certain point in the string (up to the end of a certain substring).\n",
    "\n",
    "It may be helpful to try filling up a matrix on paper before you start your code solution. If you get stuck with this task, you may look at some example matrices below (see the section titled **Example matrices**), before consulting the complete solution code."
   ]
  },
  {
   "cell_type": "code",
   "execution_count": 38,
   "metadata": {},
   "outputs": [],
   "source": [
    "def lps(input_string):\n",
    "    L = [[0 for _ in range(len(input_string))] for _ in range(len(input_string))]\n",
    "    for i in range(len(input_string)):\n",
    "        L[i][i] += 1\n",
    "    \n",
    "    for n_size in range(2,len(input_string)+1):\n",
    "        for start_ix in range(len(input_string)-n_size+1):\n",
    "            end_ix = start_ix + n_size - 1\n",
    "            window = input_string[start_ix:end_ix]\n",
    "                \n",
    "            if n_size == 2 and input_string[start_ix] == input_string[end_ix]:\n",
    "                L[start_ix][end_ix] = 2\n",
    "            \n",
    "            elif input_string[start_ix] == input_string[end_ix]:\n",
    "                L[start_ix][end_ix] = L[start_ix+1][end_ix-1] + 2\n",
    "            \n",
    "            else:\n",
    "                L[start_ix][end_ix] = max(L[start_ix+1][end_ix], L[start_ix][end_ix-1])\n",
    "            \n",
    "    return L[0][-1]"
   ]
  },
  {
   "cell_type": "code",
   "execution_count": 39,
   "metadata": {},
   "outputs": [
    {
     "data": {
      "text/plain": [
       "7"
      ]
     },
     "execution_count": 39,
     "metadata": {},
     "output_type": "execute_result"
    }
   ],
   "source": [
    "input_string = \"TACOCAT\"\n",
    "lps(input_string)"
   ]
  },
  {
   "cell_type": "code",
   "execution_count": 40,
   "metadata": {},
   "outputs": [
    {
     "data": {
      "text/plain": [
       "5"
      ]
     },
     "execution_count": 40,
     "metadata": {},
     "output_type": "execute_result"
    }
   ],
   "source": [
    "input_string = 'BANANA'\n",
    "lps(input_string)"
   ]
  },
  {
   "cell_type": "code",
   "execution_count": 41,
   "metadata": {},
   "outputs": [
    {
     "data": {
      "text/plain": [
       "3"
      ]
     },
     "execution_count": 41,
     "metadata": {},
     "output_type": "execute_result"
    }
   ],
   "source": [
    "input_string = 'BANANO'\n",
    "lps(input_string)"
   ]
  },
  {
   "cell_type": "code",
   "execution_count": null,
   "metadata": {},
   "outputs": [],
   "source": []
  }
 ],
 "metadata": {
  "kernelspec": {
   "display_name": "Python 3",
   "language": "python",
   "name": "python3"
  },
  "language_info": {
   "codemirror_mode": {
    "name": "ipython",
    "version": 3
   },
   "file_extension": ".py",
   "mimetype": "text/x-python",
   "name": "python",
   "nbconvert_exporter": "python",
   "pygments_lexer": "ipython3",
   "version": "3.7.4"
  }
 },
 "nbformat": 4,
 "nbformat_minor": 2
}
