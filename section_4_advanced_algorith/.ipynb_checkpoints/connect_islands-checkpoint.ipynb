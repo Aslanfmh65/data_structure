{
 "cells": [
  {
   "cell_type": "code",
   "execution_count": 325,
   "metadata": {},
   "outputs": [],
   "source": [
    "def create_graph(num_islands, bridge_config):\n",
    "    \n",
    "    graph = {i:[] for i in range(num_islands+1)}\n",
    "    \n",
    "    for i in range(len(bridge_config)):\n",
    "        graph[bridge_config[i][0]].append([bridge_config[i][2],bridge_config[i][1]])\n",
    "        graph[bridge_config[i][1]].append([bridge_config[i][2],bridge_config[i][0]])\n",
    "    \n",
    "    return graph\n",
    "\n",
    "def find_lowest_cost(graph):\n",
    "\n",
    "    # start with vertex 1 (any vertex can be chosen)\n",
    "    start_vertex = 1\n",
    "    \n",
    "    # initialize a list to keep track of vertices that are visited\n",
    "    visited = [False for _ in range(len(graph) + 1)]\n",
    "    \n",
    "    # initialize starting list - (edge_cost, neighbor)\n",
    "    heap = [(0, start_vertex)]\n",
    "    total_cost = 0\n",
    "\n",
    "    while len(heap) > 0:\n",
    "        cost, vertix = heapq.heappop(heap)\n",
    "        if visited[vertix]:\n",
    "            continue\n",
    "        visited[vertix] = True\n",
    "        total_cost += cost\n",
    "        \n",
    "        neighbors = []\n",
    "        for neighbor_cost, neighbor in graph[vertix]:\n",
    "            heapq.heappush(heap, [neighbor_cost, neighbor])\n",
    "            \n",
    "    return total_cost\n",
    "        \n",
    "def get_minimum_cost_of_connecting(num_islands, bridge_config):\n",
    "    graph = create_graph(num_islands, bridge_config)\n",
    "    lowest_cost = find_lowest_cost(graph)\n",
    "    return lowest_cost\n",
    "\n",
    "def test_function(test_case):\n",
    "    num_islands = test_case[0]\n",
    "    bridge_config = test_case[1]\n",
    "    solution = test_case[2]\n",
    "    output = get_minimum_cost_of_connecting(num_islands, bridge_config)\n",
    "    \n",
    "    if output == solution:\n",
    "        print(\"Pass\")\n",
    "    else:\n",
    "        print(\"Fail\")"
   ]
  },
  {
   "cell_type": "code",
   "execution_count": 326,
   "metadata": {},
   "outputs": [
    {
     "name": "stdout",
     "output_type": "stream",
     "text": [
      "Pass\n"
     ]
    }
   ],
   "source": [
    "num_islands = 5\n",
    "bridge_config = [[1, 2, 1], [2, 3, 4], [1, 4, 3], [4, 3, 2], [1, 3, 10]]\n",
    "solution = 6\n",
    "\n",
    "test_case = [num_islands, bridge_config, solution]\n",
    "test_function(test_case)"
   ]
  },
  {
   "cell_type": "code",
   "execution_count": 327,
   "metadata": {},
   "outputs": [
    {
     "name": "stdout",
     "output_type": "stream",
     "text": [
      "Pass\n"
     ]
    }
   ],
   "source": [
    "num_islands = 5\n",
    "bridge_config = [[1, 2, 5], [1, 3, 8], [2, 3, 9]]\n",
    "solution = 13\n",
    "\n",
    "test_case = [num_islands, bridge_config, solution]\n",
    "test_function(test_case)"
   ]
  },
  {
   "cell_type": "code",
   "execution_count": 328,
   "metadata": {},
   "outputs": [
    {
     "name": "stdout",
     "output_type": "stream",
     "text": [
      "Pass\n"
     ]
    }
   ],
   "source": [
    "num_islands = 5\n",
    "bridge_config = [[1, 2, 3], [1, 5, 9], [2, 3, 10], [4, 3, 9]]\n",
    "solution = 31\n",
    "\n",
    "test_case = [num_islands, bridge_config, solution]\n",
    "test_function(test_case)"
   ]
  },
  {
   "cell_type": "code",
   "execution_count": null,
   "metadata": {},
   "outputs": [],
   "source": []
  }
 ],
 "metadata": {
  "kernelspec": {
   "display_name": "Python 3",
   "language": "python",
   "name": "python3"
  },
  "language_info": {
   "codemirror_mode": {
    "name": "ipython",
    "version": 3
   },
   "file_extension": ".py",
   "mimetype": "text/x-python",
   "name": "python",
   "nbconvert_exporter": "python",
   "pygments_lexer": "ipython3",
   "version": "3.7.4"
  }
 },
 "nbformat": 4,
 "nbformat_minor": 2
}
