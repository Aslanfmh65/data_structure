{
 "cells": [
  {
   "cell_type": "markdown",
   "metadata": {},
   "source": [
    "# Coin Change\n",
    "\n",
    "You are given coins of different denominations and a total amount of money. Write a function to compute the fewest coins needed to make up that amount. If that amount of money cannot be made up by any combination of the coins, return `-1`.\n",
    "\n",
    "As an example:\n",
    "* Input: `coins = [1, 2, 3]`, `amount = 6`\n",
    "* Output: `2`\n",
    "* Explanation: The output is `2` because we can use `2` coins with value `3`. That is, `6 = 3 + 3`. We could also use `3` coins with value `2` (that is, `6 = 2 + 2 + 2`), but this would use more coins—and the problem specifies we should use the smallest number of coins possible.\n",
    "\n",
    "There's test code below that you can use to check your solution. And at the bottom of the notebook, you'll find two different possible solutions."
   ]
  },
  {
   "cell_type": "markdown",
   "metadata": {},
   "source": [
    "Explanation: https://www.youtube.com/watch?v=jaNZ83Q3QGc"
   ]
  },
  {
   "cell_type": "code",
   "execution_count": 1,
   "metadata": {},
   "outputs": [],
   "source": [
    "arr = [1,2,5]\n",
    "amount = 11\n",
    "solution = 3"
   ]
  },
  {
   "cell_type": "code",
   "execution_count": 6,
   "metadata": {},
   "outputs": [],
   "source": [
    "# Solution One\n",
    "\n",
    "# Let's assume F(Amount) is the minimum number of coins needed to make a change from coins [C0, C1, C2...Cn-1]\n",
    "# Then, we know that F(Amount) = min(F(Amount-C0), F(Amount-C1), F(Amount-C2)...F(Amount-Cn-1)) + 1\n",
    "\n",
    "# Base Cases: \n",
    "    # when Amount == 0: F(Amount) = 0\n",
    "    # when Amount < 0: F(Amount) =  float('inf')\n",
    "\n",
    "def coin_change(coins, amount):\n",
    "    # Create a memo that will storing the fewest coins with given amount\n",
    "    # that we have already calculated so that we do not have to do the\n",
    "    # calculation again.\n",
    "    memo = {}\n",
    "    \n",
    "    def return_change(remaining):\n",
    "        # Base cases\n",
    "        if remaining < 0:  return float('inf')\n",
    "        if remaining == 0: return 0 \n",
    "        \n",
    "        # Check if we have already calculated\n",
    "        if remaining not in memo:\n",
    "            # If not previously calculated, calculate it by calling return_change with the remaining amount\n",
    "            memo[remaining] = min(return_change(remaining - c) + 1 for c in coins)\n",
    "        return memo[remaining]\n",
    "    \n",
    "    res = return_change(amount)\n",
    "    \n",
    "    # return -1 when no change found\n",
    "    return -1 if res == float('inf') else res"
   ]
  },
  {
   "cell_type": "code",
   "execution_count": 37,
   "metadata": {},
   "outputs": [
    {
     "name": "stdout",
     "output_type": "stream",
     "text": [
      "The total numbers of combination consisted of given coins are 13\n"
     ]
    }
   ],
   "source": [
    "# if we need to find the total combinations\n",
    "arr = [1,2,5]\n",
    "amount = 11\n",
    "combo = {i:0 for i in range(amount+2)}\n",
    "combo[0] = 1\n",
    "\n",
    "for coin in arr:\n",
    "    for i in combo:\n",
    "        if i >= coin:\n",
    "            combo[i] += combo[i-coin]\n",
    "print(\"The total numbers of combination consisted of given coins are {}\".format(combo[12]))"
   ]
  }
 ],
 "metadata": {
  "kernelspec": {
   "display_name": "Python 3",
   "language": "python",
   "name": "python3"
  },
  "language_info": {
   "codemirror_mode": {
    "name": "ipython",
    "version": 3
   },
   "file_extension": ".py",
   "mimetype": "text/x-python",
   "name": "python",
   "nbconvert_exporter": "python",
   "pygments_lexer": "ipython3",
   "version": "3.7.4"
  }
 },
 "nbformat": 4,
 "nbformat_minor": 2
}
