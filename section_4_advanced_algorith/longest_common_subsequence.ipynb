{
 "cells": [
  {
   "cell_type": "code",
   "execution_count": 10,
   "metadata": {},
   "outputs": [],
   "source": [
    "test_A1 = \"WHOWEEKLY\"\n",
    "test_B1 = \"HOWONLY\"\n",
    "\n",
    "test_A2 = \"CATSINSPACETWO\"\n",
    "test_B2 = \"DOGSPACEWHO\"\n",
    "\n",
    "# lcs_val1 = lcs(test_A1, test_B1)"
   ]
  },
  {
   "cell_type": "code",
   "execution_count": 20,
   "metadata": {},
   "outputs": [],
   "source": [
    "def lcs(string1, string2):\n",
    "    dict_A = {char:0 for char in string1}\n",
    "    dict_B = {char:0 for char in string2}\n",
    "    \n",
    "    for char in string1:\n",
    "        if char in dict_A and char in dict_B:\n",
    "            dict_A[char] += 1\n",
    "            dict_B[char] += 1\n",
    "            \n",
    "    count = len([i for i in dict_A if dict_A[i] != 0])\n",
    "            \n",
    "    return count"
   ]
  },
  {
   "cell_type": "code",
   "execution_count": 23,
   "metadata": {},
   "outputs": [
    {
     "name": "stdout",
     "output_type": "stream",
     "text": [
      "LCS val 1 =  5\n",
      "LCS val 2 =  7\n",
      "Tests passed!\n"
     ]
    }
   ],
   "source": [
    "## Test cell\n",
    "\n",
    "# Run this cell to see how your function is working\n",
    "test_A1 = \"WHOWEEKLY\"\n",
    "test_B1 = \"HOWONLY\"\n",
    "\n",
    "lcs_val1 = lcs(test_A1, test_B1)\n",
    "\n",
    "test_A2 = \"CATSINSPACETWO\"\n",
    "test_B2 = \"DOGSPACEWHO\"\n",
    "\n",
    "lcs_val2 = lcs(test_A2, test_B2)\n",
    "\n",
    "print('LCS val 1 = ', lcs_val1)\n",
    "assert lcs_val1==5, \"Incorrect LCS value.\"\n",
    "print('LCS val 2 = ', lcs_val2)\n",
    "assert lcs_val2==7, \"Incorrect LCS value.\"\n",
    "print('Tests passed!')"
   ]
  },
  {
   "cell_type": "code",
   "execution_count": 25,
   "metadata": {},
   "outputs": [],
   "source": [
    "def lcs(string_a, string_b):\n",
    "    lookup_table = [[0 for _ in range(len(string_b)+1)] for _ in range(len(string_a)+1)]\n",
    "    \n",
    "    for char_a_i, char_a in enumerate(string_a):\n",
    "        for char_b_i, char_b in enumerate(string_b):\n",
    "            if char_a == char_b:\n",
    "                lookup_table[char_a_i+1][char_b_i+1] = lookup_table[char_a_i][char_b_i] + 1\n",
    "            else:\n",
    "                lookup_table[char_a_i+1][char_b_i+1] = max(lookup_table[char_a_i][char_b_i + 1],\n",
    "                                                           lookup_table[char_a_i + 1][char_b_i])\n",
    "    return lookup_table[-1][-1]"
   ]
  },
  {
   "cell_type": "code",
   "execution_count": null,
   "metadata": {},
   "outputs": [],
   "source": []
  }
 ],
 "metadata": {
  "kernelspec": {
   "display_name": "Python 3",
   "language": "python",
   "name": "python3"
  },
  "language_info": {
   "codemirror_mode": {
    "name": "ipython",
    "version": 3
   },
   "file_extension": ".py",
   "mimetype": "text/x-python",
   "name": "python",
   "nbconvert_exporter": "python",
   "pygments_lexer": "ipython3",
   "version": "3.7.4"
  }
 },
 "nbformat": 4,
 "nbformat_minor": 2
}
