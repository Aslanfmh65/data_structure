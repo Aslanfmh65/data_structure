{
 "cells": [
  {
   "cell_type": "markdown",
   "metadata": {},
   "source": [
    "### Construct Graph "
   ]
  },
  {
   "cell_type": "code",
   "execution_count": 1,
   "metadata": {},
   "outputs": [],
   "source": [
    "class GraphNode(object):\n",
    "    def __init__(self, val):\n",
    "        self.value = val\n",
    "        self.edges = []\n",
    "        \n",
    "    def add_child(self, node, distance):\n",
    "        self.edges.append(GraphEdge(node, distance))\n",
    "        \n",
    "    def remove_child(self, del_node):\n",
    "        if del_node in self.edges:\n",
    "            self.edges.remove(del_node)\n",
    "            \n",
    "class GraphEdge(object):\n",
    "    def __init__(self, node, distance):\n",
    "        self.node = node\n",
    "        self.distance = distance\n",
    "                        \n",
    "class Graph(object):\n",
    "    def __init__(self, node_list):\n",
    "        self.nodes = node_list\n",
    "        \n",
    "    def add_edge(self, node1, node2, distance):\n",
    "        if node1 in self.nodes and node2 in self.nodes:\n",
    "            node1.add_child(node2, distance)\n",
    "            node2.add_child(node1, distance)\n",
    "            \n",
    "    def remove_edge(self, node1, node2):\n",
    "        if node1 in self.nodes and node2 in self.nodes:\n",
    "            node1.remove_child(node2)\n",
    "            node2.remove_child(node1)"
   ]
  },
  {
   "cell_type": "markdown",
   "metadata": {},
   "source": [
    "### Define the node and connected in graph"
   ]
  },
  {
   "cell_type": "code",
   "execution_count": 81,
   "metadata": {},
   "outputs": [],
   "source": [
    "node_u = GraphNode('U')\n",
    "node_d = GraphNode('D')\n",
    "node_a = GraphNode('A')\n",
    "node_c = GraphNode('C')\n",
    "node_i = GraphNode('I')\n",
    "node_t = GraphNode('T')\n",
    "node_y = GraphNode('Y')\n",
    "\n",
    "graph = Graph([node_u, node_d, node_a, node_c, node_i, node_t, node_y])\n",
    "graph.add_edge(node_u, node_a, 4)\n",
    "graph.add_edge(node_u, node_c, 6)\n",
    "graph.add_edge(node_u, node_d, 3)\n",
    "graph.add_edge(node_d, node_u, 3)\n",
    "graph.add_edge(node_d, node_c, 4)\n",
    "graph.add_edge(node_a, node_u, 4)\n",
    "graph.add_edge(node_a, node_i, 7)\n",
    "graph.add_edge(node_c, node_d, 4)\n",
    "graph.add_edge(node_c, node_u, 6)\n",
    "graph.add_edge(node_c, node_i, 4)\n",
    "graph.add_edge(node_c, node_t, 5)\n",
    "graph.add_edge(node_i, node_a, 7)\n",
    "graph.add_edge(node_i, node_c, 4)\n",
    "graph.add_edge(node_i, node_y, 4)\n",
    "graph.add_edge(node_t, node_c, 5)\n",
    "graph.add_edge(node_t, node_y, 5)\n",
    "graph.add_edge(node_y, node_i, 4)\n",
    "graph.add_edge(node_y, node_t, 5)"
   ]
  },
  {
   "cell_type": "markdown",
   "metadata": {},
   "source": [
    "### Dijkstra algorithm (my method-DFS search) "
   ]
  },
  {
   "cell_type": "code",
   "execution_count": 91,
   "metadata": {},
   "outputs": [
    {
     "name": "stdout",
     "output_type": "stream",
     "text": [
      "['Y']\n",
      "['Y', 'I']\n",
      "['Y', 'I', 'C']\n",
      "['Y', 'I', 'C', 'D']\n",
      "['Y', 'I', 'C', 'D', 'U']\n",
      "Found\n"
     ]
    },
    {
     "data": {
      "text/plain": [
       "'U'"
      ]
     },
     "execution_count": 91,
     "metadata": {},
     "output_type": "execute_result"
    }
   ],
   "source": [
    "import math\n",
    "\n",
    "# DFS search\n",
    "def dijkstra(start_node, end_node):\n",
    "    if start_node not in graph.nodes or end_node not in graph.nodes:\n",
    "        return False\n",
    "    \n",
    "    visited = []\n",
    "    stack = [start_node]\n",
    "    \n",
    "    while len(stack) > 0:\n",
    "        current_node = stack.pop()\n",
    "        visited.append(current_node.value)\n",
    "        print(visited)\n",
    "        \n",
    "        if current_node == end_node:\n",
    "            print(\"Found\")\n",
    "            return current_node.value\n",
    "        \n",
    "        # edges of current_node\n",
    "        node_edges= [edge for edge in current_node.edges if edge.node.value not in visited]\n",
    "        \n",
    "        # nodes that are connecting with current_node\n",
    "        connected_nodes = [edge.node for edge in node_edges]\n",
    "        \n",
    "        # distance of edges between current_node and the connected node\n",
    "        edge_distance = [edge.distance for edge in node_edges]\n",
    "        \n",
    "        # find the shortest distance\n",
    "        min_index = edge_distance.index(min(edge_distance))\n",
    "        \n",
    "        # find the node that has shortest distance to current node\n",
    "        chosen_node = connected_nodes[min_index]\n",
    "        \n",
    "        # push the chosen node to stack\n",
    "        stack.append(chosen_node)            \n",
    "    \n",
    "    return\n",
    "\n",
    "start_node = node_y\n",
    "end_node = node_u\n",
    "dijkstra(start_node,end_node)"
   ]
  },
  {
   "cell_type": "markdown",
   "metadata": {},
   "source": [
    "### given solution "
   ]
  },
  {
   "cell_type": "code",
   "execution_count": 224,
   "metadata": {},
   "outputs": [
    {
     "data": {
      "text/plain": [
       "14"
      ]
     },
     "execution_count": 224,
     "metadata": {},
     "output_type": "execute_result"
    }
   ],
   "source": [
    "def dijkstra(start_node, end_node):\n",
    "    distance_dict = {node: math.inf for node in graph.nodes}\n",
    "    shortest_path_to_node = {}\n",
    "\n",
    "    distance_dict[start_node] = 0\n",
    "    while distance_dict:\n",
    "        # Pop the shorest path \n",
    "        current_node, node_distance = sorted(distance_dict.items(), key=lambda x: x[1])[0]\n",
    "        shortest_path_to_node[current_node] = distance_dict.pop(current_node)\n",
    "\n",
    "        for edge in current_node.edges:\n",
    "            if edge.node in distance_dict:\n",
    "                new_node_distance = node_distance + edge.distance\n",
    "                if distance_dict[edge.node] > new_node_distance:\n",
    "                    distance_dict[edge.node] = new_node_distance\n",
    "    \n",
    "    return shortest_path_to_node[end_node]\n",
    "\n",
    "start_node = node_u\n",
    "end_node = node_y\n",
    "dijkstra(start_node,end_node)"
   ]
  },
  {
   "cell_type": "markdown",
   "metadata": {},
   "source": [
    "### My solution "
   ]
  },
  {
   "cell_type": "code",
   "execution_count": 231,
   "metadata": {},
   "outputs": [
    {
     "name": "stdout",
     "output_type": "stream",
     "text": [
      "Shortest path: ['U', 'C', 'I', 'Y']\n",
      "Shortest distance: 14\n"
     ]
    }
   ],
   "source": [
    "def dijkstra(start_node, end_node):\n",
    "    dict_ = {node:math.inf for node in graph.nodes}\n",
    "    dict_[start_node] = 0\n",
    "    \n",
    "    visited = []\n",
    "    queue = [start_node]\n",
    "    \n",
    "    shortest_path = [start_node]\n",
    "    \n",
    "    while len(queue) > 0:\n",
    "        current_node = queue.pop(0)\n",
    "        visited.append(current_node)\n",
    "        \n",
    "        for edge in current_node.edges:\n",
    "            if edge.node not in visited and edge.node not in queue:\n",
    "                queue.append(edge.node)\n",
    "            \n",
    "            new_distance = dict_[current_node] + edge.distance\n",
    "            if new_distance < dict_[edge.node]:\n",
    "                if dict_[edge.node] != math.inf:\n",
    "                    shortest_path[-2] = current_node\n",
    "                    shortest_path[-1] = edge.node\n",
    "                elif current_node not in shortest_path:\n",
    "                    shortest_path.append(current_node)\n",
    "                    shortest_path.append(edge.node)\n",
    "                dict_[edge.node] = new_distance\n",
    "                \n",
    "    shortest_path.append(end_node)\n",
    "    shortest_path = [node.value for node in shortest_path]\n",
    "    shortest_distance = dict_[end_node]\n",
    "    \n",
    "    return [shortest_path,shortest_distance]\n",
    "\n",
    "start_node = node_u\n",
    "end_node = node_y\n",
    "path, distance = dijkstra(start_node,end_node)\n",
    "print(\"Shortest path: {}\".format(path))\n",
    "print(\"Shortest distance: {}\".format(distance))"
   ]
  }
 ],
 "metadata": {
  "kernelspec": {
   "display_name": "Python 3",
   "language": "python",
   "name": "python3"
  },
  "language_info": {
   "codemirror_mode": {
    "name": "ipython",
    "version": 3
   },
   "file_extension": ".py",
   "mimetype": "text/x-python",
   "name": "python",
   "nbconvert_exporter": "python",
   "pygments_lexer": "ipython3",
   "version": "3.7.4"
  }
 },
 "nbformat": 4,
 "nbformat_minor": 2
}
