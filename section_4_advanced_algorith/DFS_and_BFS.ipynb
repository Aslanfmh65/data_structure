{
 "cells": [
  {
   "cell_type": "markdown",
   "metadata": {},
   "source": [
    "### Define the Graph and Node "
   ]
  },
  {
   "cell_type": "code",
   "execution_count": 21,
   "metadata": {},
   "outputs": [],
   "source": [
    "class GraphNode(object):\n",
    "    def __init__(self, val):\n",
    "        self.value = val\n",
    "        self.children = []\n",
    "        \n",
    "    def add_child(self,new_node):\n",
    "        self.children.append(new_node)\n",
    "    \n",
    "    def remove_child(self,del_node):\n",
    "        if del_node in self.children:\n",
    "            self.children.remove(del_node)\n",
    "\n",
    "class Graph(object):\n",
    "    def __init__(self,node_list):\n",
    "        self.nodes = node_list\n",
    "        \n",
    "    def add_edge(self,node1,node2):\n",
    "        if(node1 in self.nodes and node2 in self.nodes):\n",
    "            node1.add_child(node2)\n",
    "            node2.add_child(node1)\n",
    "            \n",
    "    def remove_edge(self,node1,node2):\n",
    "        if(node1 in self.nodes and node2 in self.nodes):\n",
    "            node1.remove_child(node2)\n",
    "            node2.remove_child(node1)\n",
    "            \n",
    "nodeG = GraphNode('G')\n",
    "nodeR = GraphNode('R')\n",
    "nodeA = GraphNode('A')\n",
    "nodeP = GraphNode('P')\n",
    "nodeH = GraphNode('H')\n",
    "nodeS = GraphNode('S')\n",
    "\n",
    "graph1 = Graph([nodeS,nodeH,nodeG,nodeP,nodeR,nodeA] ) \n",
    "graph1.add_edge(nodeG,nodeR)\n",
    "graph1.add_edge(nodeA,nodeR)\n",
    "graph1.add_edge(nodeA,nodeG)\n",
    "graph1.add_edge(nodeR,nodeP)\n",
    "graph1.add_edge(nodeH,nodeG)\n",
    "graph1.add_edge(nodeH,nodeP)\n",
    "graph1.add_edge(nodeS,nodeR)"
   ]
  },
  {
   "cell_type": "markdown",
   "metadata": {},
   "source": [
    "### Depth First Search (DFS) "
   ]
  },
  {
   "cell_type": "code",
   "execution_count": 79,
   "metadata": {},
   "outputs": [],
   "source": [
    "# loop method\n",
    "def dfs_search(root_node, search_value):\n",
    "    visited = []\n",
    "    stack = [root_node]\n",
    "    \n",
    "    while len(stack) > 0:\n",
    "        # Stack: LIFO\n",
    "        current_node = stack.pop()\n",
    "        visited.append(current_node.value)\n",
    "#         print(visited)\n",
    "        if current_node.value == search_value:\n",
    "            return current_node\n",
    "        for child in current_node.children:\n",
    "            if child.value not in visited:\n",
    "                stack.append(child)\n",
    "                \n",
    "assert nodeA == dfs_search(nodeS, 'A')\n",
    "assert nodeS == dfs_search(nodeP, 'S')\n",
    "assert nodeR == dfs_search(nodeH, 'R')"
   ]
  },
  {
   "cell_type": "code",
   "execution_count": 94,
   "metadata": {},
   "outputs": [],
   "source": [
    "# recursive method\n",
    "def dfs_search_start(root_node, search_value):\n",
    "    visited = []\n",
    "    return dfs_search(root_node, visited, search_value)\n",
    "\n",
    "def dfs_search(root_node, visited, search_value):\n",
    "    visited.append(root_node.value)\n",
    "    print(visited)\n",
    "    \n",
    "    if root_node.value == search_value:\n",
    "        return root_node.value\n",
    "    \n",
    "    for child in root_node.children:\n",
    "        if child.value not in visited:\n",
    "            dfs_search(child, visited, search_value)"
   ]
  },
  {
   "cell_type": "code",
   "execution_count": 95,
   "metadata": {},
   "outputs": [
    {
     "name": "stdout",
     "output_type": "stream",
     "text": [
      "['P']\n",
      "['P', 'R']\n",
      "['P', 'R', 'G']\n",
      "['P', 'R', 'G', 'A']\n",
      "['P', 'R', 'G', 'A', 'H']\n",
      "['P', 'R', 'G', 'A', 'H', 'S']\n"
     ]
    }
   ],
   "source": [
    "dfs_search_start(nodeP, 'S')"
   ]
  },
  {
   "cell_type": "markdown",
   "metadata": {},
   "source": [
    "### Breath First Search (BFS)"
   ]
  },
  {
   "cell_type": "code",
   "execution_count": 99,
   "metadata": {},
   "outputs": [],
   "source": [
    "# Loop method\n",
    "def bfs_search(root_node, search_value):\n",
    "    visited = []\n",
    "    queue = [root_node]\n",
    "    \n",
    "    while len(queue) > 0:\n",
    "        current_node = queue.pop(0)\n",
    "        visited.append(current_node.value)\n",
    "#         print(visited)\n",
    "        \n",
    "        if current_node.value == search_value:\n",
    "            return current_node\n",
    "        \n",
    "        for child in current_node.children:\n",
    "            if child.value not in visited:\n",
    "                queue.append(child)\n",
    "                \n",
    "assert nodeA == bfs_search(nodeS, 'A')\n",
    "assert nodeS == bfs_search(nodeP, 'S')\n",
    "assert nodeR == bfs_search(nodeH, 'R')"
   ]
  }
 ],
 "metadata": {
  "kernelspec": {
   "display_name": "Python 3",
   "language": "python",
   "name": "python3"
  },
  "language_info": {
   "codemirror_mode": {
    "name": "ipython",
    "version": 3
   },
   "file_extension": ".py",
   "mimetype": "text/x-python",
   "name": "python",
   "nbconvert_exporter": "python",
   "pygments_lexer": "ipython3",
   "version": "3.7.4"
  }
 },
 "nbformat": 4,
 "nbformat_minor": 2
}
