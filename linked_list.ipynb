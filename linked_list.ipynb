{
 "cells": [
  {
   "cell_type": "code",
   "execution_count": 1,
   "metadata": {},
   "outputs": [],
   "source": [
    "class Node:\n",
    "    def __init__(self, value):\n",
    "        self.value = value\n",
    "        self.next = None\n",
    "        \n",
    "class LinkedList:\n",
    "    def __init__(self):\n",
    "        self.head = None\n",
    "        \n",
    "    def create_linked_list(self, arr):\n",
    "        if len(arr)==0:\n",
    "            print(\"list size is 0\")\n",
    "            return\n",
    "        \n",
    "        self.head = Node(arr[0])\n",
    "        node = self.head\n",
    "        \n",
    "        for i in arr[1:]:\n",
    "            node.next = Node(i)\n",
    "            node = node.next\n",
    "    \n",
    "    def printNode(self):\n",
    "        if self.head is None:\n",
    "            print(\"None value\")\n",
    "            return\n",
    "        node = self.head\n",
    "        while node:\n",
    "            print(node.value, end=' ')\n",
    "            node = node.next\n",
    "    \n",
    "    def append_to_end(self, a_value):\n",
    "        if self.head is None:\n",
    "            node = Node(a_node)\n",
    "            return\n",
    "        node = self.head\n",
    "        while node.next:\n",
    "            node = node.next\n",
    "        node.next = Node(a_value)\n",
    "        \n",
    "    def push_to_front(self, p_value):\n",
    "        if self.head is None:\n",
    "            self.head = Node(p_value)\n",
    "            return \n",
    "        node = Node(p_value)\n",
    "        node.next = self.head\n",
    "        self.head = node\n",
    "        \n",
    "    def reverse(self):\n",
    "        prev = None\n",
    "        current = self.head\n",
    "        \n",
    "        while (current is not None):\n",
    "            next_ = current.next\n",
    "            current.next = prev\n",
    "            prev = current\n",
    "            current = next_\n",
    "            \n",
    "        self.head = prev\n",
    "    \n",
    "    def delete_node(self, d_value):\n",
    "        if self.head.value == d_value:\n",
    "            node = self.head\n",
    "            self.head = self.head.next\n",
    "            node = None\n",
    "            return \n",
    "        \n",
    "        previous = None\n",
    "        current = self.head\n",
    "        \n",
    "        while current:\n",
    "            if current.value == d_value:\n",
    "                previous.next = current.next\n",
    "                current = None\n",
    "                break\n",
    "            previous = current\n",
    "            current = current.next\n",
    "            \n",
    "    def swap(self, a_value, b_value):\n",
    "        if self.head is None:\n",
    "            print(\"Linked list is not created\")\n",
    "            return \n",
    "\n",
    "        previous = None\n",
    "        current = self.head\n",
    "        \n",
    "        while current:\n",
    "            if current.value == a_value:\n",
    "                a_previous = previous\n",
    "                a_current = current\n",
    "                a_next = current.next\n",
    "            elif current.value == b_value:\n",
    "                b_previous = previous\n",
    "                b_current = current\n",
    "                b_next = current.next\n",
    "            \n",
    "            previous = current\n",
    "            current = current.next\n",
    "            \n",
    "        b_previous.next = a_current\n",
    "        a_current.next = b_next\n",
    "        \n",
    "        a_previous.next = b_current\n",
    "        b_current.next = a_next"
   ]
  },
  {
   "cell_type": "code",
   "execution_count": 2,
   "metadata": {},
   "outputs": [
    {
     "name": "stdout",
     "output_type": "stream",
     "text": [
      "1 2 3 4 5 6 7 8 9 "
     ]
    }
   ],
   "source": [
    "llist = LinkedList()\n",
    "list_ = [i for i in range(1,10)]\n",
    "head = llist.create_linked_list(list_)\n",
    "llist.printNode()"
   ]
  },
  {
   "cell_type": "code",
   "execution_count": 3,
   "metadata": {},
   "outputs": [
    {
     "name": "stdout",
     "output_type": "stream",
     "text": [
      "1 2 3 4 5 6 7 8 9 10 "
     ]
    }
   ],
   "source": [
    "llist.append_to_end(10)\n",
    "llist.printNode()"
   ]
  },
  {
   "cell_type": "code",
   "execution_count": 4,
   "metadata": {},
   "outputs": [
    {
     "name": "stdout",
     "output_type": "stream",
     "text": [
      "0 1 2 3 4 5 6 7 8 9 10 "
     ]
    }
   ],
   "source": [
    "llist.push_to_front(0)\n",
    "llist.printNode()"
   ]
  },
  {
   "cell_type": "code",
   "execution_count": 5,
   "metadata": {},
   "outputs": [
    {
     "name": "stdout",
     "output_type": "stream",
     "text": [
      "0 1 2 4 5 6 7 8 9 10 "
     ]
    }
   ],
   "source": [
    "llist.delete_node(3)\n",
    "llist.printNode()"
   ]
  },
  {
   "cell_type": "code",
   "execution_count": 6,
   "metadata": {},
   "outputs": [
    {
     "name": "stdout",
     "output_type": "stream",
     "text": [
      "0 1 10 4 5 6 7 8 9 2 "
     ]
    }
   ],
   "source": [
    "llist.swap(10, 2)\n",
    "llist.printNode()"
   ]
  },
  {
   "cell_type": "code",
   "execution_count": 7,
   "metadata": {},
   "outputs": [
    {
     "name": "stdout",
     "output_type": "stream",
     "text": [
      "2 9 8 7 6 5 4 10 1 0 "
     ]
    }
   ],
   "source": [
    "llist.reverse()\n",
    "llist.printNode()"
   ]
  },
  {
   "cell_type": "code",
   "execution_count": null,
   "metadata": {},
   "outputs": [],
   "source": []
  }
 ],
 "metadata": {
  "kernelspec": {
   "display_name": "Python 3",
   "language": "python",
   "name": "python3"
  },
  "language_info": {
   "codemirror_mode": {
    "name": "ipython",
    "version": 3
   },
   "file_extension": ".py",
   "mimetype": "text/x-python",
   "name": "python",
   "nbconvert_exporter": "python",
   "pygments_lexer": "ipython3",
   "version": "3.7.4"
  }
 },
 "nbformat": 4,
 "nbformat_minor": 2
}
