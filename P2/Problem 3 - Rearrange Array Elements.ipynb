{
 "cells": [
  {
   "cell_type": "code",
   "execution_count": 1,
   "metadata": {},
   "outputs": [],
   "source": [
    "# Rearrange Array Elements so as to form two number such that their sum is maximum. \n",
    "# Return these two numbers. You can assume that all array elements are in the range [0, 9]. \n",
    "# The number of digits in both the numbers cannot differ by more than 1. \n",
    "# You're not allowed to use any sorting function that Python provides \n",
    "# and the expected time complexity is O(nlog(n))"
   ]
  },
  {
   "cell_type": "code",
   "execution_count": 15,
   "metadata": {},
   "outputs": [],
   "source": [
    "def mergesort(items):\n",
    "\n",
    "    if len(items) <= 1:\n",
    "        return items\n",
    "    \n",
    "    mid = len(items) // 2\n",
    "    left = items[:mid]\n",
    "    right = items[mid:]\n",
    "    \n",
    "    left = mergesort(left)\n",
    "    right = mergesort(right)\n",
    "    \n",
    "    return merge(left, right)\n",
    "    \n",
    "def merge(left, right):\n",
    "    \n",
    "    merged = []\n",
    "    left_index = 0\n",
    "    right_index = 0\n",
    "    \n",
    "    while left_index < len(left) and right_index < len(right):\n",
    "        if left[left_index] < right[right_index]:\n",
    "            merged.append(right[right_index])\n",
    "            right_index += 1\n",
    "        else:\n",
    "            merged.append(left[left_index])\n",
    "            left_index += 1\n",
    "\n",
    "    merged += left[left_index:]\n",
    "    merged += right[right_index:]\n",
    "        \n",
    "    return merged\n",
    "\n",
    "def rearrange_digits(input_list):\n",
    "    \n",
    "    if len(input_list) == 0:\n",
    "        return [-1]\n",
    "    \n",
    "    sorted_list =  mergesort(input_list)\n",
    "    \n",
    "    digit1 = ''\n",
    "    digit2 = ''\n",
    "            \n",
    "    for i in range(len(sorted_list)):\n",
    "        if i % 2 == 0:\n",
    "            digit1 += str(sorted_list[i])\n",
    "        else:\n",
    "            digit2 += str(sorted_list[i])\n",
    "    return [int(digit1), int(digit2)]"
   ]
  },
  {
   "cell_type": "code",
   "execution_count": 23,
   "metadata": {},
   "outputs": [
    {
     "name": "stdout",
     "output_type": "stream",
     "text": [
      "Pass\n",
      "Pass\n",
      "Pass\n"
     ]
    }
   ],
   "source": [
    "def test_function(test_case):\n",
    "    output = rearrange_digits(test_case[0])\n",
    "    solution = test_case[1]\n",
    "    if sum(output) == sum(solution):\n",
    "        print(\"Pass\")\n",
    "    else:\n",
    "        print(\"Fail\")\n",
    "\n",
    "# tests 1-3\n",
    "test_function([[1, 2, 3, 4, 5], [531, 42]])\n",
    "# Answer: [531, 42]\n",
    "\n",
    "test_function([[4, 6, 2, 5, 9, 8], [964, 852]])\n",
    "# Answer: [964, 852]\n",
    "\n",
    "test_function([[0, 6, 9, 3, 7, 8, 1], [9730, 861]])\n",
    "# Answer: [9730, 861]"
   ]
  },
  {
   "cell_type": "code",
   "execution_count": 24,
   "metadata": {},
   "outputs": [
    {
     "name": "stdout",
     "output_type": "stream",
     "text": [
      "Pass\n",
      "Pass\n"
     ]
    }
   ],
   "source": [
    "# edge tests - empty list\n",
    "test_function([[], [-1]])\n",
    "# Answer: [-1]\n",
    "\n",
    "# edge tests - large number\n",
    "test_function([[0, 4, 8, 9, 1, 2, 6, 3, 7, 5], [97531, 86420]])\n",
    "# Answer: [97531, 86420]"
   ]
  },
  {
   "cell_type": "code",
   "execution_count": null,
   "metadata": {},
   "outputs": [],
   "source": []
  }
 ],
 "metadata": {
  "kernelspec": {
   "display_name": "Python 3",
   "language": "python",
   "name": "python3"
  },
  "language_info": {
   "codemirror_mode": {
    "name": "ipython",
    "version": 3
   },
   "file_extension": ".py",
   "mimetype": "text/x-python",
   "name": "python",
   "nbconvert_exporter": "python",
   "pygments_lexer": "ipython3",
   "version": "3.7.4"
  }
 },
 "nbformat": 4,
 "nbformat_minor": 2
}
