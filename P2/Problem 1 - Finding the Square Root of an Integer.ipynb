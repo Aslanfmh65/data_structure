{
 "cells": [
  {
   "cell_type": "code",
   "execution_count": 1,
   "metadata": {},
   "outputs": [],
   "source": [
    "# Requirement:\n",
    "# Find the square root of the integer WITHOUT using any Python library. \n",
    "# You have to find the floor value of the square root.\n",
    "# For example if the given number is 16, then the answer would be 4\n",
    "# If the given number is 27, the answer would be 5 because sqrt(5) = 5.196 whose floor value is 5.\n",
    "# The expected time complexity is O(log(n))"
   ]
  },
  {
   "cell_type": "code",
   "execution_count": 19,
   "metadata": {},
   "outputs": [],
   "source": [
    "def sqrt(number):\n",
    "    if number == None:\n",
    "        return None\n",
    "    elif number == 0:\n",
    "        return 0\n",
    "    elif number == 1:\n",
    "        return 1 \n",
    "    elif type(number) is not int:\n",
    "        return False\n",
    "    \n",
    "    head = number\n",
    "    half = number // 2\n",
    "    tail = 0\n",
    "    \n",
    "    while True:\n",
    "        if (head - half) == 1 and (half**2 < number):\n",
    "            return half\n",
    "        half = (head - tail)//2 + tail\n",
    "        if half**2 > number:\n",
    "            head = half\n",
    "            continue\n",
    "        elif half**2 < number:\n",
    "            tail = half\n",
    "            half = (head - tail)//2 + tail\n",
    "            continue\n",
    "        else:\n",
    "            return half"
   ]
  },
  {
   "cell_type": "code",
   "execution_count": 29,
   "metadata": {},
   "outputs": [
    {
     "name": "stdout",
     "output_type": "stream",
     "text": [
      "Pass\n",
      "Pass\n",
      "Pass\n",
      "Pass\n",
      "Pass\n"
     ]
    }
   ],
   "source": [
    "# tests 1-5\n",
    "print (\"Pass\" if  (3 == sqrt(9)) else \"Fail\")\n",
    "# answer: 3\n",
    "\n",
    "print (\"Pass\" if  (0 == sqrt(0)) else \"Fail\")\n",
    "# answer: 0\n",
    "\n",
    "print (\"Pass\" if  (4 == sqrt(16)) else \"Fail\")\n",
    "# answer: 4\n",
    "\n",
    "print (\"Pass\" if  (1 == sqrt(1)) else \"Fail\")\n",
    "# answer: 1\n",
    "\n",
    "print (\"Pass\" if  (5 == sqrt(27)) else \"Fail\")\n",
    "# answer: 5"
   ]
  },
  {
   "cell_type": "code",
   "execution_count": 30,
   "metadata": {},
   "outputs": [
    {
     "name": "stdout",
     "output_type": "stream",
     "text": [
      "Pass\n",
      "Pass\n",
      "Pass\n",
      "Pass\n",
      "Pass\n"
     ]
    }
   ],
   "source": [
    "# tests 6-10\n",
    "print (\"Pass\" if  (9 == sqrt(81)) else \"Fail\")\n",
    "# answer: 9\n",
    "\n",
    "print (\"Pass\" if  (9 == sqrt(90)) else \"Fail\")\n",
    "# answer: 9\n",
    "\n",
    "print (\"Pass\" if  (31 == sqrt(1000)) else \"Fail\")\n",
    "# answer: 31\n",
    "\n",
    "print (\"Pass\" if  (2995 == sqrt(8972573)) else \"Fail\")\n",
    "# answer: 2995\n",
    "\n",
    "print (\"Pass\" if  (35136 == sqrt(1234567890)) else \"Fail\")\n",
    "# answer: 35136"
   ]
  },
  {
   "cell_type": "code",
   "execution_count": 31,
   "metadata": {},
   "outputs": [
    {
     "name": "stdout",
     "output_type": "stream",
     "text": [
      "Pass\n",
      "Pass\n"
     ]
    }
   ],
   "source": [
    "# edge test 1-2\n",
    "print (\"Pass\" if  (None == sqrt(None)) else \"Fail\") # empty test\n",
    "# answer: None\n",
    "\n",
    "print (\"Pass\" if  (False == sqrt(\"string\")) else \"Fail\") # null/invalid input test\n",
    "# answer: False"
   ]
  },
  {
   "cell_type": "code",
   "execution_count": null,
   "metadata": {},
   "outputs": [],
   "source": []
  }
 ],
 "metadata": {
  "kernelspec": {
   "display_name": "Python 3",
   "language": "python",
   "name": "python3"
  },
  "language_info": {
   "codemirror_mode": {
    "name": "ipython",
    "version": 3
   },
   "file_extension": ".py",
   "mimetype": "text/x-python",
   "name": "python",
   "nbconvert_exporter": "python",
   "pygments_lexer": "ipython3",
   "version": "3.7.4"
  }
 },
 "nbformat": 4,
 "nbformat_minor": 2
}
