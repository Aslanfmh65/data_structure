{
 "cells": [
  {
   "cell_type": "code",
   "execution_count": 32,
   "metadata": {},
   "outputs": [],
   "source": [
    "## Represents a single node in the Trie\n",
    "class TrieNode:\n",
    "    def __init__(self):\n",
    "        ## Initialize this node in the Trie\n",
    "        self.string = [None]*26\n",
    "        self.value = [None]*26\n",
    "        self.last_char = False\n",
    "    \n",
    "    def insert(self, char):\n",
    "        ## Add a child node in this Trie\n",
    "        index = ord(char)-ord('a')\n",
    "        self.string[index] = TrieNode()\n",
    "        self.value[index] = char\n",
    "        \n",
    "    def suffixes(self, suffix=''):\n",
    "        \n",
    "        words = []\n",
    "        \n",
    "        if (self.last_char is True) and (suffix != ''):\n",
    "            words.append(suffix)\n",
    "\n",
    "        for i in range(len(self.string)):\n",
    "            if self.string[i] is not None:\n",
    "                char = self.value[i]\n",
    "                words.extend(self.string[i].suffixes(suffix=suffix+char))\n",
    "        return words\n",
    "    \n",
    "        \n",
    "## The Trie itself containing the root node and insert/find functions\n",
    "class Trie:\n",
    "    def __init__(self):\n",
    "        ## Initialize this Trie (add a root node)\n",
    "        self.root = TrieNode()\n",
    "\n",
    "    def insert(self, word):\n",
    "        ## Add a word to the Trie\n",
    "        node = self.root\n",
    "        for i in range(len(word)):\n",
    "            index = ord(word[i])-ord('a')\n",
    "            if node.string[index] is None:\n",
    "                node.insert(word[i])\n",
    "            node = node.string[index] \n",
    "        node.last_char = True\n",
    "                \n",
    "\n",
    "    def find(self, prefix):\n",
    "        ## Find the Trie node that represents this prefix\n",
    "        \n",
    "        if len(prefix) == 0:\n",
    "            return False\n",
    "        node = self.root\n",
    "        print_value = []\n",
    "        for i in range(len(prefix)):\n",
    "            index = ord(prefix[i])-ord('a')\n",
    "            if node.string[index] is None:\n",
    "                return False\n",
    "            print_value.append(node.value[index])\n",
    "            node = node.string[index]\n",
    "        print(''.join(print_value))\n",
    "        return node"
   ]
  },
  {
   "cell_type": "code",
   "execution_count": 33,
   "metadata": {},
   "outputs": [
    {
     "name": "stdout",
     "output_type": "stream",
     "text": [
      "ant\n",
      "True\n",
      "f\n",
      "True\n",
      "tri\n",
      "True\n"
     ]
    }
   ],
   "source": [
    "MyTrie = Trie()\n",
    "wordList = [\n",
    "    \"ant\", \"anthology\", \"antagonist\", \"antonym\", \n",
    "    \"fun\", \"function\", \"factory\", \n",
    "    \"trie\", \"trigger\", \"trigonometry\", \"tripod\"\n",
    "]\n",
    "\n",
    "for word in wordList:\n",
    "    MyTrie.insert(word)\n",
    "        \n",
    "\n",
    "# test 1  \n",
    "test1 = 'ant'\n",
    "results = []\n",
    "pre = MyTrie.find(test1)\n",
    "results.append(pre.suffixes())\n",
    "print(results[0] == ['agonist', 'hology', 'onym'])\n",
    "\n",
    "# test 2\n",
    "test2 = 'f'\n",
    "results = []\n",
    "pre = MyTrie.find(test2)\n",
    "results.append(pre.suffixes())\n",
    "print(results[0] == ['actory', 'un', 'unction'])\n",
    "\n",
    "# test 3\n",
    "test3 = 'tri'\n",
    "results = []\n",
    "pre = MyTrie.find(test3)\n",
    "results.append(pre.suffixes())\n",
    "print(results[0] == ['e', 'gger', 'gonometry', 'pod'])"
   ]
  },
  {
   "cell_type": "code",
   "execution_count": 35,
   "metadata": {},
   "outputs": [
    {
     "name": "stdout",
     "output_type": "stream",
     "text": [
      "True\n",
      "True\n"
     ]
    }
   ],
   "source": [
    "# edge test 1 - the prefix that doesn't exist in stored trie\n",
    "test3 = 'sw'\n",
    "pre = MyTrie.find(test3)\n",
    "print(pre == False)\n",
    "\n",
    "# edge test 2 - empty input\n",
    "test4 = ''\n",
    "pre = MyTrie.find(test4)\n",
    "print(pre == False)"
   ]
  },
  {
   "cell_type": "code",
   "execution_count": 5,
   "metadata": {},
   "outputs": [],
   "source": [
    "from ipywidgets import widgets\n",
    "from IPython.display import display\n",
    "from ipywidgets import interact\n",
    "def f(prefix):\n",
    "    if prefix != '':\n",
    "        prefixNode = MyTrie.find(prefix)\n",
    "        if prefixNode:\n",
    "            print('\\n'.join(prefixNode.suffixes()))\n",
    "        else:\n",
    "            print(prefix + \" not found\")\n",
    "    else:\n",
    "        print('')\n",
    "interact(f,prefix='');"
   ]
  },
  {
   "cell_type": "code",
   "execution_count": null,
   "metadata": {},
   "outputs": [],
   "source": []
  }
 ],
 "metadata": {
  "kernelspec": {
   "display_name": "Python 3",
   "language": "python",
   "name": "python3"
  },
  "language_info": {
   "codemirror_mode": {
    "name": "ipython",
    "version": 3
   },
   "file_extension": ".py",
   "mimetype": "text/x-python",
   "name": "python",
   "nbconvert_exporter": "python",
   "pygments_lexer": "ipython3",
   "version": "3.7.4"
  }
 },
 "nbformat": 4,
 "nbformat_minor": 2
}
