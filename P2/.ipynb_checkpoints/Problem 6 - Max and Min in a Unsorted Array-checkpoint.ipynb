{
 "cells": [
  {
   "cell_type": "code",
   "execution_count": 1,
   "metadata": {},
   "outputs": [],
   "source": [
    "# In this problem, we will look for smallest and largest integer from a list of unsorted integers.\n",
    "# The code should run in O(n) time. Do not use Python's inbuilt functions to find min and max.\n",
    "\n",
    "# Bonus Challenge: Is it possible to find the max and min in a single traversal?"
   ]
  },
  {
   "cell_type": "code",
   "execution_count": 2,
   "metadata": {},
   "outputs": [],
   "source": [
    "## Example Test Case of Ten Integers\n",
    "import random"
   ]
  },
  {
   "cell_type": "code",
   "execution_count": 23,
   "metadata": {},
   "outputs": [],
   "source": [
    "def get_min_max(l):\n",
    "    \n",
    "    if len(l) == 0:\n",
    "        return False\n",
    "    \n",
    "    small = 100000000000000\n",
    "    large = 0\n",
    "    \n",
    "    for i in l:\n",
    "        if i <= small:\n",
    "            small = i\n",
    "        elif i >= large:\n",
    "            large = i\n",
    " \n",
    "    return (small,large)"
   ]
  },
  {
   "cell_type": "code",
   "execution_count": 24,
   "metadata": {},
   "outputs": [
    {
     "name": "stdout",
     "output_type": "stream",
     "text": [
      "Pass\n"
     ]
    }
   ],
   "source": [
    "# test 1\n",
    "l = [i for i in range(0, 10)]  # a list containing 0 - 9\n",
    "random.shuffle(l)\n",
    "print (\"Pass\" if ((0, 9) == get_min_max(l)) else \"Fail\")\n",
    "# Answer: (0, 9)"
   ]
  },
  {
   "cell_type": "code",
   "execution_count": 25,
   "metadata": {},
   "outputs": [
    {
     "name": "stdout",
     "output_type": "stream",
     "text": [
      "Pass\n"
     ]
    }
   ],
   "source": [
    "# test 2\n",
    "l = [i for i in range(10, 20)]  # a list containing 0 - 9\n",
    "random.shuffle(l)\n",
    "print (\"Pass\" if ((10, 19) == get_min_max(l)) else \"Fail\")\n",
    "# Answer: (10, 19)"
   ]
  },
  {
   "cell_type": "code",
   "execution_count": 26,
   "metadata": {},
   "outputs": [
    {
     "name": "stdout",
     "output_type": "stream",
     "text": [
      "Pass\n"
     ]
    }
   ],
   "source": [
    "# test 3\n",
    "l = [i for i in range(20, 40)]  # a list containing 0 - 9\n",
    "random.shuffle(l)\n",
    "print (\"Pass\" if ((20, 39) == get_min_max(l)) else \"Fail\")\n",
    "# Answer: (20, 39)"
   ]
  },
  {
   "cell_type": "code",
   "execution_count": 29,
   "metadata": {},
   "outputs": [
    {
     "name": "stdout",
     "output_type": "stream",
     "text": [
      "Pass\n"
     ]
    }
   ],
   "source": [
    "# edge test 1 - emput input\n",
    "l = []\n",
    "random.shuffle(l)\n",
    "print (\"Pass\" if (False == get_min_max(l)) else \"Fail\")\n",
    "# Answer: False"
   ]
  },
  {
   "cell_type": "code",
   "execution_count": 31,
   "metadata": {},
   "outputs": [
    {
     "name": "stdout",
     "output_type": "stream",
     "text": [
      "Pass\n"
     ]
    }
   ],
   "source": [
    "# edge test 2 - large input\n",
    "l = [i for i in range(0, 1000000)]\n",
    "random.shuffle(l)\n",
    "print (\"Pass\" if ((0,999999) == get_min_max(l)) else \"Fail\")\n",
    "# Answer: (0,999999)"
   ]
  },
  {
   "cell_type": "code",
   "execution_count": null,
   "metadata": {},
   "outputs": [],
   "source": []
  }
 ],
 "metadata": {
  "kernelspec": {
   "display_name": "Python 3",
   "language": "python",
   "name": "python3"
  },
  "language_info": {
   "codemirror_mode": {
    "name": "ipython",
    "version": 3
   },
   "file_extension": ".py",
   "mimetype": "text/x-python",
   "name": "python",
   "nbconvert_exporter": "python",
   "pygments_lexer": "ipython3",
   "version": "3.7.4"
  }
 },
 "nbformat": 4,
 "nbformat_minor": 2
}
