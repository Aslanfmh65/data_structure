{
 "cells": [
  {
   "cell_type": "code",
   "execution_count": 96,
   "metadata": {},
   "outputs": [],
   "source": [
    "## Requirement\n",
    "# You are given a sorted array which is rotated at some random pivot point\n",
    "# Example: [0,1,2,4,5,6,7] might become [4,5,6,7,0,1,2]\n",
    "# You are given a target value to search. If found in the array return its index, otherwise return -1.\n",
    "# You can assume there are no duplicates in the array and your algorithm's runtime complexity must be \n",
    "# in the order of O(log n).\n",
    "\n",
    "# Example:\n",
    "# Input: nums = [4,5,6,7,0,1,2], target = 0, Output: 4"
   ]
  },
  {
   "cell_type": "code",
   "execution_count": 97,
   "metadata": {},
   "outputs": [],
   "source": [
    "def rotated_array_search(arr, target):\n",
    "    pivot_index = find_pivot(arr, 0, len(arr)-1)\n",
    "    \n",
    "    if arr[pivot_index] <= target and arr[-1] >= target:\n",
    "        arr = arr[pivot_index:]\n",
    "        output = binary_search(arr, 0, len(arr), target)\n",
    "        return output+pivot_index\n",
    "        \n",
    "    elif arr[pivot_index] < target and arr[pivot_index-1] >= target:\n",
    "        arr = arr[:pivot_index]\n",
    "        output = binary_search(arr, 0, len(arr), target)\n",
    "        return output\n",
    "    \n",
    "    else:\n",
    "        return -1\n",
    "\n",
    "def find_pivot(arr, head, tail):\n",
    "    \n",
    "    if head > tail:\n",
    "        return -1\n",
    "    elif head == tail:\n",
    "        return tail\n",
    "    \n",
    "    mid = (head+tail)//2\n",
    "    \n",
    "    if arr[mid]>arr[mid+1]:\n",
    "        return mid+1\n",
    "    elif arr[mid] < arr[mid-1]:\n",
    "        return mid\n",
    "    elif arr[head] <= arr[mid]:\n",
    "        return find_pivot(arr, head, mid-1)\n",
    "    else:\n",
    "        return find_pivot(arr, mid+1, tail)\n",
    "        \n",
    "def binary_search(arr, head, tail, target):\n",
    "    mid = (head+tail)//2\n",
    "    \n",
    "    if arr[mid] == target:\n",
    "        return mid\n",
    "    \n",
    "    elif arr[mid] > target:\n",
    "        return binary_search(arr, head, mid, target)\n",
    "        \n",
    "    elif arr[mid] < target:\n",
    "        return binary_search(arr, mid, tail, target)\n",
    "        \n",
    "    else:\n",
    "        return -1"
   ]
  },
  {
   "cell_type": "code",
   "execution_count": 98,
   "metadata": {},
   "outputs": [
    {
     "name": "stdout",
     "output_type": "stream",
     "text": [
      "Pass\n",
      "Pass\n",
      "Pass\n",
      "Pass\n",
      "Pass\n"
     ]
    }
   ],
   "source": [
    "def linear_search(input_list, number):\n",
    "    for index, element in enumerate(input_list):\n",
    "        if element == number:\n",
    "            return index\n",
    "    return -1\n",
    "\n",
    "def test_function(test_case):\n",
    "    input_list = test_case[0]\n",
    "    number = test_case[1]\n",
    "    if linear_search(input_list, number) == rotated_array_search(input_list, number):\n",
    "        print(\"Pass\")\n",
    "    else:\n",
    "        print(\"Fail\")\n",
    "\n",
    "test_function([[6, 7, 8, 9, 10, 1, 2, 3, 4], 6])\n",
    "test_function([[6, 7, 8, 9, 10, 1, 2, 3, 4], 1])\n",
    "test_function([[6, 7, 8, 1, 2, 3, 4], 8])\n",
    "test_function([[6, 7, 8, 1, 2, 3, 4], 1])\n",
    "test_function([[6, 7, 8, 1, 2, 3, 4], 10])"
   ]
  },
  {
   "cell_type": "code",
   "execution_count": null,
   "metadata": {},
   "outputs": [],
   "source": []
  }
 ],
 "metadata": {
  "kernelspec": {
   "display_name": "Python 3",
   "language": "python",
   "name": "python3"
  },
  "language_info": {
   "codemirror_mode": {
    "name": "ipython",
    "version": 3
   },
   "file_extension": ".py",
   "mimetype": "text/x-python",
   "name": "python",
   "nbconvert_exporter": "python",
   "pygments_lexer": "ipython3",
   "version": "3.7.4"
  }
 },
 "nbformat": 4,
 "nbformat_minor": 2
}
