{
 "cells": [
  {
   "cell_type": "code",
   "execution_count": 1,
   "metadata": {},
   "outputs": [],
   "source": [
    "## Requirement\n",
    "# You are given a sorted array which is rotated at some random pivot point\n",
    "# Example: [0,1,2,4,5,6,7] might become [4,5,6,7,0,1,2]\n",
    "# You are given a target value to search. If found in the array return its index, otherwise return -1.\n",
    "# You can assume there are no duplicates in the array and your algorithm's runtime complexity must be \n",
    "# in the order of O(log n).\n",
    "\n",
    "# Example:\n",
    "# Input: nums = [4,5,6,7,0,1,2], target = 0, Output: 4"
   ]
  },
  {
   "cell_type": "code",
   "execution_count": 1,
   "metadata": {},
   "outputs": [],
   "source": [
    "def rotated_array_search(input_list, number):\n",
    "    pass"
   ]
  },
  {
   "cell_type": "code",
   "execution_count": 3,
   "metadata": {},
   "outputs": [],
   "source": [
    "list1 = [4,5,6,7,0,1,2]\n",
    "target1 = 0 \n",
    "output1 = 4"
   ]
  },
  {
   "cell_type": "code",
   "execution_count": 6,
   "metadata": {},
   "outputs": [
    {
     "data": {
      "text/plain": [
       "7"
      ]
     },
     "execution_count": 6,
     "metadata": {},
     "output_type": "execute_result"
    }
   ],
   "source": [
    "list1[len(list1)//2]"
   ]
  },
  {
   "cell_type": "code",
   "execution_count": 9,
   "metadata": {},
   "outputs": [],
   "source": [
    "start_ix = 0\n",
    "end_ix = len(list1)-1\n",
    "\n",
    "while True:\n",
    "    sub_list = list1[start_ix:end_ix]\n",
    "    mid_index = len(sub_list)//2\n",
    "    before_value = list1[mid_index-1]\n",
    "    after_value = list1[mid_index+1]\n",
    "    value = list1[mid_index]\n",
    "    \n",
    "    before = value - before_value\n",
    "    after = after_value - value\n",
    "    \n",
    "    if before < 0 :\n",
    "        "
   ]
  },
  {
   "cell_type": "code",
   "execution_count": null,
   "metadata": {},
   "outputs": [],
   "source": []
  }
 ],
 "metadata": {
  "kernelspec": {
   "display_name": "Python 3",
   "language": "python",
   "name": "python3"
  },
  "language_info": {
   "codemirror_mode": {
    "name": "ipython",
    "version": 3
   },
   "file_extension": ".py",
   "mimetype": "text/x-python",
   "name": "python",
   "nbconvert_exporter": "python",
   "pygments_lexer": "ipython3",
   "version": "3.7.4"
  }
 },
 "nbformat": 4,
 "nbformat_minor": 2
}
