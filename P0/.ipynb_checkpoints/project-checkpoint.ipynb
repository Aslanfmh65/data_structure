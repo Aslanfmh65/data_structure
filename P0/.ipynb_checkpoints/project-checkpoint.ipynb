{
 "cells": [
  {
   "cell_type": "markdown",
   "metadata": {},
   "source": [
    "## Read file"
   ]
  },
  {
   "cell_type": "code",
   "execution_count": 1,
   "metadata": {},
   "outputs": [],
   "source": [
    "\"\"\"\n",
    "Read file into texts and calls.\n",
    "\"\"\"\n",
    "import csv\n",
    "with open('texts.csv', 'r') as f:\n",
    "    reader = csv.reader(f)\n",
    "    texts = list(reader)\n",
    "\n",
    "with open('calls.csv', 'r') as f:\n",
    "    reader = csv.reader(f)\n",
    "    calls = list(reader)"
   ]
  },
  {
   "cell_type": "markdown",
   "metadata": {},
   "source": [
    "## Task 0"
   ]
  },
  {
   "cell_type": "code",
   "execution_count": 2,
   "metadata": {},
   "outputs": [
    {
     "name": "stdout",
     "output_type": "stream",
     "text": [
      "First record of texts, 97424 22395 texts 90365 06212 at time 01-09-2016 06:03:22\n",
      "Last record of calls, 98447 62998 calls (080)46304537 at time 30-09-2016 23:57:15, lasting 2151 seconds\n",
      "------------------------------------------------------\n",
      "CPU times: user 2 µs, sys: 1 µs, total: 3 µs\n",
      "Wall time: 5.01 µs\n",
      "------------------------------------------------------\n",
      "Big O notation = 1\n"
     ]
    }
   ],
   "source": [
    "\"\"\"\n",
    "TASK 0:\n",
    "What is the first record of texts and what is the last record of calls?\n",
    "Print messages:\n",
    "\"First record of texts, <incoming number> texts <answering number> at time <time>\"\n",
    "\"Last record of calls, <incoming number> calls <answering number> at time <time>, lasting <during> seconds\"\n",
    "\"\"\"\n",
    "first_text = texts[0]\n",
    "last_call = calls[-1]\n",
    "print(\"First record of texts, {} texts {} at time {}\".format(first_text[0], first_text[1], first_text[2]))\n",
    "print(\"Last record of calls, {} calls {} at time {}, lasting {} seconds\"\\\n",
    "      .format(last_call[0], last_call[1], last_call[2], last_call[3]))\n",
    "\n",
    "print(\"------------------------------------------------------\")\n",
    "%time\n",
    "print(\"------------------------------------------------------\")\n",
    "print(\"Big O notation = 1\")"
   ]
  },
  {
   "cell_type": "markdown",
   "metadata": {},
   "source": [
    "## Task 1 "
   ]
  },
  {
   "cell_type": "code",
   "execution_count": 3,
   "metadata": {},
   "outputs": [
    {
     "name": "stdout",
     "output_type": "stream",
     "text": [
      "There are 570 different telephone numbers in the records\n",
      "------------------------------------------------------\n",
      "CPU times: user 2 µs, sys: 1 µs, total: 3 µs\n",
      "Wall time: 5.01 µs\n",
      "------------------------------------------------------\n",
      "Big O notation = n^2\n"
     ]
    }
   ],
   "source": [
    "\"\"\"\n",
    "TASK 1:\n",
    "How many different telephone numbers are there in the records? \n",
    "Print a message:\n",
    "\"There are <count> different telephone numbers in the records.\"\n",
    "\"\"\"\n",
    "\n",
    "call_num = [[calls[i][ii] for i in range(len(calls))] for ii in range(2)]\n",
    "text_num = [[texts[i][ii] for i in range(len(texts))] for ii in range(2)]\n",
    "total_num = call_num[0]+call_num[1]+text_num[0]+text_num[1]\n",
    "unique_count = len(list(set(total_num)))\n",
    "print(\"There are {} different telephone numbers in the records\".format(unique_count))\n",
    "\n",
    "print(\"------------------------------------------------------\")\n",
    "%time\n",
    "print(\"------------------------------------------------------\")\n",
    "print(\"Big O notation = n^2\")"
   ]
  },
  {
   "cell_type": "markdown",
   "metadata": {},
   "source": [
    "## Task 2"
   ]
  },
  {
   "cell_type": "code",
   "execution_count": 4,
   "metadata": {},
   "outputs": [
    {
     "name": "stdout",
     "output_type": "stream",
     "text": [
      "90085 20915 spent the longest time, 999 seconds, on the phone with 99002 80226 during September 2016\n",
      "------------------------------------------------------\n",
      "CPU times: user 2 µs, sys: 0 ns, total: 2 µs\n",
      "Wall time: 3.81 µs\n",
      "------------------------------------------------------\n",
      "Big O notation = n^2\n"
     ]
    }
   ],
   "source": [
    "\"\"\"\n",
    "TASK 2: Which telephone number spent the longest time on the phone\n",
    "during the period? Don't forget that time spent answering a call is\n",
    "also time spent on the phone.\n",
    "Print a message:\n",
    "\"<telephone number> spent the longest time, <total time> seconds, on the phone during \n",
    "September 2016.\".\n",
    "\"\"\"\n",
    "\n",
    "call_span = [calls[i][-1] for i in range(len(calls))]\n",
    "call_num = [[calls[i][ii] for i in range(len(calls))] for ii in range(2)]\n",
    "longest_span = max(call_span)\n",
    "out_longest = call_num[0][call_span.index(longest_span)]\n",
    "in_longest = call_num[1][call_span.index(longest_span)]\n",
    "print(\"{} spent the longest time, {} seconds, on the phone with {} during September 2016\"\\\n",
    "      .format(out_longest, longest_span, in_longest))\n",
    "\n",
    "print(\"------------------------------------------------------\")\n",
    "%time\n",
    "print(\"------------------------------------------------------\")\n",
    "print(\"Big O notation = n^2\")"
   ]
  },
  {
   "cell_type": "markdown",
   "metadata": {},
   "source": [
    "## Task 3 "
   ]
  },
  {
   "cell_type": "code",
   "execution_count": 8,
   "metadata": {},
   "outputs": [
    {
     "name": "stdout",
     "output_type": "stream",
     "text": [
      "1568050515.7222981\n",
      "------------------------------------------------------\n",
      "Part A: The numbers called by people in Bangalore have codes:\n",
      "['022', '040', '04344', '044', '04546', '0471', '080', '0821', '7406', '7795', '7813', '7829', '8151', '8152', '8301', '8431', '8714', '9008', '9019', '9035', '9036', '9241', '9242', '9341', '9342', '9343', '9400', '9448', '9449', '9526', '9656', '9738', '9740', '9741', '9742', '9844', '9845', '9900', '9961']\n",
      "------------------------------------------------------\n",
      "Part B: 24.81 % percent of calls from fixed lines in Bangalore are calls to other fixed lines in Bangalore\n",
      "------------------------------------------------------\n",
      "CPU times: user 2 µs, sys: 10 µs, total: 12 µs\n",
      "Wall time: 5.96 µs\n",
      "------------------------------------------------------\n",
      "Big O notation = n\n"
     ]
    }
   ],
   "source": [
    "\"\"\"\n",
    "TASK 3:\n",
    "(080) is the area code for fixed line telephones in Bangalore.\n",
    "Fixed line numbers include parentheses, so Bangalore numbers\n",
    "have the form (080)xxxxxxx.)\n",
    "\n",
    "Part A: Find all of the area codes and mobile prefixes called by people\n",
    "in Bangalore.\n",
    " - Fixed lines start with an area code enclosed in brackets. The area\n",
    "   codes vary in length but always begin with 0.\n",
    " - Mobile numbers have no parentheses, but have a space in the middle\n",
    "   of the number to help readability. The prefix of a mobile number\n",
    "   is its first four digits, and they always start with 7, 8 or 9.\n",
    " - Telemarketers' numbers have no parentheses or space, but they start\n",
    "   with the area code 140.\n",
    "\n",
    "Print the answer as part of a message:\n",
    "\"The numbers called by people in Bangalore have codes:\"\n",
    " <list of codes>\n",
    "The list of codes should be print out one per line in lexicographic order with no duplicates.\n",
    "\"\"\"\n",
    "from timeit import default_timer as timer\n",
    "start = timer()\n",
    "area_codes = []\n",
    "in_banga = 0\n",
    "bn = []\n",
    "called_by_banga = [calls[i][1] for i in range(len(calls)) if calls[i][0][0:5]==\"(080)\"]\n",
    "for num in called_by_banga:\n",
    "    if \"(\" in num:\n",
    "        start = num.index(\"(\")\n",
    "        end = num.index(\")\")\n",
    "        code = num[start+1:end]\n",
    "        area_codes.append(code)\n",
    "        \n",
    "        if code == \"080\":\n",
    "            in_banga += 1\n",
    "            bn.append(num)\n",
    "            \n",
    "    else:\n",
    "        area_codes.append(num[:4]) ## The prefix of a mobile number is its first four digits\n",
    "        \n",
    "end = timer()\n",
    "print(end-start)\n",
    "\n",
    "print(\"------------------------------------------------------\")\n",
    "print(\"Part A: The numbers called by people in Bangalore have codes:\")\n",
    "print(sorted(list(set(area_codes))))\n",
    "\n",
    "\n",
    "\"\"\"\n",
    "Part B: What percentage of calls from fixed lines in Bangalore are made\n",
    "to fixed lines also in Bangalore? In other words, of all the calls made\n",
    "from a number starting with \"(080)\", what percentage of these calls\n",
    "were made to a number also starting with \"(080)\"?\n",
    "\n",
    "Print the answer as a part of a message::\n",
    "\"<percentage> percent of calls from fixed lines in Bangalore are calls\n",
    "to other fixed lines in Bangalore.\"\n",
    "The percentage should have 2 decimal digits\n",
    "\"\"\"\n",
    "\n",
    "print(\"------------------------------------------------------\")\n",
    "\n",
    "print(\"Part B: {0:.2f} % percent of calls from fixed lines in Bangalore \\\n",
    "are calls to other fixed lines in Bangalore\".format((in_banga/len(called_by_banga))*100))\n",
    "\n",
    "print(\"------------------------------------------------------\")\n",
    "%time\n",
    "\n",
    "print(\"------------------------------------------------------\")\n",
    "print(\"Big O notation = n\")"
   ]
  },
  {
   "cell_type": "markdown",
   "metadata": {},
   "source": [
    "## Task 4 "
   ]
  },
  {
   "cell_type": "code",
   "execution_count": 6,
   "metadata": {},
   "outputs": [
    {
     "name": "stdout",
     "output_type": "stream",
     "text": [
      "These numbers could be telemarketers: \n",
      "['(022)37572285', '(022)65548497', '(022)68535788', '(022)69042431', '(040)30429041', '(044)22020822', '(0471)2171438', '(0471)6579079', '(080)20383942', '(080)25820765', '(080)31606520', '(080)40362016', '(080)60463379', '(080)60998034', '(080)62963633', '(080)64015211', '(080)69887826', '(0821)3257740', '1400481538', '1401747654', '1402316533', '1403072432', '1403579926', '1404073047', '1404368883', '1404787681', '1407539117', '1408371942', '1408409918', '1408672243', '1409421631', '1409668775', '1409994233', '74064 66270', '78291 94593', '87144 55014', '90351 90193', '92414 69419', '94495 03761', '97404 30456', '97407 84573', '97442 45192', '99617 25274']\n",
      "------------------------------------------------------\n",
      "CPU times: user 2 µs, sys: 0 ns, total: 2 µs\n",
      "Wall time: 4.05 µs\n",
      "------------------------------------------------------\n",
      "Big O notation = n^4\n"
     ]
    }
   ],
   "source": [
    "\"\"\"\n",
    "TASK 4:\n",
    "The telephone company want to identify numbers that might be doing\n",
    "telephone marketing. Create a set of possible telemarketers:\n",
    "these are numbers that make outgoing calls but never send texts,\n",
    "receive texts or receive incoming calls.\n",
    "\n",
    "Print a message:\n",
    "\"These numbers could be telemarketers: \"\n",
    "<list of numbers>\n",
    "The list of numbers should be print out one per line in lexicographic order with no duplicates.\n",
    "\"\"\"\n",
    "\n",
    "out_call = []\n",
    "in_call = []\n",
    "out_text = []\n",
    "in_text = []\n",
    "tele = []\n",
    "\n",
    "out_call = [calls[i][0] for i in range(len(calls))]\n",
    "in_call = [calls[i][1] for i in range(len(calls))]\n",
    "out_text = [texts[i][0] for i in range(len(texts))]\n",
    "in_text = [texts[i][1] for i in range(len(texts))]\n",
    "\n",
    "for call in out_call:\n",
    "    if (call not in in_call) & (call not in out_text) & (call not in in_text):\n",
    "        tele.append(call)\n",
    "print(\"These numbers could be telemarketers: \")\n",
    "print(sorted(list(set(tele))))\n",
    "\n",
    "print(\"------------------------------------------------------\")\n",
    "%time\n",
    "print(\"------------------------------------------------------\")\n",
    "print(\"Big O notation = n^4\")"
   ]
  },
  {
   "cell_type": "code",
   "execution_count": null,
   "metadata": {},
   "outputs": [],
   "source": []
  }
 ],
 "metadata": {
  "kernelspec": {
   "display_name": "Python 3",
   "language": "python",
   "name": "python3"
  },
  "language_info": {
   "codemirror_mode": {
    "name": "ipython",
    "version": 3
   },
   "file_extension": ".py",
   "mimetype": "text/x-python",
   "name": "python",
   "nbconvert_exporter": "python",
   "pygments_lexer": "ipython3",
   "version": "3.7.1"
  }
 },
 "nbformat": 4,
 "nbformat_minor": 2
}
