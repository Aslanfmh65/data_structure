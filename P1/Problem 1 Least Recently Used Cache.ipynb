{
 "cells": [
  {
   "cell_type": "code",
   "execution_count": 26,
   "metadata": {},
   "outputs": [],
   "source": [
    "class LRU_Cache(object):\n",
    "\n",
    "    def __init__(self, capacity):\n",
    "        self.capacity = capacity\n",
    "        self.dict_ = {}            \n",
    "\n",
    "    def get(self, key):\n",
    "\n",
    "        if key in self.dict_:\n",
    "            return print(self.dict_[key])\n",
    "        else:\n",
    "            return print(-1)\n",
    "\n",
    "    def set_(self, key, value):\n",
    "        \n",
    "        if (len(self.dict_) >= self.capacity):\n",
    "            keys = []\n",
    "            values = []\n",
    "            for key_, value_ in self.dict_.items():\n",
    "                keys.append(key_)\n",
    "                values.append(value_)\n",
    "                \n",
    "            keys.pop(0)\n",
    "            values.pop(0)\n",
    "            \n",
    "            self.dict_ = {key_:value_ for key_, value_ in zip(keys, values)}\n",
    "\n",
    "        if (key not in self.dict_):\n",
    "            self.dict_[key] = value"
   ]
  },
  {
   "cell_type": "code",
   "execution_count": 41,
   "metadata": {},
   "outputs": [
    {
     "name": "stdout",
     "output_type": "stream",
     "text": [
      "1\n",
      "2\n",
      "-1\n",
      "5\n",
      "6\n",
      "-1\n"
     ]
    }
   ],
   "source": [
    "our_cache = LRU_Cache(5)\n",
    "\n",
    "our_cache.set_(1, 1);\n",
    "our_cache.set_(2, 2);\n",
    "our_cache.set_(3, 3);\n",
    "our_cache.set_(4, 4);\n",
    "\n",
    "## Test 1: returns 1\n",
    "our_cache.get(1)\n",
    "\n",
    "## Test 2: returns 2\n",
    "our_cache.get(2) \n",
    "\n",
    "## Test 3: returns -1\n",
    "our_cache.get(9)  \n",
    "\n",
    "# push new element into LRU\n",
    "our_cache.set_(5, 5) \n",
    "our_cache.set_(6, 6)\n",
    "\n",
    "## Test 4: returns 5\n",
    "our_cache.get(5) \n",
    "\n",
    "## Test 5: returns 6\n",
    "our_cache.get(6) \n",
    "\n",
    "## Test 6: returns -1\n",
    "our_cache.get(1) "
   ]
  },
  {
   "cell_type": "code",
   "execution_count": null,
   "metadata": {},
   "outputs": [],
   "source": []
  }
 ],
 "metadata": {
  "kernelspec": {
   "display_name": "Python 3",
   "language": "python",
   "name": "python3"
  },
  "language_info": {
   "codemirror_mode": {
    "name": "ipython",
    "version": 3
   },
   "file_extension": ".py",
   "mimetype": "text/x-python",
   "name": "python",
   "nbconvert_exporter": "python",
   "pygments_lexer": "ipython3",
   "version": "3.7.4"
  }
 },
 "nbformat": 4,
 "nbformat_minor": 2
}
