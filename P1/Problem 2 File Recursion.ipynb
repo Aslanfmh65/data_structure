{
 "cells": [
  {
   "cell_type": "code",
   "execution_count": 1,
   "metadata": {},
   "outputs": [],
   "source": [
    "import os"
   ]
  },
  {
   "cell_type": "code",
   "execution_count": 15,
   "metadata": {},
   "outputs": [],
   "source": [
    "def find_files(suffix, path):\n",
    "    if suffix is None or path is None:\n",
    "        print(\"Empty input\")\n",
    "        return\n",
    "    \n",
    "    elif os.path.exists(path) is False:\n",
    "        print(\"Invalid path\")\n",
    "        return\n",
    "        \n",
    "    contents = os.listdir(path)\n",
    "    \n",
    "    if len(contents) == 0:\n",
    "        return []\n",
    "        \n",
    "    suffix_files = [file for file in contents if suffix in file]\n",
    "        \n",
    "    folder_list = [folder for folder in contents if os.path.isdir(path + '/' + folder) is True]\n",
    "        \n",
    "    for folder in folder_list:\n",
    "        suffix_files.extend(find_files(suffix, path + '/' + folder))    \n",
    "        \n",
    "    return suffix_files"
   ]
  },
  {
   "cell_type": "code",
   "execution_count": 16,
   "metadata": {},
   "outputs": [
    {
     "data": {
      "text/plain": [
       "['t1.c', 'b.c', 'a.c', 'a.c']"
      ]
     },
     "execution_count": 16,
     "metadata": {},
     "output_type": "execute_result"
    }
   ],
   "source": [
    "## Normal test\n",
    "suffix = '.c'\n",
    "path = os.getcwd()\n",
    "find_files(suffix, path)"
   ]
  },
  {
   "cell_type": "code",
   "execution_count": 17,
   "metadata": {},
   "outputs": [
    {
     "name": "stdout",
     "output_type": "stream",
     "text": [
      "Empty input\n"
     ]
    }
   ],
   "source": [
    "## Edge Test 1: empty input\n",
    "suffix = None\n",
    "path = os.getcwd()\n",
    "find_files(suffix, path)"
   ]
  },
  {
   "cell_type": "code",
   "execution_count": 18,
   "metadata": {},
   "outputs": [
    {
     "name": "stdout",
     "output_type": "stream",
     "text": [
      "Invalid path\n"
     ]
    }
   ],
   "source": [
    "## Edge Test 2: invalid address\n",
    "suffix = '.c'\n",
    "path = 'home/user'\n",
    "find_files(suffix, path)"
   ]
  },
  {
   "cell_type": "code",
   "execution_count": null,
   "metadata": {},
   "outputs": [],
   "source": []
  }
 ],
 "metadata": {
  "kernelspec": {
   "display_name": "Python 3",
   "language": "python",
   "name": "python3"
  },
  "language_info": {
   "codemirror_mode": {
    "name": "ipython",
    "version": 3
   },
   "file_extension": ".py",
   "mimetype": "text/x-python",
   "name": "python",
   "nbconvert_exporter": "python",
   "pygments_lexer": "ipython3",
   "version": "3.7.4"
  }
 },
 "nbformat": 4,
 "nbformat_minor": 2
}
