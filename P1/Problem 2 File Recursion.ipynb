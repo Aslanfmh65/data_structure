{
 "cells": [
  {
   "cell_type": "code",
   "execution_count": 1,
   "metadata": {},
   "outputs": [],
   "source": [
    "import os"
   ]
  },
  {
   "cell_type": "code",
   "execution_count": 147,
   "metadata": {},
   "outputs": [],
   "source": [
    "def find_files(suffix, path):\n",
    "    \n",
    "    if os.path.exists(path) is False:\n",
    "        return []\n",
    "        \n",
    "    contents = os.listdir(path)\n",
    "    \n",
    "    if len(contents) == 0:\n",
    "        return []\n",
    "        \n",
    "    suffix_files = [file for file in contents if suffix in file]\n",
    "        \n",
    "    folder_list = [folder for folder in contents if os.path.isdir(path + '/' + folder) is True]\n",
    "        \n",
    "    for folder in folder_list:\n",
    "        suffix_files.extend(find_files(suffix, path + '/' + folder))    \n",
    "        \n",
    "    return suffix_files"
   ]
  },
  {
   "cell_type": "code",
   "execution_count": 149,
   "metadata": {},
   "outputs": [
    {
     "data": {
      "text/plain": [
       "['t1.c', 'b.c', 'a.c', 'a.c']"
      ]
     },
     "execution_count": 149,
     "metadata": {},
     "output_type": "execute_result"
    }
   ],
   "source": [
    "suffix = '.c'\n",
    "path = os.getcwd()\n",
    "find_files(suffix, path)"
   ]
  },
  {
   "cell_type": "code",
   "execution_count": null,
   "metadata": {},
   "outputs": [],
   "source": []
  }
 ],
 "metadata": {
  "kernelspec": {
   "display_name": "Python 3",
   "language": "python",
   "name": "python3"
  },
  "language_info": {
   "codemirror_mode": {
    "name": "ipython",
    "version": 3
   },
   "file_extension": ".py",
   "mimetype": "text/x-python",
   "name": "python",
   "nbconvert_exporter": "python",
   "pygments_lexer": "ipython3",
   "version": "3.7.4"
  }
 },
 "nbformat": 4,
 "nbformat_minor": 2
}
