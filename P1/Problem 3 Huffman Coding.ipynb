{
 "cells": [
  {
   "cell_type": "code",
   "execution_count": 1,
   "metadata": {},
   "outputs": [],
   "source": [
    "import sys"
   ]
  },
  {
   "cell_type": "code",
   "execution_count": 4,
   "metadata": {},
   "outputs": [],
   "source": [
    "\n",
    "\n",
    "def huffman_encoding(data):\n",
    "    pass\n",
    "\n",
    "def huffman_decoding(data,tree):\n",
    "    pass\n",
    "\n",
    "# if __name__ == \"__main__\":\n",
    "#     codes = {}\n",
    "\n",
    "#     a_great_sentence = \"The bird is the word\"\n",
    "\n",
    "#     print (\"The size of the data is: {}\\n\".format(sys.getsizeof(a_great_sentence)))\n",
    "#     print (\"The content of the data is: {}\\n\".format(a_great_sentence))\n",
    "\n",
    "#     encoded_data, tree = huffman_encoding(a_great_sentence)\n",
    "\n",
    "#     print (\"The size of the encoded data is: {}\\n\".format(sys.getsizeof(int(encoded_data, base=2))))\n",
    "#     print (\"The content of the encoded data is: {}\\n\".format(encoded_data))\n",
    "\n",
    "#     decoded_data = huffman_decoding(encoded_data, tree)\n",
    "\n",
    "#     print (\"The size of the decoded data is: {}\\n\".format(sys.getsizeof(decoded_data)))\n",
    "#     print (\"The content of the encoded data is: {}\\n\".format(decoded_data))"
   ]
  },
  {
   "cell_type": "code",
   "execution_count": 80,
   "metadata": {},
   "outputs": [],
   "source": [
    "sentence = \"The bird is the word\""
   ]
  },
  {
   "cell_type": "code",
   "execution_count": 81,
   "metadata": {},
   "outputs": [],
   "source": [
    "dict_ = {}\n",
    "for character in sentence:\n",
    "    if character not in dict_:\n",
    "        dict_[character] = 1\n",
    "\n",
    "    else:\n",
    "        dict_[character] += 1\n",
    "        \n",
    "new_dict = {}\n",
    "for key, value in dict_.items():\n",
    "    if value not in new_dict:\n",
    "        new_dict[value] = []\n",
    "        new_dict[value].append(key)\n",
    "    else:\n",
    "        new_dict[value].append(key)"
   ]
  },
  {
   "cell_type": "code",
   "execution_count": 82,
   "metadata": {},
   "outputs": [
    {
     "data": {
      "text/plain": [
       "{1: ['T', 'b', 's', 't', 'w', 'o'], 2: ['h', 'e', 'i', 'r', 'd'], 4: [' ']}"
      ]
     },
     "execution_count": 82,
     "metadata": {},
     "output_type": "execute_result"
    }
   ],
   "source": [
    "new_dict"
   ]
  },
  {
   "cell_type": "code",
   "execution_count": 83,
   "metadata": {},
   "outputs": [],
   "source": [
    "for i in latest_dict:\n",
    "    latest_dict[i] = ord(i)"
   ]
  },
  {
   "cell_type": "code",
   "execution_count": 84,
   "metadata": {},
   "outputs": [
    {
     "data": {
      "text/plain": [
       "{'T': 84,\n",
       " 'b': 98,\n",
       " 's': 115,\n",
       " 't': 116,\n",
       " 'w': 119,\n",
       " 'o': 111,\n",
       " 'h': 104,\n",
       " 'e': 101,\n",
       " 'i': 105,\n",
       " 'r': 114,\n",
       " 'd': 100,\n",
       " ' ': 32}"
      ]
     },
     "execution_count": 84,
     "metadata": {},
     "output_type": "execute_result"
    }
   ],
   "source": [
    "latest_dict"
   ]
  },
  {
   "cell_type": "code",
   "execution_count": null,
   "metadata": {},
   "outputs": [],
   "source": []
  }
 ],
 "metadata": {
  "kernelspec": {
   "display_name": "Python 3",
   "language": "python",
   "name": "python3"
  },
  "language_info": {
   "codemirror_mode": {
    "name": "ipython",
    "version": 3
   },
   "file_extension": ".py",
   "mimetype": "text/x-python",
   "name": "python",
   "nbconvert_exporter": "python",
   "pygments_lexer": "ipython3",
   "version": "3.7.4"
  }
 },
 "nbformat": 4,
 "nbformat_minor": 2
}
