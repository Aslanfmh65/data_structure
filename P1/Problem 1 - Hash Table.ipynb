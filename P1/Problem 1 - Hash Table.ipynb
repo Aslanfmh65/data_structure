{
 "cells": [
  {
   "cell_type": "code",
   "execution_count": 21,
   "metadata": {},
   "outputs": [],
   "source": [
    "class LRU_Cache(object):\n",
    "\n",
    "    def __init__(self, capacity):\n",
    "        self.capacity = capacity\n",
    "        self.dict_ = {}\n",
    "        \n",
    "    def set_(self, key, value):\n",
    "        if key is None or value is None:\n",
    "            print(\"Empty input\")\n",
    "            return\n",
    "        elif type(key) != int or type(value) != int:\n",
    "            return print(\"Invalid input\")\n",
    "        \n",
    "        new_dict = {}\n",
    "        new_dict[key] = value\n",
    "        if len(self.dict_) + 1 > self.capacity:\n",
    "            del_key = list(self.dict_.keys())[-1]\n",
    "            del self.dict_[del_key]\n",
    "        self.dict_ = {**new_dict , **self.dict_}\n",
    "        \n",
    "        \n",
    "    def get(self, key):\n",
    "        if key in self.dict_:\n",
    "            value = self.dict_[key]\n",
    "            del self.dict_[key]\n",
    "            self.set_(key, value)\n",
    "            return self.dict_[key]\n",
    "        else:\n",
    "            return -1\n",
    "        \n",
    "    def print_dict(self):\n",
    "        for i in self.dict_:\n",
    "            print(i, end=' ')"
   ]
  },
  {
   "cell_type": "code",
   "execution_count": 22,
   "metadata": {},
   "outputs": [
    {
     "name": "stdout",
     "output_type": "stream",
     "text": [
      "\n",
      "Current LRU dict:\n",
      "4 3 2 1 "
     ]
    }
   ],
   "source": [
    "## Initial LRU (4,3,2,1)\n",
    "our_cache = LRU_Cache(5)\n",
    "our_cache.set_(1,1)\n",
    "our_cache.set_(2,2)\n",
    "our_cache.set_(3,3)\n",
    "our_cache.set_(4,4)\n",
    "print(\"\\nCurrent LRU dict:\")\n",
    "our_cache.print_dict()"
   ]
  },
  {
   "cell_type": "code",
   "execution_count": 23,
   "metadata": {},
   "outputs": [
    {
     "name": "stdout",
     "output_type": "stream",
     "text": [
      "\n",
      "Get value is: 1\n",
      "\n",
      "Current LRU dict:\n",
      "1 4 3 2 "
     ]
    }
   ],
   "source": [
    "## Test 1: call 1, returns 1, LRU (1,4,3,2)\n",
    "value = our_cache.get(1)\n",
    "print(\"\\nGet value is: {}\".format(value))\n",
    "print(\"\\nCurrent LRU dict:\")\n",
    "our_cache.print_dict()"
   ]
  },
  {
   "cell_type": "code",
   "execution_count": 24,
   "metadata": {},
   "outputs": [
    {
     "name": "stdout",
     "output_type": "stream",
     "text": [
      "\n",
      "Get value is: 2\n",
      "\n",
      "Current LRU dict:\n",
      "2 1 4 3 "
     ]
    }
   ],
   "source": [
    "## Test 2: call 2, returns 2, LRU (2,1,4,3)\n",
    "value = our_cache.get(2) \n",
    "print(\"\\nGet value is: {}\".format(value))\n",
    "print(\"\\nCurrent LRU dict:\")\n",
    "our_cache.print_dict()"
   ]
  },
  {
   "cell_type": "code",
   "execution_count": 25,
   "metadata": {},
   "outputs": [
    {
     "name": "stdout",
     "output_type": "stream",
     "text": [
      "\n",
      "Get value is: -1\n",
      "\n",
      "Current LRU dict:\n",
      "2 1 4 3 "
     ]
    }
   ],
   "source": [
    "## Test 3: call 9, returns -1, LRU (2,1,4,3)\n",
    "value = our_cache.get(9)  \n",
    "print(\"\\nGet value is: {}\".format(value))\n",
    "print(\"\\nCurrent LRU dict:\")\n",
    "our_cache.print_dict()"
   ]
  },
  {
   "cell_type": "code",
   "execution_count": 26,
   "metadata": {},
   "outputs": [
    {
     "name": "stdout",
     "output_type": "stream",
     "text": [
      "\n",
      "Current LRU dict:\n",
      "6 5 2 1 4 "
     ]
    }
   ],
   "source": [
    "# push new element into LRU, LRU (6,5,2,1,4)\n",
    "our_cache.set_(5, 5) \n",
    "our_cache.set_(6, 6)\n",
    "print(\"\\nCurrent LRU dict:\")\n",
    "our_cache.print_dict()"
   ]
  },
  {
   "cell_type": "code",
   "execution_count": 27,
   "metadata": {},
   "outputs": [
    {
     "name": "stdout",
     "output_type": "stream",
     "text": [
      "\n",
      "Get value is: 5\n",
      "\n",
      "Current LRU dict:\n",
      "5 6 2 1 4 "
     ]
    }
   ],
   "source": [
    "## Test 4: call 5, returns 5, LRU (5,6,2,1,4)\n",
    "value = our_cache.get(5) \n",
    "print(\"\\nGet value is: {}\".format(value))\n",
    "print(\"\\nCurrent LRU dict:\")\n",
    "our_cache.print_dict()"
   ]
  },
  {
   "cell_type": "code",
   "execution_count": null,
   "metadata": {},
   "outputs": [],
   "source": []
  }
 ],
 "metadata": {
  "kernelspec": {
   "display_name": "Python 3",
   "language": "python",
   "name": "python3"
  },
  "language_info": {
   "codemirror_mode": {
    "name": "ipython",
    "version": 3
   },
   "file_extension": ".py",
   "mimetype": "text/x-python",
   "name": "python",
   "nbconvert_exporter": "python",
   "pygments_lexer": "ipython3",
   "version": "3.7.4"
  }
 },
 "nbformat": 4,
 "nbformat_minor": 2
}
