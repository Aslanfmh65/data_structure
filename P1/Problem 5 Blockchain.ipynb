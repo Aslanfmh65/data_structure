{
 "cells": [
  {
   "cell_type": "code",
   "execution_count": 1,
   "metadata": {},
   "outputs": [],
   "source": [
    "import hashlib\n",
    "import time"
   ]
  },
  {
   "cell_type": "code",
   "execution_count": 2,
   "metadata": {},
   "outputs": [],
   "source": [
    "class Block:\n",
    "    def __init__(self, timestamp, data, previous_hash):\n",
    "        self.timestamp = timestamp\n",
    "        self.data = data\n",
    "        self.previous_hash = previous_hash\n",
    "        self.hash = self.calc_hash(data)\n",
    "        \n",
    "    def calc_hash(self, string):\n",
    "        sha = hashlib.sha256()\n",
    "        hash_str = string.encode('utf-8')\n",
    "        sha.update(hash_str)\n",
    "    \n",
    "        return sha.hexdigest()"
   ]
  },
  {
   "cell_type": "code",
   "execution_count": 17,
   "metadata": {},
   "outputs": [],
   "source": [
    "class Blockchain:\n",
    "    def __init__(self):\n",
    "        self.tail = None\n",
    "        \n",
    "    def append(self, new_block):\n",
    "        if self.tail is None:\n",
    "            self.tail = Block(time.time(), new_block, None)\n",
    "        else:\n",
    "            self.tail = Block(time.time(), new_block, self.tail)\n",
    "            \n",
    "    def search(self, find_block):\n",
    "        if self.tail is None:\n",
    "            return None\n",
    "        else:\n",
    "            block = self.tail\n",
    "            while block:\n",
    "                if block.data == find_block:\n",
    "                    return block.data\n",
    "                else:\n",
    "                    block = block.previous_hash\n",
    "            \n",
    "            print(\"This block cannot be found in blockchain\")\n",
    "            return"
   ]
  },
  {
   "cell_type": "code",
   "execution_count": 18,
   "metadata": {},
   "outputs": [],
   "source": [
    "blockchain = Blockchain()\n",
    "\n",
    "blockchain.append('Income: 40 | Outcome: -20')\n",
    "blockchain.append('Income: 50 | Outcome: -30')\n",
    "blockchain.append('Income: 10 | Outcome: -20')\n",
    "blockchain.append('Income: 80 | Outcome: -40')"
   ]
  },
  {
   "cell_type": "code",
   "execution_count": 19,
   "metadata": {},
   "outputs": [
    {
     "data": {
      "text/plain": [
       "'Income: 10 | Outcome: -20'"
      ]
     },
     "execution_count": 19,
     "metadata": {},
     "output_type": "execute_result"
    }
   ],
   "source": [
    "## Test 1\n",
    "blockchain.search('Income: 10 | Outcome: -20')"
   ]
  },
  {
   "cell_type": "code",
   "execution_count": 20,
   "metadata": {},
   "outputs": [
    {
     "data": {
      "text/plain": [
       "'Income: 80 | Outcome: -40'"
      ]
     },
     "execution_count": 20,
     "metadata": {},
     "output_type": "execute_result"
    }
   ],
   "source": [
    "## Test 2\n",
    "blockchain.search('Income: 80 | Outcome: -40')"
   ]
  },
  {
   "cell_type": "code",
   "execution_count": 22,
   "metadata": {},
   "outputs": [
    {
     "data": {
      "text/plain": [
       "'Income: 40 | Outcome: -20'"
      ]
     },
     "execution_count": 22,
     "metadata": {},
     "output_type": "execute_result"
    }
   ],
   "source": [
    "## Test 3\n",
    "blockchain.search('Income: 40 | Outcome: -20')"
   ]
  },
  {
   "cell_type": "code",
   "execution_count": 23,
   "metadata": {},
   "outputs": [
    {
     "name": "stdout",
     "output_type": "stream",
     "text": [
      "This block cannot be found in blockchain\n"
     ]
    }
   ],
   "source": [
    "## Test 4\n",
    "blockchain.search('Income 100 | Outcome: -100')"
   ]
  },
  {
   "cell_type": "code",
   "execution_count": null,
   "metadata": {},
   "outputs": [],
   "source": []
  }
 ],
 "metadata": {
  "kernelspec": {
   "display_name": "Python 3",
   "language": "python",
   "name": "python3"
  },
  "language_info": {
   "codemirror_mode": {
    "name": "ipython",
    "version": 3
   },
   "file_extension": ".py",
   "mimetype": "text/x-python",
   "name": "python",
   "nbconvert_exporter": "python",
   "pygments_lexer": "ipython3",
   "version": "3.7.4"
  }
 },
 "nbformat": 4,
 "nbformat_minor": 2
}
