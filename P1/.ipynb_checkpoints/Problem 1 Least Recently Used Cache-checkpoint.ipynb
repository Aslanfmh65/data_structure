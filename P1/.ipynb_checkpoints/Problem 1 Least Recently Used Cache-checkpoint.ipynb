{
 "cells": [
  {
   "cell_type": "code",
   "execution_count": 213,
   "metadata": {},
   "outputs": [],
   "source": [
    "class DoubleNode:\n",
    "    def __init__(self, value=None):\n",
    "        self.value = value\n",
    "        self.next = None\n",
    "        self.previous = None\n",
    "        \n",
    "class DoublyLinkedList:\n",
    "    def __init__(self, capacity):\n",
    "        self.head = None\n",
    "        self.tail = None\n",
    "        self.capacity = capacity\n",
    "        self.len = 0\n",
    "        \n",
    "    def append(self, data):\n",
    "        if self.head is None:\n",
    "            self.head = DoubleNode(data)\n",
    "            self.tail = self.head\n",
    "            self.len += 1\n",
    "            return \n",
    "        \n",
    "        new_node = DoubleNode(data)\n",
    "        new_node.next = self.head\n",
    "        self.head.previous = new_node\n",
    "        self.head = new_node\n",
    "        self.len += 1\n",
    "        \n",
    "    def get(self, data):\n",
    "        if self.head is None:\n",
    "            return None\n",
    "        node = self.head\n",
    "        while node:\n",
    "            if node.value == data:\n",
    "                self.append(data)\n",
    "                node.previous.next = node.next\n",
    "                if node.value == self.tail.value:\n",
    "                    self.tail = node.previous\n",
    "                node = None\n",
    "                return self.head.value\n",
    "            node = node.next\n",
    "            \n",
    "        return self.head.value\n",
    "        \n",
    "#     def get(self, data):\n",
    "#         if self.head is None:\n",
    "#             return None\n",
    "#         node = self.head\n",
    "#         while node:\n",
    "#             if node.value == data:\n",
    "#                 self.append(data)\n",
    "#                 node.previous.next = node.next\n",
    "#                 if self.tail is node:\n",
    "#                     self.tail = node.next\n",
    "#                 node = None\n",
    "#                 return self.head.value\n",
    "            \n",
    "#             node = node.next\n",
    "#         return print(\"Node does not exist in double lisk\")\n",
    "    \n",
    "    def print_node(self):\n",
    "        if self.head is None:\n",
    "            return None\n",
    "        node = self.head\n",
    "        while node:\n",
    "            print(node.value, end=\" \")\n",
    "            node = node.next\n",
    "        return"
   ]
  },
  {
   "cell_type": "code",
   "execution_count": 214,
   "metadata": {},
   "outputs": [
    {
     "name": "stdout",
     "output_type": "stream",
     "text": [
      "(6, 6) (3, 3) (2, 2) (1, 1) "
     ]
    }
   ],
   "source": [
    "a = (1,1)\n",
    "b = (2,2)\n",
    "c = (3,3)\n",
    "d = (6,6)\n",
    "double_list = DoublyLinkedList(5)\n",
    "double_list.append(a)\n",
    "double_list.append(b)\n",
    "double_list.append(c)\n",
    "double_list.append(d)\n",
    "\n",
    "double_list.print_node()"
   ]
  },
  {
   "cell_type": "code",
   "execution_count": 215,
   "metadata": {},
   "outputs": [
    {
     "name": "stdout",
     "output_type": "stream",
     "text": [
      "(6, 6)\n",
      "(1, 1)\n"
     ]
    }
   ],
   "source": [
    "print(double_list.head.value)\n",
    "print(double_list.tail.value)"
   ]
  },
  {
   "cell_type": "code",
   "execution_count": 216,
   "metadata": {},
   "outputs": [
    {
     "name": "stdout",
     "output_type": "stream",
     "text": [
      "(1, 1) (6, 6) (3, 3) (2, 2) "
     ]
    }
   ],
   "source": [
    "double_list.get((1,1))\n",
    "\n",
    "double_list.print_node()"
   ]
  },
  {
   "cell_type": "code",
   "execution_count": 217,
   "metadata": {},
   "outputs": [
    {
     "name": "stdout",
     "output_type": "stream",
     "text": [
      "(1, 1)\n",
      "(2, 2)\n"
     ]
    }
   ],
   "source": [
    "print(double_list.head.value)\n",
    "print(double_list.tail.value)"
   ]
  },
  {
   "cell_type": "code",
   "execution_count": 218,
   "metadata": {},
   "outputs": [
    {
     "name": "stdout",
     "output_type": "stream",
     "text": [
      "(3, 3) (1, 1) (6, 6) (2, 2) "
     ]
    }
   ],
   "source": [
    "double_list.get((3,3))\n",
    "\n",
    "double_list.print_node()"
   ]
  },
  {
   "cell_type": "code",
   "execution_count": 219,
   "metadata": {},
   "outputs": [
    {
     "name": "stdout",
     "output_type": "stream",
     "text": [
      "(3, 3)\n",
      "(2, 2)\n"
     ]
    }
   ],
   "source": [
    "print(double_list.head.value)\n",
    "print(double_list.tail.value)"
   ]
  },
  {
   "cell_type": "code",
   "execution_count": 221,
   "metadata": {},
   "outputs": [
    {
     "name": "stdout",
     "output_type": "stream",
     "text": [
      "(2, 2) (3, 3) (1, 1) (6, 6) (2, 2) "
     ]
    }
   ],
   "source": [
    "double_list.get((2,2))\n",
    "\n",
    "double_list.print_node()"
   ]
  },
  {
   "cell_type": "code",
   "execution_count": 222,
   "metadata": {},
   "outputs": [
    {
     "name": "stdout",
     "output_type": "stream",
     "text": [
      "(2, 2)\n",
      "(3, 3)\n"
     ]
    }
   ],
   "source": [
    "print(double_list.head.value)\n",
    "print(double_list.tail.value)"
   ]
  },
  {
   "cell_type": "code",
   "execution_count": null,
   "metadata": {},
   "outputs": [],
   "source": [
    "class LRU_Cache(object):\n",
    "\n",
    "    def __init__(self, capacity):\n",
    "        self.capacity = capacity\n",
    "        double_list = DoublyLinkedList()\n",
    "        \n",
    "    def set_(self, data):\n",
    "        if data[0] is None or data[1] is None:\n",
    "            print(\"Empty input\")\n",
    "            return\n",
    "        elif type(data[0]) != int or type(data[1]) != int:\n",
    "            return print(\"Invalid input\")\n",
    "        \n",
    "        node = DoublyLinkedList(data)\n",
    "        new_dict = {}\n",
    "        new_dict[key] = value\n",
    "        count = 0\n",
    "        for i in self.dict_:\n",
    "            count += 1\n",
    "            if count >= self.capacity:\n",
    "                break\n",
    "            new_dict[i] = self.dict_[i]\n",
    "        self.dict_ = new_dict\n",
    "\n",
    "    def get(self, key):\n",
    "        if key in self.dict_:\n",
    "            value = self.dict_[key]\n",
    "            del self.dict_[key]\n",
    "            self.set_(key, value)\n",
    "            return self.dict_[key]\n",
    "        else:\n",
    "            return -1\n",
    "        \n",
    "    def print_dict(self):\n",
    "        for i in self.dict_:\n",
    "            print(i, end=' ')"
   ]
  },
  {
   "cell_type": "code",
   "execution_count": 113,
   "metadata": {},
   "outputs": [],
   "source": [
    "# class LRU_Cache(object):\n",
    "\n",
    "#     def __init__(self, capacity):\n",
    "#         self.capacity = capacity\n",
    "#         self.dict_ = {}\n",
    "        \n",
    "#     def set_(self, key, value):\n",
    "#         if key is None or value is None:\n",
    "#             print(\"Empty input\")\n",
    "#             return\n",
    "#         elif type(key) != int or type(value) != int:\n",
    "#             return print(\"Invalid input\")\n",
    "        \n",
    "#         new_dict = {}\n",
    "#         new_dict[key] = value\n",
    "#         count = 0\n",
    "#         for i in self.dict_:\n",
    "#             count += 1\n",
    "#             if count >= self.capacity:\n",
    "#                 break\n",
    "#             new_dict[i] = self.dict_[i]\n",
    "#         self.dict_ = new_dict\n",
    "\n",
    "#     def get(self, key):\n",
    "#         if key in self.dict_:\n",
    "#             value = self.dict_[key]\n",
    "#             del self.dict_[key]\n",
    "#             self.set_(key, value)\n",
    "#             return self.dict_[key]\n",
    "#         else:\n",
    "#             return -1\n",
    "        \n",
    "#     def print_dict(self):\n",
    "#         for i in self.dict_:\n",
    "#             print(i, end=' ')"
   ]
  },
  {
   "cell_type": "code",
   "execution_count": 114,
   "metadata": {},
   "outputs": [
    {
     "name": "stdout",
     "output_type": "stream",
     "text": [
      "\n",
      "Current LRU dict:\n",
      "4 3 2 1 "
     ]
    }
   ],
   "source": [
    "## Initial LRU (4,3,2,1)\n",
    "our_cache = LRU_Cache(5)\n",
    "our_cache.set_(1,1)\n",
    "our_cache.set_(2,2)\n",
    "our_cache.set_(3,3)\n",
    "our_cache.set_(4,4)\n",
    "print(\"\\nCurrent LRU dict:\")\n",
    "our_cache.print_dict()"
   ]
  },
  {
   "cell_type": "code",
   "execution_count": 115,
   "metadata": {},
   "outputs": [
    {
     "name": "stdout",
     "output_type": "stream",
     "text": [
      "\n",
      "Get value is: 1\n",
      "\n",
      "Current LRU dict:\n",
      "1 4 3 2 "
     ]
    }
   ],
   "source": [
    "## Test 1: call 1, returns 1, LRU (1,4,3,2)\n",
    "value = our_cache.get(1)\n",
    "print(\"\\nGet value is: {}\".format(value))\n",
    "print(\"\\nCurrent LRU dict:\")\n",
    "our_cache.print_dict()"
   ]
  },
  {
   "cell_type": "code",
   "execution_count": 116,
   "metadata": {},
   "outputs": [
    {
     "name": "stdout",
     "output_type": "stream",
     "text": [
      "\n",
      "Get value is: 2\n",
      "\n",
      "Current LRU dict:\n",
      "2 1 4 3 "
     ]
    }
   ],
   "source": [
    "## Test 2: call 2, returns 2, LRU (2,1,4,3)\n",
    "value = our_cache.get(2) \n",
    "print(\"\\nGet value is: {}\".format(value))\n",
    "print(\"\\nCurrent LRU dict:\")\n",
    "our_cache.print_dict()"
   ]
  },
  {
   "cell_type": "code",
   "execution_count": 117,
   "metadata": {},
   "outputs": [
    {
     "name": "stdout",
     "output_type": "stream",
     "text": [
      "\n",
      "Get value is: -1\n",
      "\n",
      "Current LRU dict:\n",
      "2 1 4 3 "
     ]
    }
   ],
   "source": [
    "## Test 3: call 9, returns -1, LRU (2,1,4,3)\n",
    "value = our_cache.get(9)  \n",
    "print(\"\\nGet value is: {}\".format(value))\n",
    "print(\"\\nCurrent LRU dict:\")\n",
    "our_cache.print_dict()"
   ]
  },
  {
   "cell_type": "code",
   "execution_count": 118,
   "metadata": {},
   "outputs": [
    {
     "name": "stdout",
     "output_type": "stream",
     "text": [
      "\n",
      "Current LRU dict:\n",
      "6 5 2 1 4 "
     ]
    }
   ],
   "source": [
    "# push new element into LRU, LRU (6,5,2,1,4)\n",
    "our_cache.set_(5, 5) \n",
    "our_cache.set_(6, 6)\n",
    "print(\"\\nCurrent LRU dict:\")\n",
    "our_cache.print_dict()"
   ]
  },
  {
   "cell_type": "code",
   "execution_count": 119,
   "metadata": {},
   "outputs": [
    {
     "name": "stdout",
     "output_type": "stream",
     "text": [
      "\n",
      "Get value is: 5\n",
      "\n",
      "Current LRU dict:\n",
      "5 6 2 1 4 "
     ]
    }
   ],
   "source": [
    "## Test 4: call 5, returns 5, LRU (5,6,2,1,4)\n",
    "value = our_cache.get(5) \n",
    "print(\"\\nGet value is: {}\".format(value))\n",
    "print(\"\\nCurrent LRU dict:\")\n",
    "our_cache.print_dict()"
   ]
  },
  {
   "cell_type": "code",
   "execution_count": 120,
   "metadata": {},
   "outputs": [
    {
     "name": "stdout",
     "output_type": "stream",
     "text": [
      "\n",
      "Get value is: 6\n",
      "\n",
      "Current LRU dict:\n",
      "6 5 2 1 4 "
     ]
    }
   ],
   "source": [
    "## Test 5: call 6, returns 6, LRU (6,5,2,1,4)\n",
    "value = our_cache.get(6)\n",
    "print(\"\\nGet value is: {}\".format(value))\n",
    "print(\"\\nCurrent LRU dict:\")\n",
    "our_cache.print_dict()"
   ]
  },
  {
   "cell_type": "code",
   "execution_count": 121,
   "metadata": {},
   "outputs": [
    {
     "name": "stdout",
     "output_type": "stream",
     "text": [
      "\n",
      "Get value is: -1\n",
      "\n",
      "Current LRU dict:\n",
      "6 5 2 1 4 "
     ]
    }
   ],
   "source": [
    "## Test 6: call 3, returns -1, LRU (6,5,2,1,4)\n",
    "value = our_cache.get(3)\n",
    "print(\"\\nGet value is: {}\".format(value))\n",
    "print(\"\\nCurrent LRU dict:\")\n",
    "our_cache.print_dict()"
   ]
  },
  {
   "cell_type": "code",
   "execution_count": 122,
   "metadata": {},
   "outputs": [
    {
     "name": "stdout",
     "output_type": "stream",
     "text": [
      "Empty input\n",
      "\n",
      "Current LRU dict:\n",
      "6 5 2 1 4 "
     ]
    }
   ],
   "source": [
    "## Edge test 1: empty input\n",
    "value = our_cache.set_(None, None)\n",
    "print(\"\\nCurrent LRU dict:\")\n",
    "our_cache.print_dict()"
   ]
  },
  {
   "cell_type": "code",
   "execution_count": 123,
   "metadata": {},
   "outputs": [
    {
     "name": "stdout",
     "output_type": "stream",
     "text": [
      "Invalid input\n",
      "\n",
      "Current LRU dict:\n",
      "6 5 2 1 4 "
     ]
    }
   ],
   "source": [
    "## Edge test 2: invalid input\n",
    "value = our_cache.set_('Hello', 'World')\n",
    "print(\"\\nCurrent LRU dict:\")\n",
    "our_cache.print_dict()"
   ]
  },
  {
   "cell_type": "code",
   "execution_count": null,
   "metadata": {},
   "outputs": [],
   "source": []
  }
 ],
 "metadata": {
  "kernelspec": {
   "display_name": "Python 3",
   "language": "python",
   "name": "python3"
  },
  "language_info": {
   "codemirror_mode": {
    "name": "ipython",
    "version": 3
   },
   "file_extension": ".py",
   "mimetype": "text/x-python",
   "name": "python",
   "nbconvert_exporter": "python",
   "pygments_lexer": "ipython3",
   "version": "3.7.4"
  }
 },
 "nbformat": 4,
 "nbformat_minor": 2
}
