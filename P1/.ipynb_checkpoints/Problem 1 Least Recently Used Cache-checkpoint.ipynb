{
 "cells": [
  {
   "cell_type": "code",
   "execution_count": 97,
   "metadata": {},
   "outputs": [],
   "source": [
    "class LRU_Cache(object):\n",
    "\n",
    "    def __init__(self, capacity):\n",
    "        self.capacity = capacity\n",
    "        self.dict_ = {}\n",
    "        \n",
    "    def set_(self, key, value):\n",
    "        if key is None or value is None:\n",
    "            print(\"Empty input\")\n",
    "            return\n",
    "        elif type(key) != int or type(value) != int:\n",
    "            return print(\"Invalid input\")\n",
    "        \n",
    "        new_dict = {}\n",
    "        new_dict[key] = value\n",
    "        count = 0\n",
    "        for i in self.dict_:\n",
    "            count += 1\n",
    "            if count >= self.capacity:\n",
    "                break\n",
    "            new_dict[i] = self.dict_[i]\n",
    "        self.dict_ = new_dict\n",
    "\n",
    "    def get(self, key):\n",
    "        if key in self.dict_:\n",
    "            value = self.dict_[key]\n",
    "            del self.dict_[key]\n",
    "            self.set_(key, value)\n",
    "            return self.dict_[key]\n",
    "        else:\n",
    "            return -1\n",
    "        \n",
    "    def print_dict(self):\n",
    "        for i in self.dict_:\n",
    "            print(i, end=' ')"
   ]
  },
  {
   "cell_type": "code",
   "execution_count": 98,
   "metadata": {},
   "outputs": [
    {
     "name": "stdout",
     "output_type": "stream",
     "text": [
      "Current LRU dict:\n",
      "4 3 2 1 "
     ]
    }
   ],
   "source": [
    "our_cache = LRU_Cache(5)\n",
    "our_cache.set_(1,1)\n",
    "our_cache.set_(2,2)\n",
    "our_cache.set_(3,3)\n",
    "our_cache.set_(4,4)\n",
    "print(\"Current LRU dict:\")\n",
    "our_cache.print_dict()"
   ]
  },
  {
   "cell_type": "code",
   "execution_count": 99,
   "metadata": {},
   "outputs": [
    {
     "name": "stdout",
     "output_type": "stream",
     "text": [
      "Get value is: 1\n",
      "Current LRU dict:\n",
      "1 4 3 2 "
     ]
    }
   ],
   "source": [
    "## Test 1: returns 1\n",
    "value = our_cache.get(1)\n",
    "print(\"Get value is: {}\".format(value))\n",
    "print(\"Current LRU dict:\")\n",
    "our_cache.print_dict()"
   ]
  },
  {
   "cell_type": "code",
   "execution_count": 100,
   "metadata": {},
   "outputs": [
    {
     "name": "stdout",
     "output_type": "stream",
     "text": [
      "Get value is: 2\n",
      "Current LRU dict:\n",
      "2 1 4 3 "
     ]
    }
   ],
   "source": [
    "## Test 2: returns 2\n",
    "value = our_cache.get(2) \n",
    "print(\"Get value is: {}\".format(value))\n",
    "print(\"Current LRU dict:\")\n",
    "our_cache.print_dict()"
   ]
  },
  {
   "cell_type": "code",
   "execution_count": 101,
   "metadata": {},
   "outputs": [
    {
     "name": "stdout",
     "output_type": "stream",
     "text": [
      "Get value is: -1\n",
      "Current LRU dict:\n",
      "2 1 4 3 "
     ]
    }
   ],
   "source": [
    "## Test 3: returns -1\n",
    "value = our_cache.get(9)  \n",
    "print(\"Get value is: {}\".format(value))\n",
    "print(\"Current LRU dict:\")\n",
    "our_cache.print_dict()"
   ]
  },
  {
   "cell_type": "code",
   "execution_count": 102,
   "metadata": {},
   "outputs": [
    {
     "name": "stdout",
     "output_type": "stream",
     "text": [
      "Current LRU dict:\n",
      "6 5 2 1 4 "
     ]
    }
   ],
   "source": [
    "# push new element into LRU\n",
    "our_cache.set_(5, 5) \n",
    "our_cache.set_(6, 6)\n",
    "print(\"Current LRU dict:\")\n",
    "our_cache.print_dict()"
   ]
  },
  {
   "cell_type": "code",
   "execution_count": 103,
   "metadata": {},
   "outputs": [
    {
     "name": "stdout",
     "output_type": "stream",
     "text": [
      "Get value is: 5\n",
      "Current LRU dict:\n",
      "5 6 2 1 4 "
     ]
    }
   ],
   "source": [
    "## Test 4: returns 5\n",
    "value = our_cache.get(5) \n",
    "print(\"Get value is: {}\".format(value))\n",
    "print(\"Current LRU dict:\")\n",
    "our_cache.print_dict()"
   ]
  },
  {
   "cell_type": "code",
   "execution_count": 104,
   "metadata": {},
   "outputs": [
    {
     "name": "stdout",
     "output_type": "stream",
     "text": [
      "Get value is: 6\n",
      "Current LRU dict:\n",
      "6 5 2 1 4 "
     ]
    }
   ],
   "source": [
    "## Test 5: returns 6\n",
    "value = our_cache.get(6)\n",
    "print(\"Get value is: {}\".format(value))\n",
    "print(\"Current LRU dict:\")\n",
    "our_cache.print_dict()"
   ]
  },
  {
   "cell_type": "code",
   "execution_count": 105,
   "metadata": {},
   "outputs": [
    {
     "name": "stdout",
     "output_type": "stream",
     "text": [
      "Get value is: -1\n",
      "Current LRU dict:\n",
      "6 5 2 1 4 "
     ]
    }
   ],
   "source": [
    "## Test 6: returns -1\n",
    "value = our_cache.get(3)\n",
    "print(\"Get value is: {}\".format(value))\n",
    "print(\"Current LRU dict:\")\n",
    "our_cache.print_dict()"
   ]
  },
  {
   "cell_type": "code",
   "execution_count": 109,
   "metadata": {},
   "outputs": [
    {
     "name": "stdout",
     "output_type": "stream",
     "text": [
      "Empty input\n",
      "Current LRU dict:\n",
      "6 5 2 1 4 "
     ]
    }
   ],
   "source": [
    "## Edge test 1: empty input\n",
    "value = our_cache.set_(None, None)\n",
    "print(\"Current LRU dict:\")\n",
    "our_cache.print_dict()"
   ]
  },
  {
   "cell_type": "code",
   "execution_count": 108,
   "metadata": {},
   "outputs": [
    {
     "name": "stdout",
     "output_type": "stream",
     "text": [
      "Invalid input\n",
      "Current LRU dict:\n",
      "6 5 2 1 4 "
     ]
    }
   ],
   "source": [
    "## Edge test 2: invalid input\n",
    "value = our_cache.set_('Hello', 'World')\n",
    "print(\"Current LRU dict:\")\n",
    "our_cache.print_dict()"
   ]
  }
 ],
 "metadata": {
  "kernelspec": {
   "display_name": "Python 3",
   "language": "python",
   "name": "python3"
  },
  "language_info": {
   "codemirror_mode": {
    "name": "ipython",
    "version": 3
   },
   "file_extension": ".py",
   "mimetype": "text/x-python",
   "name": "python",
   "nbconvert_exporter": "python",
   "pygments_lexer": "ipython3",
   "version": "3.7.4"
  }
 },
 "nbformat": 4,
 "nbformat_minor": 2
}
