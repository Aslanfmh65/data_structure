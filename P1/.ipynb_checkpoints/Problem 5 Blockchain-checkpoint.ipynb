{
 "cells": [
  {
   "cell_type": "code",
   "execution_count": 12,
   "metadata": {},
   "outputs": [],
   "source": [
    "import hashlib\n",
    "import time"
   ]
  },
  {
   "cell_type": "code",
   "execution_count": 39,
   "metadata": {},
   "outputs": [],
   "source": [
    "class Block:\n",
    "    def __init__(self, timestamp, data, previous_hash):\n",
    "                \n",
    "        self.timestamp = timestamp\n",
    "        self.data = data\n",
    "        self.previous_hash = previous_hash\n",
    "        self.previous_block = None\n",
    "        self.hash = self.calc_hash(data)\n",
    "        \n",
    "    def calc_hash(self, string):\n",
    "        sha = hashlib.sha256()\n",
    "        hash_str = string.encode('utf-8')\n",
    "        sha.update(hash_str)\n",
    "    \n",
    "        return sha.hexdigest()"
   ]
  },
  {
   "cell_type": "code",
   "execution_count": 46,
   "metadata": {},
   "outputs": [],
   "source": [
    "class Blockchain:\n",
    "    def __init__(self):\n",
    "        self.head = None\n",
    "        self.tail = None\n",
    "        \n",
    "    def append(self, new_block=None):\n",
    "        \n",
    "        if not new_block:\n",
    "            print(\"Can't add block without any data!\")\n",
    "            return\n",
    "        \n",
    "        if self.tail is None:\n",
    "            self.tail = Block(time.time(), new_block, None)\n",
    "        else:\n",
    "            new_block = Block(time.time(), new_block, self.tail.hash)\n",
    "            new_block.previous_block = self.tail\n",
    "            self.tail = new_block\n",
    "            \n",
    "    def search(self, find_block):\n",
    "        if find_block is None:\n",
    "            print(\"Empty input\")\n",
    "            return\n",
    "        elif type(find_block) != str:\n",
    "            print(\"Invalid input\")\n",
    "            return\n",
    "        \n",
    "        if self.tail is None:\n",
    "            return None\n",
    "        else:\n",
    "            block = self.tail\n",
    "            while block:\n",
    "                if block.data == find_block:\n",
    "                    return block.data\n",
    "                elif block.previous_block:\n",
    "                    block = block.previous_block\n",
    "                else:\n",
    "                    return print(\"This block cannot be found in blockchain\")\n",
    "        \n",
    "    def print_block(self):\n",
    "        if self.tail is None:\n",
    "            print(\"Blockchain empty!\")\n",
    "            return \n",
    "        block = self.tail\n",
    "        while block:\n",
    "            date_time = time.strftime('%Y-%m-%d %H:%M:%S', time.localtime(block.timestamp))\n",
    "            \n",
    "            print(\"----------------------------\")\n",
    "            print(\"Current block: {}\".format(block.data))\n",
    "            print(\"Storing DateTime: {}\".format(date_time))\n",
    "            print(\"Block hash value: {}\".format(block.hash))\n",
    "            if block.previous_hash:\n",
    "                print(\"Previous hash value: {}\".format(block.previous_hash))\n",
    "                block = block.previous_block\n",
    "                print(\"----------------------------\")\n",
    "            \n",
    "            else:\n",
    "                return \n",
    "            "
   ]
  },
  {
   "cell_type": "code",
   "execution_count": 41,
   "metadata": {},
   "outputs": [
    {
     "name": "stdout",
     "output_type": "stream",
     "text": [
      "----------------------------\n",
      "Current block: Income: 80 | Outcome: -40\n",
      "Storing DateTime: 2019-11-23 17:11:21\n",
      "Block hash value: ffb75afe4351b2b12d960dc381c684f679dca5c5b6f29cb39a5f2570fa8b42e2\n",
      "Previous hash value: d2fb3613b2ac1f8055686778fe1ba1403f1b1938fca7744a2ce4be0ddd3fd1c2\n",
      "----------------------------\n",
      "----------------------------\n",
      "Current block: Income: 10 | Outcome: -20\n",
      "Storing DateTime: 2019-11-23 17:11:20\n",
      "Block hash value: d2fb3613b2ac1f8055686778fe1ba1403f1b1938fca7744a2ce4be0ddd3fd1c2\n",
      "Previous hash value: c4920cd56f6d45db8cd7adfde63660ade22ae4952ba9e2210627c02c4c9b7caa\n",
      "----------------------------\n",
      "----------------------------\n",
      "Current block: Income: 50 | Outcome: -30\n",
      "Storing DateTime: 2019-11-23 17:11:19\n",
      "Block hash value: c4920cd56f6d45db8cd7adfde63660ade22ae4952ba9e2210627c02c4c9b7caa\n",
      "Previous hash value: cbe0158a09a84f138fc7683b53b56e7c332adb7f3f79b015d118b2793f1bfc66\n",
      "----------------------------\n",
      "----------------------------\n",
      "Current block: Income: 40 | Outcome: -20\n",
      "Storing DateTime: 2019-11-23 17:11:18\n",
      "Block hash value: cbe0158a09a84f138fc7683b53b56e7c332adb7f3f79b015d118b2793f1bfc66\n"
     ]
    }
   ],
   "source": [
    "# Test 1\n",
    "# system waits 1s before append next block in order to see the difference in storing date\n",
    "\n",
    "blockchain = Blockchain()\n",
    "\n",
    "blockchain.append('Income: 40 | Outcome: -20')\n",
    "time.sleep(1)\n",
    "blockchain.append('Income: 50 | Outcome: -30')\n",
    "time.sleep(1)\n",
    "blockchain.append('Income: 10 | Outcome: -20')\n",
    "time.sleep(1)\n",
    "blockchain.append('Income: 80 | Outcome: -40')\n",
    "\n",
    "blockchain.print_block()"
   ]
  },
  {
   "cell_type": "code",
   "execution_count": 42,
   "metadata": {},
   "outputs": [
    {
     "name": "stdout",
     "output_type": "stream",
     "text": [
      "----------------------------\n",
      "Current block: Income: 4 | Outcome: -4\n",
      "Storing DateTime: 2019-11-23 17:11:27\n",
      "Block hash value: a1172c4546992b11afa668a6f7caec4f58bf290eea65249966042b3f67476b43\n",
      "Previous hash value: 97a157258b15b9ee27e23ae94fd316adcf887c480b678356c34a1315d96ffb00\n",
      "----------------------------\n",
      "----------------------------\n",
      "Current block: Income: 3 | Outcome: -3\n",
      "Storing DateTime: 2019-11-23 17:11:26\n",
      "Block hash value: 97a157258b15b9ee27e23ae94fd316adcf887c480b678356c34a1315d96ffb00\n",
      "Previous hash value: 1c49269adcc6d96c1a1606ea89edca9c086eb94b2ae580e3fc65a2530913c2d1\n",
      "----------------------------\n",
      "----------------------------\n",
      "Current block: Income: 2 | Outcome: -2\n",
      "Storing DateTime: 2019-11-23 17:11:25\n",
      "Block hash value: 1c49269adcc6d96c1a1606ea89edca9c086eb94b2ae580e3fc65a2530913c2d1\n",
      "Previous hash value: e3bcfe9b91c3c0243d603d9ce80057b661271d813f09974139449e57ae135cd4\n",
      "----------------------------\n",
      "----------------------------\n",
      "Current block: Income: 1 | Outcome: -1\n",
      "Storing DateTime: 2019-11-23 17:11:24\n",
      "Block hash value: e3bcfe9b91c3c0243d603d9ce80057b661271d813f09974139449e57ae135cd4\n"
     ]
    }
   ],
   "source": [
    "# Test 2\n",
    "# system waits 1s before append next block in order to see the difference in storing date\n",
    "\n",
    "blockchain = Blockchain()\n",
    "\n",
    "blockchain.append('Income: 1 | Outcome: -1')\n",
    "time.sleep(1)\n",
    "blockchain.append('Income: 2 | Outcome: -2')\n",
    "time.sleep(1)\n",
    "blockchain.append('Income: 3 | Outcome: -3')\n",
    "time.sleep(1)\n",
    "blockchain.append('Income: 4 | Outcome: -4')\n",
    "\n",
    "blockchain.print_block()"
   ]
  },
  {
   "cell_type": "code",
   "execution_count": 43,
   "metadata": {},
   "outputs": [
    {
     "name": "stdout",
     "output_type": "stream",
     "text": [
      "Can't add block without any data!\n"
     ]
    }
   ],
   "source": [
    "# Edge test 1 - No data input\n",
    "blockchain = Blockchain()\n",
    "blockchain.append()"
   ]
  },
  {
   "cell_type": "code",
   "execution_count": 44,
   "metadata": {},
   "outputs": [
    {
     "name": "stdout",
     "output_type": "stream",
     "text": [
      "Blockchain empty!\n"
     ]
    }
   ],
   "source": [
    "# Edge test 2 - Empty block\n",
    "blockchain = Blockchain()\n",
    "blockchain.print_block()"
   ]
  },
  {
   "cell_type": "code",
   "execution_count": 47,
   "metadata": {},
   "outputs": [
    {
     "name": "stdout",
     "output_type": "stream",
     "text": [
      "This block cannot be found in blockchain\n"
     ]
    }
   ],
   "source": [
    "# Edge test 3 - Non existing block\n",
    "blockchain = Blockchain()\n",
    "blockchain.append('Income: 40 | Outcome: -20')\n",
    "blockchain.append('Income: 50 | Outcome: -30')\n",
    "blockchain.search('Income 100 | Outcome: -100')"
   ]
  },
  {
   "cell_type": "code",
   "execution_count": null,
   "metadata": {},
   "outputs": [],
   "source": []
  }
 ],
 "metadata": {
  "kernelspec": {
   "display_name": "Python 3",
   "language": "python",
   "name": "python3"
  },
  "language_info": {
   "codemirror_mode": {
    "name": "ipython",
    "version": 3
   },
   "file_extension": ".py",
   "mimetype": "text/x-python",
   "name": "python",
   "nbconvert_exporter": "python",
   "pygments_lexer": "ipython3",
   "version": "3.7.4"
  }
 },
 "nbformat": 4,
 "nbformat_minor": 2
}
