{
 "cells": [
  {
   "cell_type": "code",
   "execution_count": 15,
   "metadata": {},
   "outputs": [],
   "source": [
    "import hashlib\n",
    "import time"
   ]
  },
  {
   "cell_type": "code",
   "execution_count": 19,
   "metadata": {},
   "outputs": [],
   "source": [
    "class Block:\n",
    "    def __init__(self, timestamp, data, previous_hash):\n",
    "        self.timestamp = timestamp\n",
    "        self.data = data\n",
    "        self.previous_hash = previous_hash\n",
    "        self.hash = self.calc_hash(data)\n",
    "        \n",
    "    def calc_hash(self, string):\n",
    "        sha = hashlib.sha256()\n",
    "        hash_str = string.encode('utf-8')\n",
    "        sha.update(hash_str)\n",
    "    \n",
    "        return sha.hexdigest()"
   ]
  },
  {
   "cell_type": "code",
   "execution_count": 20,
   "metadata": {},
   "outputs": [],
   "source": [
    "class Blockchain:\n",
    "    def __init__(self):\n",
    "        self.tail = None\n",
    "        \n",
    "    def append(self, new_data):\n",
    "        if self.tail is None:\n",
    "            self.tail = Block(time.time(), new_data, previous_hash=None)\n",
    "            \n",
    "        else:\n",
    "            self.tail = Block(time.time(), new_data, self.tail)\n",
    "            \n",
    "    def search(self, search_data):\n",
    "        if self.tail is None:\n",
    "            print(\"Block is empty\")\n",
    "            return \n",
    "        block = self.tail\n",
    "        while block.previous_hash:\n",
    "            if block.data == search_data:\n",
    "                return block\n",
    "            block = block.previous_hash\n",
    "            \n",
    "        return None"
   ]
  },
  {
   "cell_type": "code",
   "execution_count": 21,
   "metadata": {},
   "outputs": [],
   "source": [
    "blockchain = Blockchain()\n",
    "\n",
    "blockchain.append('Income: 40 | Outcome: -20')\n",
    "blockchain.append('Income: 50 | Outcome: -30')\n",
    "blockchain.append('Income: 10 | Outcome: -20')\n",
    "blockchain.append('Income: 80 | Outcome: -40')"
   ]
  },
  {
   "cell_type": "code",
   "execution_count": 23,
   "metadata": {},
   "outputs": [
    {
     "data": {
      "text/plain": [
       "'Income: 10 | Outcome: -20'"
      ]
     },
     "execution_count": 23,
     "metadata": {},
     "output_type": "execute_result"
    }
   ],
   "source": [
    "blockchain.search('Income: 10 | Outcome: -20').data"
   ]
  },
  {
   "cell_type": "code",
   "execution_count": null,
   "metadata": {},
   "outputs": [],
   "source": []
  }
 ],
 "metadata": {
  "kernelspec": {
   "display_name": "Python 3",
   "language": "python",
   "name": "python3"
  },
  "language_info": {
   "codemirror_mode": {
    "name": "ipython",
    "version": 3
   },
   "file_extension": ".py",
   "mimetype": "text/x-python",
   "name": "python",
   "nbconvert_exporter": "python",
   "pygments_lexer": "ipython3",
   "version": "3.7.4"
  }
 },
 "nbformat": 4,
 "nbformat_minor": 2
}
