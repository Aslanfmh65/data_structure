{
 "cells": [
  {
   "cell_type": "code",
   "execution_count": 1,
   "metadata": {},
   "outputs": [],
   "source": [
    "class Node:\n",
    "    def __init__(self, value):\n",
    "        self.value = value\n",
    "        self.next = None"
   ]
  },
  {
   "cell_type": "code",
   "execution_count": 2,
   "metadata": {},
   "outputs": [],
   "source": [
    "class LinkedList:\n",
    "    def __init__(self):\n",
    "        self.head = None\n",
    "    \n",
    "    def create_linked_list(self, llist):\n",
    "        \n",
    "        if self.head is None:\n",
    "            self.head = Node(llist[0])\n",
    "        \n",
    "        node = self.head\n",
    "        for index in range(1,len(llist)):\n",
    "            node.next = Node(llist[index])\n",
    "            node = node.next\n",
    "            \n",
    "    def append(self, new_value):\n",
    "        if self.head is None:\n",
    "            self.head = Node(new_value)\n",
    "            return\n",
    "        node = self.head\n",
    "        while node.next:\n",
    "            node = node.next\n",
    "        node.next = Node(new_value)\n",
    "            \n",
    "    def search(self, search_node):\n",
    "        if self.head is None:\n",
    "            return None\n",
    "        node = self.head\n",
    "        while node:\n",
    "            if node.value == search_node.value:\n",
    "                return node\n",
    "            node = node.next\n",
    "        return None\n",
    "    \n",
    "    def printNode(self):\n",
    "        if self.head is None:\n",
    "            print(\"Linked list is empty!\")\n",
    "            return\n",
    "        \n",
    "        node = self.head\n",
    "        while node:\n",
    "            print(node.value, end=' ')\n",
    "            node = node.next"
   ]
  },
  {
   "cell_type": "code",
   "execution_count": 3,
   "metadata": {},
   "outputs": [],
   "source": [
    "def intersection(llist1, llist2):\n",
    "    node1 = llist1.head\n",
    "    intersection_list = LinkedList()\n",
    "    while node1:\n",
    "        if llist2.search(node1) and intersection_list.search(node1) is None:\n",
    "#         if llist2.search(node1):\n",
    "            intersection_list.append(node1.value)\n",
    "        node1 = node1.next\n",
    "    return intersection_list"
   ]
  },
  {
   "cell_type": "code",
   "execution_count": 4,
   "metadata": {},
   "outputs": [],
   "source": [
    "def union(llist1, llist2):\n",
    "    union_list = LinkedList()\n",
    "    node1 = llist1.head\n",
    "    node2 = llist2.head\n",
    "    while node1:\n",
    "        if union_list.search(node1) is None:\n",
    "            union_list.append(node1.value)\n",
    "        node1 = node1.next\n",
    "        \n",
    "    while node2:\n",
    "        if union_list.search(node2) is None:\n",
    "            union_list.append(node2.value)\n",
    "        node2 = node2.next\n",
    "    return union_list"
   ]
  },
  {
   "cell_type": "code",
   "execution_count": 5,
   "metadata": {},
   "outputs": [],
   "source": [
    "## Test 1\n",
    "llist1 = [3,2,4,35,6,65,6,4,3,21]\n",
    "llist2 = [6,32,4,9,6,1,11,21,1]\n",
    "\n",
    "linked_list1 = LinkedList()\n",
    "linked_list2 = LinkedList()\n",
    "\n",
    "linked_list1.create_linked_list(llist1)\n",
    "linked_list2.create_linked_list(llist2)"
   ]
  },
  {
   "cell_type": "code",
   "execution_count": 6,
   "metadata": {},
   "outputs": [
    {
     "name": "stdout",
     "output_type": "stream",
     "text": [
      "Intersection set (unique): \n",
      "4 6 21 "
     ]
    }
   ],
   "source": [
    "intersection_list = intersection(linked_list1, linked_list2)\n",
    "print(\"Intersection set (unique): \")\n",
    "intersection_list.printNode()"
   ]
  },
  {
   "cell_type": "code",
   "execution_count": 7,
   "metadata": {},
   "outputs": [
    {
     "name": "stdout",
     "output_type": "stream",
     "text": [
      "Union set (unique): \n",
      "3 2 4 35 6 65 21 32 9 1 11 "
     ]
    }
   ],
   "source": [
    "union_list = union(linked_list1, linked_list2)\n",
    "print(\"Union set (unique): \")\n",
    "union_list.printNode()"
   ]
  },
  {
   "cell_type": "code",
   "execution_count": 8,
   "metadata": {},
   "outputs": [],
   "source": [
    "## Test 2\n",
    "llist3 = [3,2,4,35,6,65,6,4,3,23]\n",
    "llist4 = [1,7,8,9,11,21,1]\n",
    "\n",
    "linked_list3 = LinkedList()\n",
    "linked_list4 = LinkedList()\n",
    "\n",
    "linked_list3.create_linked_list(llist3)\n",
    "linked_list4.create_linked_list(llist4)"
   ]
  },
  {
   "cell_type": "code",
   "execution_count": 9,
   "metadata": {},
   "outputs": [
    {
     "name": "stdout",
     "output_type": "stream",
     "text": [
      "Intersection set (unique): \n",
      "Linked list is empty!\n"
     ]
    }
   ],
   "source": [
    "intersection_list = intersection(linked_list3, linked_list4)\n",
    "print(\"Intersection set (unique): \")\n",
    "intersection_list.printNode()"
   ]
  },
  {
   "cell_type": "code",
   "execution_count": 10,
   "metadata": {},
   "outputs": [
    {
     "name": "stdout",
     "output_type": "stream",
     "text": [
      "Union set (unique): \n",
      "3 2 4 35 6 65 23 1 7 8 9 11 21 "
     ]
    }
   ],
   "source": [
    "union_list = union(linked_list3, linked_list4)\n",
    "print(\"Union set (unique): \")\n",
    "union_list.printNode()"
   ]
  },
  {
   "cell_type": "code",
   "execution_count": 11,
   "metadata": {},
   "outputs": [
    {
     "name": "stdout",
     "output_type": "stream",
     "text": [
      "\n",
      "Test 3 Intersection set (unique): \n",
      "4 \n",
      "Test 3 Union set (unique): \n",
      "1 2 3 4 5 9 "
     ]
    }
   ],
   "source": [
    "## Test 3\n",
    "llist5 = [1,2,3,4,5,4,4,4,4]\n",
    "llist6 = [4,4,4,4,4,9,9,9,9]\n",
    "\n",
    "linked_list5 = LinkedList()\n",
    "linked_list6 = LinkedList()\n",
    "\n",
    "linked_list5.create_linked_list(llist5)\n",
    "linked_list6.create_linked_list(llist6)\n",
    "\n",
    "intersection_list = intersection(linked_list5, linked_list6)\n",
    "print(\"\\nTest 3 Intersection set (unique): \")\n",
    "intersection_list.printNode()\n",
    "\n",
    "union_list = union(linked_list5, linked_list6)\n",
    "print(\"\\nTest 3 Union set (unique): \")\n",
    "union_list.printNode()"
   ]
  },
  {
   "cell_type": "code",
   "execution_count": null,
   "metadata": {},
   "outputs": [],
   "source": []
  }
 ],
 "metadata": {
  "kernelspec": {
   "display_name": "Python 3",
   "language": "python",
   "name": "python3"
  },
  "language_info": {
   "codemirror_mode": {
    "name": "ipython",
    "version": 3
   },
   "file_extension": ".py",
   "mimetype": "text/x-python",
   "name": "python",
   "nbconvert_exporter": "python",
   "pygments_lexer": "ipython3",
   "version": "3.7.4"
  }
 },
 "nbformat": 4,
 "nbformat_minor": 2
}
