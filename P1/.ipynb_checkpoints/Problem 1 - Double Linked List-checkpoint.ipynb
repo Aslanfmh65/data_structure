{
 "cells": [
  {
   "cell_type": "code",
   "execution_count": 136,
   "metadata": {},
   "outputs": [],
   "source": [
    "class DoubleNode:\n",
    "    def __init__(self, value=None):\n",
    "        self.value = value\n",
    "        self.next = None\n",
    "        self.previous = None\n",
    "\n",
    "class LRU_Cache:\n",
    "    def __init__(self, capacity):\n",
    "        self.head = None # most recently used item\n",
    "        self.tail = None # least recently used item\n",
    "        self.capacity = capacity\n",
    "        self.dict_ = {}\n",
    "        \n",
    "    def set_(self, new_data = None):\n",
    "        \n",
    "        # Empty input case\n",
    "        if new_data is None:\n",
    "            print(\"Empty input\")\n",
    "            return\n",
    "        \n",
    "        if self.head is None:\n",
    "            self.dict_[new_data[0]] = DoubleNode(new_data)\n",
    "            self.head = self.dict_[new_data[0]]\n",
    "            self.tail = self.head\n",
    "            return\n",
    "        \n",
    "        # if node has already existed in LRU Cache\n",
    "        elif new_data[0] in self.dict_:\n",
    "            return print(\"Pushed element is existing in current LRU\")\n",
    "        \n",
    "        new_node = DoubleNode(new_data)\n",
    "        self.dict_[new_data[0]] = new_node\n",
    "        new_node.next = self.head \n",
    "        self.head.previous = new_node \n",
    "        self.head = new_node \n",
    "        \n",
    "        if len(self.dict_) > self.capacity:\n",
    "            node = self.tail\n",
    "            del self.dict_[node.value[0]]\n",
    "            node.previous.next = None\n",
    "            self.tail = node.previous\n",
    "            node = None\n",
    "            return\n",
    "        \n",
    "    def get(self, call_data):\n",
    "        if self.head is None or call_data is None:\n",
    "            return None\n",
    "        \n",
    "        node = self.head\n",
    "                \n",
    "        if call_data in self.dict_:\n",
    "            \n",
    "            # move the call_node from its current position\n",
    "            call_node = self.dict_[call_data]\n",
    "            \n",
    "            if call_node is self.head:\n",
    "                return call_node.value[1]\n",
    "                        \n",
    "            next_node = call_node.next\n",
    "            previous_node = call_node.previous\n",
    "            \n",
    "            if call_node is not self.tail:\n",
    "                previous_node.next = next_node\n",
    "                next_node.previous = previous_node\n",
    "            else:\n",
    "                previous_node.next = None\n",
    "                self.tail = previous_node\n",
    "            \n",
    "            # move the call_node to the head\n",
    "            self.head.previous = call_node\n",
    "            call_node.next = self.head\n",
    "            self.head = call_node\n",
    "            \n",
    "            # return call node value\n",
    "            return call_node.value[1]\n",
    "        \n",
    "        else:\n",
    "        \n",
    "            return print(\"Node does not exist\")\n",
    "    \n",
    "    def print_node(self):\n",
    "        if self.head is None:\n",
    "            return None\n",
    "        node = self.head\n",
    "        while node:\n",
    "            print(node.value, end=\" \")\n",
    "            node = node.next\n",
    "        return"
   ]
  },
  {
   "cell_type": "code",
   "execution_count": 137,
   "metadata": {},
   "outputs": [
    {
     "name": "stdout",
     "output_type": "stream",
     "text": [
      "Initial LRU:\n",
      "(4, 4) (3, 3) (2, 2) (1, 1) \n",
      "\n",
      "\n",
      "Get mid value is: 3\n",
      "Current LRU dict:\n",
      "(3, 3) (4, 4) (2, 2) (1, 1) \n",
      "\n",
      "\n",
      "Get tail value is: 1\n",
      "Current LRU dict:\n",
      "(1, 1) (3, 3) (4, 4) (2, 2) \n",
      "\n",
      "\n",
      "Get head value is: 1\n",
      "Current LRU dict:\n",
      "(1, 1) (3, 3) (4, 4) (2, 2) "
     ]
    }
   ],
   "source": [
    "## Test 1\n",
    "# Initial LRU (4,3,2,1)\n",
    "our_cache = LRU_Cache(5)\n",
    "our_cache.set_((1,1))\n",
    "our_cache.set_((2,2))\n",
    "our_cache.set_((3,3))\n",
    "our_cache.set_((4,4))\n",
    "\n",
    "print(\"Initial LRU:\")\n",
    "our_cache.print_node()\n",
    "\n",
    "# Call mid-value (3,3), returns (3,3), current LRU key is (3,4,2,1)\n",
    "get_value = our_cache.get(3)\n",
    "print(\"\\n\\n\\nGet mid value is: {}\".format(get_value))\n",
    "print(\"Current LRU dict:\")\n",
    "our_cache.print_node()\n",
    "\n",
    "# Call tail-value (1,1), returns (1,1), current LRU key is (1,3,4,2)\n",
    "get_value = our_cache.get(1)\n",
    "print(\"\\n\\n\\nGet tail value is: {}\".format(get_value))\n",
    "print(\"Current LRU dict:\")\n",
    "our_cache.print_node()\n",
    "\n",
    "# Call head-value (1,1), returns (1,1), current LRU key is (1,3,4,2)\n",
    "get_value = our_cache.get(1)\n",
    "print(\"\\n\\n\\nGet head value is: {}\".format(get_value))\n",
    "print(\"Current LRU dict:\")\n",
    "our_cache.print_node()"
   ]
  },
  {
   "cell_type": "code",
   "execution_count": 138,
   "metadata": {},
   "outputs": [
    {
     "name": "stdout",
     "output_type": "stream",
     "text": [
      "Push new element into LRU ...\n",
      "Current LRU dict:\n",
      "(6, 6) (5, 5) (1, 1) (3, 3) (4, 4) \n",
      "\n",
      "\n",
      "Get tail value is: 4\n",
      "Current LRU dict:\n",
      "(4, 4) (6, 6) (5, 5) (1, 1) (3, 3) \n",
      "\n",
      "\n",
      "\n",
      "Node does not exist\n",
      "Current LRU dict:\n",
      "(4, 4) (6, 6) (5, 5) (1, 1) (3, 3) "
     ]
    }
   ],
   "source": [
    "## Test 2\n",
    "# push (6,6) and (5,5) into LRU, least recently used item (2,2) disappear\n",
    "# expect LRU key is (6,5,1,3,4)\n",
    "print(\"Push new element into LRU ...\")\n",
    "our_cache.set_((5, 5))\n",
    "our_cache.set_((6, 6))\n",
    "print(\"Current LRU dict:\")\n",
    "our_cache.print_node()\n",
    "\n",
    "# Call tail-value (4,4), returns (4,4), current LRU key is (4,6,5,1,3,4)\n",
    "get_value = our_cache.get(4)\n",
    "print(\"\\n\\n\\nGet tail value is: {}\".format(get_value))\n",
    "print(\"Current LRU dict:\")\n",
    "our_cache.print_node()\n",
    "\n",
    "# Call pushed-out value (2,2), return \"node does not exist\", current LRU key is (4,6,5,1,3,4)\n",
    "print(\"\\n\\n\\n\")\n",
    "get_value = our_cache.get(2)\n",
    "print(\"Current LRU dict:\")\n",
    "our_cache.print_node()"
   ]
  },
  {
   "cell_type": "code",
   "execution_count": 139,
   "metadata": {},
   "outputs": [
    {
     "name": "stdout",
     "output_type": "stream",
     "text": [
      "Empty input\n",
      "Current LRU dict:\n",
      "(4, 4) (6, 6) (5, 5) (1, 1) (3, 3) "
     ]
    }
   ],
   "source": [
    "## Edge test 1: Empty input\n",
    "our_cache.set_()\n",
    "print(\"Current LRU dict:\")\n",
    "our_cache.print_node()"
   ]
  },
  {
   "cell_type": "code",
   "execution_count": 140,
   "metadata": {},
   "outputs": [
    {
     "name": "stdout",
     "output_type": "stream",
     "text": [
      "Get string value is: World\n",
      "Current LRU dict:\n",
      "('Hello', 'World') (4, 4) (6, 6) (5, 5) (1, 1) "
     ]
    }
   ],
   "source": [
    "## Edge test 2: String input\n",
    "our_cache.set_(('Hello','World'))\n",
    "get_value = our_cache.get('Hello')\n",
    "print(\"Get string value is: {}\".format(get_value))\n",
    "print(\"Current LRU dict:\")\n",
    "our_cache.print_node()"
   ]
  },
  {
   "cell_type": "code",
   "execution_count": 141,
   "metadata": {},
   "outputs": [
    {
     "name": "stdout",
     "output_type": "stream",
     "text": [
      "Pushed element is existing in current LRU\n",
      "Current LRU dict:\n",
      "('Hello', 'World') (4, 4) (6, 6) (5, 5) (1, 1) "
     ]
    }
   ],
   "source": [
    "## Edge test 3: Pushing existing node\n",
    "our_cache.set_((6,6))\n",
    "print(\"Current LRU dict:\")\n",
    "our_cache.print_node()"
   ]
  },
  {
   "cell_type": "code",
   "execution_count": null,
   "metadata": {},
   "outputs": [],
   "source": []
  }
 ],
 "metadata": {
  "kernelspec": {
   "display_name": "Python 3",
   "language": "python",
   "name": "python3"
  },
  "language_info": {
   "codemirror_mode": {
    "name": "ipython",
    "version": 3
   },
   "file_extension": ".py",
   "mimetype": "text/x-python",
   "name": "python",
   "nbconvert_exporter": "python",
   "pygments_lexer": "ipython3",
   "version": "3.7.4"
  }
 },
 "nbformat": 4,
 "nbformat_minor": 2
}
