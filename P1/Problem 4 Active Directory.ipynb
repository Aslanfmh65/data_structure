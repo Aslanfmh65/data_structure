{
 "cells": [
  {
   "cell_type": "code",
   "execution_count": 47,
   "metadata": {},
   "outputs": [],
   "source": [
    "class Group(object):\n",
    "    def __init__(self, _name):\n",
    "        self.name = _name\n",
    "        self.groups = []\n",
    "        self.users = []\n",
    "\n",
    "    def add_group(self, group):\n",
    "        self.groups.append(group)\n",
    "\n",
    "    def add_user(self, user):\n",
    "        self.users.append(user)\n",
    "\n",
    "    def get_groups(self):\n",
    "        return self.groups\n",
    "\n",
    "    def get_users(self):\n",
    "        return self.users\n",
    "\n",
    "    def get_name(self):\n",
    "        return self.name"
   ]
  },
  {
   "cell_type": "code",
   "execution_count": 48,
   "metadata": {},
   "outputs": [],
   "source": [
    "parent = Group(\"parent\")\n",
    "child = Group(\"child\")\n",
    "sub_child = Group('subchild')\n",
    "\n",
    "sub_child_user = \"sub_child_user\"\n",
    "sub_child.add_user(sub_child_user)"
   ]
  },
  {
   "cell_type": "code",
   "execution_count": 60,
   "metadata": {},
   "outputs": [],
   "source": [
    "def is_user_in_group(user, group):\n",
    "    \"\"\"\n",
    "    Return True if user is in the group, False otherwise.\n",
    "\n",
    "    Args:\n",
    "      user(str): user name/id\n",
    "      group(class:Group): group to check user membership against\n",
    "    \"\"\"\n",
    "    if group in parent.get_groups():\n",
    "        if user in parent.get_users():\n",
    "            return True\n",
    "        else:\n",
    "            return False\n",
    "    elif group in child.get_groups():\n",
    "        if user in child.get_users():\n",
    "            return True\n",
    "        else: False\n",
    "    else:\n",
    "        if user in sub_child.get_users():\n",
    "            return True\n",
    "        else:\n",
    "            return False"
   ]
  },
  {
   "cell_type": "code",
   "execution_count": 62,
   "metadata": {},
   "outputs": [
    {
     "name": "stdout",
     "output_type": "stream",
     "text": [
      "Normal Cases:\n",
      "False\n",
      "False\n",
      "True \n",
      "\n",
      "Edge Cases:\n",
      "False\n",
      "False\n"
     ]
    }
   ],
   "source": [
    "# Normal Cases:\n",
    "print('Normal Cases:')\n",
    "print(is_user_in_group(user='parent_user', group=parent))\n",
    "# False\n",
    "print(is_user_in_group(user='child_user', group=parent))\n",
    "# False\n",
    "print(is_user_in_group(user='sub_child_user', group=parent), '\\n')\n",
    "# True\n",
    "\n",
    "# Edge Cases:\n",
    "print('Edge Cases:')\n",
    "print(is_user_in_group(user='', group=parent))\n",
    "# False\n",
    "print(is_user_in_group(user='', group=child))\n",
    "# False"
   ]
  },
  {
   "cell_type": "code",
   "execution_count": null,
   "metadata": {},
   "outputs": [],
   "source": []
  }
 ],
 "metadata": {
  "kernelspec": {
   "display_name": "Python 3",
   "language": "python",
   "name": "python3"
  },
  "language_info": {
   "codemirror_mode": {
    "name": "ipython",
    "version": 3
   },
   "file_extension": ".py",
   "mimetype": "text/x-python",
   "name": "python",
   "nbconvert_exporter": "python",
   "pygments_lexer": "ipython3",
   "version": "3.7.4"
  }
 },
 "nbformat": 4,
 "nbformat_minor": 2
}
