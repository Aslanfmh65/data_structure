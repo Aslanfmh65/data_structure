{
 "cells": [
  {
   "cell_type": "code",
   "execution_count": 1,
   "metadata": {},
   "outputs": [],
   "source": [
    "# Linked list\n",
    "\n",
    "class Node:\n",
    "    def __init__(self, char, freq):\n",
    "        self.char = char\n",
    "        self.freq = freq\n",
    "        self.left = None\n",
    "        self.right = None"
   ]
  },
  {
   "cell_type": "code",
   "execution_count": 2,
   "metadata": {},
   "outputs": [],
   "source": [
    "# Define queue data structure\n",
    "\n",
    "from collections import deque\n",
    "class Queue():\n",
    "    def __init__(self):\n",
    "        self.d = deque()\n",
    "        \n",
    "    def enq(self, value):\n",
    "        self.d.append(value)\n",
    "\n",
    "    def deq(self):\n",
    "        if len(self.d) > 0:\n",
    "            pop_value = self.d.popleft()\n",
    "            return pop_value\n",
    "        else:\n",
    "            return None\n",
    "        \n",
    "    def get_len(self):\n",
    "        return len(self.d)\n",
    "        "
   ]
  },
  {
   "cell_type": "code",
   "execution_count": 8,
   "metadata": {},
   "outputs": [],
   "source": [
    "# Binary tree\n",
    "\n",
    "class Tree:\n",
    "    def __init__(self):\n",
    "        self.q = []\n",
    "        \n",
    "        self.binary_dict = {}\n",
    "        self.queue = Queue()\n",
    "        self.queue_equal = Queue()\n",
    "        self.queue_unequal = Queue()\n",
    "        \n",
    "    def frequency(self, input_string):\n",
    "        keys = list(set([i for i in input_string]))\n",
    "        values = [0] * len(keys)\n",
    "        \n",
    "        for i in input_string:\n",
    "            values[keys.index(i)] += 1\n",
    "            \n",
    "        char_freq = {k:v for k,v in zip(keys,values)}\n",
    "        char_freq = sorted(char_freq.items(), key=lambda x:x[1])\n",
    "        \n",
    "        return char_freq\n",
    "    \n",
    "    def push_to_queue(self, char_freq):\n",
    "        for item in char_freq:\n",
    "            node = Node(item[0], item[1])\n",
    "            self.queue.enq(node)\n",
    "            \n",
    "    def merge_to_root(self):\n",
    "        while (self.queue.get_len() > 1):\n",
    "            node1 = self.queue.deq()\n",
    "            node2 = self.queue.deq()\n",
    "            freq = node1.freq + node2.freq\n",
    "            root_node = Node(None, freq)\n",
    "            root_node.left = node1\n",
    "            root_node.right = node2\n",
    "            self.queue.enq(root_node)\n",
    "            \n",
    "            \n",
    "#     def merge_to_root_update(self):\n",
    "#         count = 0\n",
    "#         while True: \n",
    "             \n",
    "#             node1 = self.queue.deq()\n",
    "#             node2 = self.queue.deq()\n",
    "            \n",
    "#             if node1.freq == node2.freq:\n",
    "                \n",
    "#                 freq = node1.freq + node2.freq\n",
    "#                 root_node = Node(None, freq)\n",
    "#                 root_node.left = node1\n",
    "#                 root_node.right = node2\n",
    "#                 self.queue.enq(root_node)\n",
    "                \n",
    "#                 self.queue.sort(reverse=True)\n",
    "#                 count += 1\n",
    "#                 print(count)\n",
    "                \n",
    "#             else:\n",
    "#                 self.queue.enq(node1)\n",
    "#                 self.queue.enq(node2)\n",
    "                \n",
    "#                 self.queue.sort(reverse=True)\n",
    "#                 count -= 1\n",
    "                \n",
    "#             if count == 0:\n",
    "#                 while (self.queue.get_len() > 1):\n",
    "#                     node1 = self.queue.deq()\n",
    "#                     node2 = self.queue.deq()\n",
    "#                     freq = node1.freq + node2.freq\n",
    "#                     root_node = Node(None, freq)\n",
    "#                     root_node.left = node1\n",
    "#                     root_node.right = node2\n",
    "                    \n",
    "#                     self.queue.enq(root_node)\n",
    "#                     self.queue.sort(reverse=True)\n",
    "#                 return\n",
    "            \n",
    "    def assign_binary(self, root, binary_code):\n",
    "        if root is None:\n",
    "            return\n",
    "        \n",
    "        if root.char is not None:\n",
    "            self.binary_dict[root.char] = binary_code\n",
    "            return\n",
    "        \n",
    "        # recursion \n",
    "        self.assign_binary(root.left, binary_code + \"0\")\n",
    "        self.assign_binary(root.right, binary_code + \"1\")\n",
    "        \n",
    "    def traverse(self):\n",
    "        root = self.queue.deq()\n",
    "        binary_code = \"\"\n",
    "        self.assign_binary(root, binary_code)"
   ]
  },
  {
   "cell_type": "code",
   "execution_count": 68,
   "metadata": {},
   "outputs": [],
   "source": [
    "def encoding(input_string):\n",
    "    \n",
    "    tree = Tree()\n",
    "    # sort a string into tuple based on frequency\n",
    "    char_freq = tree.frequency(input_string)\n",
    "\n",
    "    # push each tuple into queue data structure\n",
    "    tree.push_to_queue(char_freq)\n",
    "\n",
    "    # merge two nodes into one root and push into queue \n",
    "    tree.merge_to_root()\n",
    "\n",
    "    # assign binary code to left and right child of root\n",
    "    tree.traverse()\n",
    "\n",
    "    # show the dictionary after Huffman coding\n",
    "    dict_ = tree.binary_dict\n",
    "    \n",
    "    encoded_text = [dict_[i] for i in input_string]\n",
    "    encoded_text = '-'.join(encoded_text)\n",
    "    \n",
    "    return encoded_text, dict_\n",
    "\n",
    "def decoding(encoded_text, dict_):\n",
    "    code = [i for i in encoded_text.split('-')]\n",
    "    dict_ = {v:k for k,v in dict_.items()}\n",
    "    text = [dict_[j] for j in code]\n",
    "    return ''.join(text)"
   ]
  },
  {
   "cell_type": "code",
   "execution_count": 72,
   "metadata": {},
   "outputs": [
    {
     "name": "stdout",
     "output_type": "stream",
     "text": [
      "001-010-100-011-101-010-1111-101-000-101-1100-1101-100-1110-011\n",
      "Bird is a world\n"
     ]
    }
   ],
   "source": [
    "## Test 1\n",
    "\n",
    "input_string = \"Bird is a world\"\n",
    "[encoded_text, dict_] = encoding(input_string)\n",
    "decoded_text = decoding(encoded_text, dict_)\n",
    "\n",
    "print(encoded_text)\n",
    "print(decoded_text)"
   ]
  },
  {
   "cell_type": "code",
   "execution_count": 73,
   "metadata": {},
   "outputs": [
    {
     "name": "stdout",
     "output_type": "stream",
     "text": [
      "1010-0111-001-0110-1110-1101-1100-1111-1110-000-1111-001-1000-010-000-1001-1011-010\n",
      "Udacity is awesome\n"
     ]
    }
   ],
   "source": [
    "## Test 2\n",
    "\n",
    "input_string = \"Udacity is awesome\"\n",
    "[encoded_text, dict_] = encoding(input_string)\n",
    "decoded_text = decoding(encoded_text, dict_)\n",
    "\n",
    "print(encoded_text)\n",
    "print(decoded_text)"
   ]
  },
  {
   "cell_type": "code",
   "execution_count": 75,
   "metadata": {},
   "outputs": [
    {
     "name": "stdout",
     "output_type": "stream",
     "text": [
      "1000-1011-1111-1111-1010-1110-0101-000-0010-0100-1101-1100-000-0011-0110-000-0111-1110-1001-1101\n",
      "Huffman code is hard\n"
     ]
    }
   ],
   "source": [
    "## Test 3\n",
    "\n",
    "input_string = \"Huffman code is hard\"\n",
    "[encoded_text, dict_] = encoding(input_string)\n",
    "decoded_text = decoding(encoded_text, dict_)\n",
    "\n",
    "print(encoded_text)\n",
    "print(decoded_text)"
   ]
  },
  {
   "cell_type": "code",
   "execution_count": null,
   "metadata": {},
   "outputs": [],
   "source": []
  }
 ],
 "metadata": {
  "kernelspec": {
   "display_name": "Python 3",
   "language": "python",
   "name": "python3"
  },
  "language_info": {
   "codemirror_mode": {
    "name": "ipython",
    "version": 3
   },
   "file_extension": ".py",
   "mimetype": "text/x-python",
   "name": "python",
   "nbconvert_exporter": "python",
   "pygments_lexer": "ipython3",
   "version": "3.7.4"
  }
 },
 "nbformat": 4,
 "nbformat_minor": 2
}
