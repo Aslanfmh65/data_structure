{
 "cells": [
  {
   "cell_type": "code",
   "execution_count": 1,
   "metadata": {},
   "outputs": [],
   "source": [
    "import sys"
   ]
  },
  {
   "cell_type": "code",
   "execution_count": 2,
   "metadata": {},
   "outputs": [],
   "source": [
    "# Linked list\n",
    "\n",
    "class Node:\n",
    "    def __init__(self, char, freq):\n",
    "        self.char = char\n",
    "        self.freq = freq\n",
    "        self.left = None\n",
    "        self.right = None"
   ]
  },
  {
   "cell_type": "code",
   "execution_count": 3,
   "metadata": {},
   "outputs": [],
   "source": [
    "# Define queue data structure\n",
    "from collections import deque\n",
    "class Queue():\n",
    "    def __init__(self):\n",
    "        self.d = deque()\n",
    "        \n",
    "    def enq(self, value):\n",
    "        self.d.append(value)\n",
    "\n",
    "    def deq(self):\n",
    "        if len(self.d) > 0:\n",
    "            pop_value = self.d.popleft()\n",
    "            return pop_value\n",
    "        else:\n",
    "            return None\n",
    "        \n",
    "    def get_len(self):\n",
    "        return len(self.d)"
   ]
  },
  {
   "cell_type": "code",
   "execution_count": 4,
   "metadata": {},
   "outputs": [],
   "source": [
    "# Binary tree\n",
    "\n",
    "class Tree:\n",
    "    def __init__(self):\n",
    "        self.q = []\n",
    "        \n",
    "        self.binary_dict = {}\n",
    "        self.queue = Queue()\n",
    "        self.queue_equal = Queue()\n",
    "        self.queue_unequal = Queue()\n",
    "        \n",
    "    def frequency(self, input_string):\n",
    "        keys = list(set([i for i in input_string]))\n",
    "        values = [0] * len(keys)\n",
    "        \n",
    "        for i in input_string:\n",
    "            values[keys.index(i)] += 1\n",
    "            \n",
    "        char_freq = {k:v for k,v in zip(keys,values)}\n",
    "        char_freq = sorted(char_freq.items(), key=lambda x:x[1])\n",
    "        \n",
    "        return char_freq\n",
    "    \n",
    "    def push_to_queue(self, char_freq):\n",
    "        for item in char_freq:\n",
    "            node = Node(item[0], item[1])\n",
    "            self.queue.enq(node)\n",
    "            \n",
    "    def merge_to_root(self):\n",
    "        while (self.queue.get_len() > 1):\n",
    "            node1 = self.queue.deq()\n",
    "            node2 = self.queue.deq()\n",
    "            freq = node1.freq + node2.freq\n",
    "            root_node = Node(None, freq)\n",
    "            root_node.left = node1\n",
    "            root_node.right = node2\n",
    "            self.queue.enq(root_node)\n",
    "            \n",
    "    def assign_binary(self, root, binary_code):\n",
    "        if root is None:\n",
    "            return\n",
    "        \n",
    "        if root.char is not None:\n",
    "            self.binary_dict[root.char] = binary_code\n",
    "            return\n",
    "        \n",
    "        # recursion \n",
    "        self.assign_binary(root.left, binary_code + \"0\")\n",
    "        self.assign_binary(root.right, binary_code + \"1\")\n",
    "        \n",
    "    def traverse(self):\n",
    "        root = self.queue.deq()\n",
    "        binary_code = \"\"\n",
    "        self.assign_binary(root, binary_code)"
   ]
  },
  {
   "cell_type": "code",
   "execution_count": 5,
   "metadata": {},
   "outputs": [],
   "source": [
    "def encoding(input_string):\n",
    "    \n",
    "    tree = Tree()\n",
    "    # sort a string into tuple based on frequency\n",
    "    char_freq = tree.frequency(input_string)\n",
    "\n",
    "    # push each tuple into queue data structure\n",
    "    tree.push_to_queue(char_freq)\n",
    "\n",
    "    # merge two nodes into one root and push into queue \n",
    "    tree.merge_to_root()\n",
    "\n",
    "    # assign binary code to left and right child of root\n",
    "    tree.traverse()\n",
    "\n",
    "    # show the dictionary after Huffman coding\n",
    "    dict_ = tree.binary_dict\n",
    "    \n",
    "    encoded_text = [dict_[i] for i in input_string]\n",
    "    encoded_text = '-'.join(encoded_text)\n",
    "    \n",
    "    return encoded_text, dict_\n",
    "\n",
    "def decoding(encoded_text, dict_):\n",
    "    \n",
    "    if type(input_string) != str:\n",
    "        print(\"Error: Invalid input\")\n",
    "        return [-1,-1]\n",
    "    \n",
    "    elif input_string is None or len(input_string) == 0:\n",
    "        print(\"Error: Empty input\")\n",
    "        return [-1,-1]\n",
    "    \n",
    "    code = [i for i in encoded_text.split('-')]\n",
    "    dict_ = {v:k for k,v in dict_.items()}\n",
    "    text = [dict_[j] for j in code]\n",
    "    return ''.join(text)\n",
    "\n",
    "def huffman(input_string):\n",
    "    \n",
    "    if type(input_string) != str:\n",
    "        print(\"Invalid input\")\n",
    "        return [-1,-1]\n",
    "    \n",
    "    elif input_string is None or len(input_string) == 0:\n",
    "        print(\"Empty input\")\n",
    "        return [-1,-1]\n",
    "    \n",
    "    elif len(set(input_string)) == 1:\n",
    "        return '0'*len(input_string) + '/'+'1'*len(input_string)\n",
    "    \n",
    "\n",
    "    [encoded_text, dict_] = encoding(input_string)\n",
    "    decoded_text = decoding(encoded_text, dict_)\n",
    "    \n",
    "    input_size = sys.getsizeof(input_string)\n",
    "    encoded_text = ''.join(encoded_text.split('-'))\n",
    "    encoded_size = sys.getsizeof(int(encoded_text, base=2))\n",
    "    decoded_size = sys.getsizeof(decoded_text)\n",
    "    \n",
    "    return [input_size, encoded_text, encoded_size, decoded_size, decoded_text]"
   ]
  },
  {
   "cell_type": "code",
   "execution_count": 6,
   "metadata": {},
   "outputs": [
    {
     "name": "stdout",
     "output_type": "stream",
     "text": [
      "The size of the data is: 67\n",
      "The content of the data is: The bird is a word\n",
      "The size of the encoded data is: 36\n",
      "The content of the encoded data is: 10001001101001111100000100010110001111011101101111011100010001\n",
      "The size of the decoded data is: 67\n",
      "The content of the encoded data is: The bird is a word\n"
     ]
    }
   ],
   "source": [
    "## Test 1\n",
    "input_string = \"The bird is a word\"\n",
    "[input_size, encoded_text, encoded_size, decoded_size, decoded_text] = huffman(input_string)\n",
    "print(\"The size of the data is: {}\".format(input_size))\n",
    "print(\"The content of the data is: {}\".format(input_string))\n",
    "print(\"The size of the encoded data is: {}\".format(encoded_size))\n",
    "print(\"The content of the encoded data is: {}\".format(encoded_text))\n",
    "print(\"The size of the decoded data is: {}\".format(decoded_size))\n",
    "print(\"The content of the encoded data is: {}\".format(decoded_text))"
   ]
  },
  {
   "cell_type": "code",
   "execution_count": 21,
   "metadata": {},
   "outputs": [
    {
     "name": "stdout",
     "output_type": "stream",
     "text": [
      "The size of the data is: 65\n",
      "The content of the data is: Udacity is great\n",
      "The size of the encoded data is: 32\n",
      "The content of the encoded data is: 11011000011101000001010010010001110001110011111011011010\n",
      "The size of the decoded data is: 65\n",
      "The content of the encoded data is: Udacity is great\n"
     ]
    }
   ],
   "source": [
    "## Test 2\n",
    "input_string = \"Udacity is great\"\n",
    "[input_size, encoded_text, encoded_size, decoded_size, decoded_text] = huffman(input_string)\n",
    "print(\"The size of the data is: {}\".format(input_size))\n",
    "print(\"The content of the data is: {}\".format(input_string))\n",
    "print(\"The size of the encoded data is: {}\".format(encoded_size))\n",
    "print(\"The content of the encoded data is: {}\".format(encoded_text))\n",
    "print(\"The size of the decoded data is: {}\".format(decoded_size))\n",
    "print(\"The content of the encoded data is: {}\".format(decoded_text))"
   ]
  },
  {
   "cell_type": "code",
   "execution_count": 8,
   "metadata": {},
   "outputs": [
    {
     "name": "stdout",
     "output_type": "stream",
     "text": [
      "The size of the data is: 83\n",
      "The content of the data is: Huffman code is a famous algorithm\n",
      "The size of the encoded data is: 44\n",
      "The content of the encoded data is: 00000111101110111010110000101101111001001010011111110101101000110111001101101111001010100101111000110111000001001110010101011011101111101010\n",
      "The size of the decoded data is: 83\n",
      "The content of the encoded data is: Huffman code is a famous algorithm\n"
     ]
    }
   ],
   "source": [
    "## Test 3\n",
    "input_string = \"Huffman code is a famous algorithm\"\n",
    "[input_size, encoded_text, encoded_size, decoded_size, decoded_text] = huffman(input_string)\n",
    "print(\"The size of the data is: {}\".format(input_size))\n",
    "print(\"The content of the data is: {}\".format(input_string))\n",
    "print(\"The size of the encoded data is: {}\".format(encoded_size))\n",
    "print(\"The content of the encoded data is: {}\".format(encoded_text))\n",
    "print(\"The size of the decoded data is: {}\".format(decoded_size))\n",
    "print(\"The content of the encoded data is: {}\".format(decoded_text))"
   ]
  },
  {
   "cell_type": "code",
   "execution_count": 15,
   "metadata": {},
   "outputs": [
    {
     "name": "stdout",
     "output_type": "stream",
     "text": [
      "Empty input\n"
     ]
    },
    {
     "data": {
      "text/plain": [
       "[-1, -1]"
      ]
     },
     "execution_count": 15,
     "metadata": {},
     "output_type": "execute_result"
    }
   ],
   "source": [
    "## Edge Test 1: Empty input\n",
    "input_string = ''\n",
    "huffman(input_string)"
   ]
  },
  {
   "cell_type": "code",
   "execution_count": 16,
   "metadata": {},
   "outputs": [
    {
     "name": "stdout",
     "output_type": "stream",
     "text": [
      "Invalid input\n"
     ]
    },
    {
     "data": {
      "text/plain": [
       "[-1, -1]"
      ]
     },
     "execution_count": 16,
     "metadata": {},
     "output_type": "execute_result"
    }
   ],
   "source": [
    "## Edge Test 2: Invalid input\n",
    "input_string = 123456789\n",
    "huffman(input_string)"
   ]
  },
  {
   "cell_type": "code",
   "execution_count": 22,
   "metadata": {},
   "outputs": [
    {
     "name": "stdout",
     "output_type": "stream",
     "text": [
      "00000/11111\n"
     ]
    }
   ],
   "source": [
    "## Edge Test 3: Repeated string input\n",
    "input_string = 'aaaaa'\n",
    "print(huffman(input_string))"
   ]
  },
  {
   "cell_type": "code",
   "execution_count": null,
   "metadata": {},
   "outputs": [],
   "source": []
  }
 ],
 "metadata": {
  "kernelspec": {
   "display_name": "Python 3",
   "language": "python",
   "name": "python3"
  },
  "language_info": {
   "codemirror_mode": {
    "name": "ipython",
    "version": 3
   },
   "file_extension": ".py",
   "mimetype": "text/x-python",
   "name": "python",
   "nbconvert_exporter": "python",
   "pygments_lexer": "ipython3",
   "version": "3.7.4"
  }
 },
 "nbformat": 4,
 "nbformat_minor": 2
}
