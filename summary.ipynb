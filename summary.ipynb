{
 "cells": [
  {
   "cell_type": "markdown",
   "metadata": {},
   "source": [
    "## Single Linked List "
   ]
  },
  {
   "cell_type": "code",
   "execution_count": 16,
   "metadata": {},
   "outputs": [],
   "source": [
    "class Node:\n",
    "    def __init__(self, value):\n",
    "        self.value = value\n",
    "        self.next = None\n",
    "        \n",
    "class LinkedList:\n",
    "    def __init__(self):\n",
    "        self.head = None\n",
    "        \n",
    "    def create_linked_list(self, input_list):\n",
    "        self.head = Node(input_list[0])\n",
    "        node = self.head\n",
    "        for i in range(1,len(input_list)):\n",
    "            node.next = Node(input_list[i])\n",
    "            node = node.next\n",
    "            \n",
    "        return self.head\n",
    "                \n",
    "    def append(self, new_value):\n",
    "        if self.head is None:\n",
    "            self.head = Node(new_value)\n",
    "            return \n",
    "        \n",
    "        node = self.head\n",
    "        while node.next:\n",
    "            node = node.next\n",
    "        node.next = Node(new_value)\n",
    "        \n",
    "    def printNode(self):\n",
    "        if self.head is None:\n",
    "            print(\"Linked list is empty\")\n",
    "            return\n",
    "        node = self.head\n",
    "        while node:\n",
    "            print(node.value, end=' ')\n",
    "            node = node.next"
   ]
  },
  {
   "cell_type": "code",
   "execution_count": 21,
   "metadata": {},
   "outputs": [
    {
     "name": "stdout",
     "output_type": "stream",
     "text": [
      "1 2 3 4 5 6 7 8 9 10 "
     ]
    }
   ],
   "source": [
    "llist = LinkedList()\n",
    "list_ = [i for i in range(1,10)]\n",
    "head = llist.create_linked_list(list_)\n",
    "# llist.printNode()\n",
    "\n",
    "llist.append(10)\n",
    "llist.printNode()"
   ]
  },
  {
   "cell_type": "markdown",
   "metadata": {},
   "source": [
    "## Double Linked List "
   ]
  },
  {
   "cell_type": "code",
   "execution_count": 102,
   "metadata": {},
   "outputs": [],
   "source": [
    "class DoubleNode:\n",
    "    def __init__(self, value):\n",
    "        self.value = value\n",
    "        self.next = None\n",
    "        self.previous = None\n",
    "\n",
    "class DoublyLinkedList:\n",
    "    def __init__(self):\n",
    "        self.head = None\n",
    "        self.tail = None\n",
    "    \n",
    "    def append(self, value):\n",
    "        if self.head is None:\n",
    "            self.head = DoubleNode(value)\n",
    "            self.tail = self.head\n",
    "            return\n",
    "            \n",
    "        self.tail.next = DoubleNode(value)\n",
    "        self.tail.next.previous = self.tail\n",
    "        self.tail = self.tail.next\n",
    "        return"
   ]
  },
  {
   "cell_type": "markdown",
   "metadata": {},
   "source": [
    "## Stack "
   ]
  },
  {
   "cell_type": "code",
   "execution_count": 77,
   "metadata": {},
   "outputs": [],
   "source": [
    "class Stack:\n",
    "    def __init__(self):\n",
    "        self.__storage = []\n",
    "        \n",
    "    def isEmpty(self):\n",
    "        return len(__storage) == 0\n",
    "    \n",
    "    def push(self, element):\n",
    "        self.__storage.append(element)\n",
    "        \n",
    "    def pop(self):\n",
    "        return self.__storage.pop()"
   ]
  },
  {
   "cell_type": "code",
   "execution_count": 80,
   "metadata": {},
   "outputs": [
    {
     "data": {
      "text/plain": [
       "5"
      ]
     },
     "execution_count": 80,
     "metadata": {},
     "output_type": "execute_result"
    }
   ],
   "source": [
    "list_ = Stack()\n",
    "list_.push(1)\n",
    "list_.push(2)\n",
    "list_.push(3)\n",
    "list_.push(4)\n",
    "list_.push(5)\n",
    "\n",
    "list_.pop()"
   ]
  },
  {
   "cell_type": "markdown",
   "metadata": {},
   "source": [
    "## Queue "
   ]
  },
  {
   "cell_type": "code",
   "execution_count": 87,
   "metadata": {},
   "outputs": [],
   "source": [
    "class Queue:\n",
    "    def __init__(self):\n",
    "        self.__storage = []\n",
    "        \n",
    "    def isEmpty(self):\n",
    "        return len(__storage) == 0\n",
    "    \n",
    "    def enqueue(self, element):\n",
    "        self.__storage.append(element)\n",
    "        \n",
    "    def dequeue(self):\n",
    "        return self.__storage.pop(0)"
   ]
  },
  {
   "cell_type": "code",
   "execution_count": 88,
   "metadata": {},
   "outputs": [
    {
     "data": {
      "text/plain": [
       "1"
      ]
     },
     "execution_count": 88,
     "metadata": {},
     "output_type": "execute_result"
    }
   ],
   "source": [
    "list_ = Queue()\n",
    "list_.enqueue(1)\n",
    "list_.enqueue(2)\n",
    "list_.enqueue(3)\n",
    "list_.enqueue(4)\n",
    "list_.enqueue(5)\n",
    "\n",
    "list_.dequeue()"
   ]
  },
  {
   "cell_type": "markdown",
   "metadata": {},
   "source": [
    "## Binary Search Tree (BST) "
   ]
  },
  {
   "cell_type": "code",
   "execution_count": 75,
   "metadata": {},
   "outputs": [],
   "source": [
    "class Node:\n",
    "    def __init__(self, key):\n",
    "        self.value = key\n",
    "        self.left = None\n",
    "        self.right = None\n",
    "        \n",
    "class Tree:\n",
    "        \n",
    "    def insert(self, root, new_node):\n",
    "        if root is None:\n",
    "            root = new_node\n",
    "\n",
    "        else:\n",
    "            if root.value < new_node.value:\n",
    "                if root.right is None:\n",
    "                    root.right = new_node\n",
    "                else:\n",
    "                    self.insert(root.right, new_node)\n",
    "            elif root.value > new_node.value:\n",
    "                if root.left is None:\n",
    "                    root.left = new_node\n",
    "                else:\n",
    "                    self.insert(root.left, new_node)\n",
    "            else:\n",
    "                root = new_node\n",
    "                \n",
    "                \n",
    "    def search(self, root, node_key):\n",
    "        if root is None or root.value == node_key:\n",
    "            return root\n",
    "        if root.value < node_key:\n",
    "            return self.search(root.right, node_key)\n",
    "        else:\n",
    "            return self.search(root.left, node_key)\n",
    "                \n",
    "    def inorder(self, root):\n",
    "        if root:\n",
    "            self.inorder(root.left)\n",
    "            print(root.value)\n",
    "            self.inorder(root.right)\n",
    "            \n",
    "    def postorder(self, root):\n",
    "        if root:\n",
    "            self.postorder(root.left)\n",
    "            self.postorder(root.right)\n",
    "            print(root.value)\n",
    "            \n",
    "    def preorder(self, root):\n",
    "        if root:\n",
    "            print(root.value)\n",
    "            self.preorder(root.left)\n",
    "            self.preorder(root.right)"
   ]
  },
  {
   "cell_type": "code",
   "execution_count": 76,
   "metadata": {},
   "outputs": [
    {
     "data": {
      "text/plain": [
       "65"
      ]
     },
     "execution_count": 76,
     "metadata": {},
     "output_type": "execute_result"
    }
   ],
   "source": [
    "## BST Structure\n",
    "#           50\n",
    "#       20        65\n",
    "#   10     40  60    70   \n",
    "#        30 45  \n",
    "root = Node(50)\n",
    "tree_ds = Tree()\n",
    "tree_ds.insert(root, Node(20))\n",
    "tree_ds.insert(root, Node(10))\n",
    "tree_ds.insert(root, Node(65))\n",
    "tree_ds.insert(root, Node(40))\n",
    "tree_ds.insert(root, Node(30))\n",
    "tree_ds.insert(root, Node(45))\n",
    "tree_ds.insert(root, Node(70))\n",
    "tree_ds.insert(root, Node(60))\n",
    "\n",
    "tree_ds.search(root, 65).value\n",
    "\n",
    "# tree_ds.inorder(root)\n",
    "# tree_ds.postorder(root)\n",
    "# tree_ds.preorder(root)"
   ]
  },
  {
   "cell_type": "markdown",
   "metadata": {},
   "source": [
    "## Hash Table "
   ]
  },
  {
   "cell_type": "code",
   "execution_count": 91,
   "metadata": {},
   "outputs": [
    {
     "data": {
      "text/plain": [
       "{'A': 1, 's': 2, 'l': 3, 'a': 4, 'n': 5}"
      ]
     },
     "execution_count": 91,
     "metadata": {},
     "output_type": "execute_result"
    }
   ],
   "source": [
    "a = ['A','s','l','a','n']\n",
    "b = [1,2,3,4,5]\n",
    "{k:v for k, v in zip(a,b)}"
   ]
  },
  {
   "cell_type": "code",
   "execution_count": 96,
   "metadata": {},
   "outputs": [
    {
     "data": {
      "text/plain": [
       "<map at 0x10aa6b190>"
      ]
     },
     "execution_count": 96,
     "metadata": {},
     "output_type": "execute_result"
    }
   ],
   "source": [
    "map(hash, [0, 1, 2, 3])"
   ]
  },
  {
   "cell_type": "code",
   "execution_count": 97,
   "metadata": {},
   "outputs": [
    {
     "data": {
      "text/plain": [
       "<map at 0x10aa62d10>"
      ]
     },
     "execution_count": 97,
     "metadata": {},
     "output_type": "execute_result"
    }
   ],
   "source": [
    "map(hash, ['0','1','2','3'])"
   ]
  },
  {
   "cell_type": "code",
   "execution_count": 99,
   "metadata": {},
   "outputs": [
    {
     "name": "stdout",
     "output_type": "stream",
     "text": [
      "wang\n"
     ]
    }
   ],
   "source": [
    "# Simple verision\n",
    "\n",
    "class Hash:\n",
    "    # 表的长度定位11      \n",
    "    def __init__(self):\n",
    "        self.hash_table = [[None, None] for i in range(11)]\n",
    "    \n",
    "    # 散列函数\n",
    "    def hash(self, key, addition):\n",
    "        h_value = (key + addition)%11\n",
    "        if self.hash_table[h_value][0] == key:\n",
    "            return h_value\n",
    "        if self.hash_table[h_value][0] != None:\n",
    "            # Apply recursion until empty spot is found\n",
    "            addition += 1\n",
    "            h_value = self.hash(key, addition)\n",
    "        return h_value\n",
    "    \n",
    "    def put(self, key, value):\n",
    "        hash_value = self.hash(key, 0)\n",
    "        self.hash_table[hash_value][0] = key\n",
    "        self.hash_table[hash_value][1] = value\n",
    "        \n",
    "\n",
    "    def get(self,k):\n",
    "        hash_v=self.hash(k,0)\n",
    "        return self.hash_table[hash_v][1]\n",
    "\n",
    "hash = Hash()\n",
    "hash.put(1 ,'wang')\n",
    "print(hash.get(1))"
   ]
  },
  {
   "cell_type": "code",
   "execution_count": 100,
   "metadata": {},
   "outputs": [],
   "source": [
    "# Complex version\n",
    "\n",
    "class Map:\n",
    "        \n",
    "    def __init__(self):\n",
    "        self.capacity = 11\n",
    "        self.hash_table = [[None, None] for _ in range(self.capacity)]\n",
    "        self.num = 0\n",
    "        self.load_factor = 0.75\n",
    "        # load factor = existing element / length of list\n",
    "    def hash(self, key, addition):\n",
    "        h_value = (key + addition)%self.capcity\n",
    "        if self.hash_table[h_value][0] == key:\n",
    "            return h_value\n",
    "        if self.hash_table[h_value][0] != None:\n",
    "            addition += 1\n",
    "            h_value = self.hash(key, addition)\n",
    "            \n",
    "        return h_value\n",
    "    \n",
    "    def resize(self):\n",
    "        self.capacity = self.num*2\n",
    "        temp = self.hash_table[:]\n",
    "        self.hash_table = [[None, None] for _ in range(self.capacity)]\n",
    "        \n",
    "        for i in temp:\n",
    "            if i[0] != None:\n",
    "                hash_value = self.hash(i[0], 0)\n",
    "                self.hash_table[hash_value][0] = i[0]\n",
    "                self.hash_table[hash_value][1] = i[1]\n",
    "                \n",
    "    def put(self, key, value):\n",
    "        hash_value = self.hash(key, 0)\n",
    "        self.hash_table[hash_value][0]=key\n",
    "        self.hash_table[hash_value][1]=value\n",
    "        self.num+=1\n",
    "        if(self.num/len(self.hash_table)>self.load_factor):\n",
    "            self.resize()\n",
    "\n",
    "    def get(self,k):\n",
    "        hash_v=self.hash(k,0)\n",
    "        return self.hash_table[hash_v][1]"
   ]
  },
  {
   "cell_type": "code",
   "execution_count": null,
   "metadata": {},
   "outputs": [],
   "source": []
  }
 ],
 "metadata": {
  "kernelspec": {
   "display_name": "Python 3",
   "language": "python",
   "name": "python3"
  },
  "language_info": {
   "codemirror_mode": {
    "name": "ipython",
    "version": 3
   },
   "file_extension": ".py",
   "mimetype": "text/x-python",
   "name": "python",
   "nbconvert_exporter": "python",
   "pygments_lexer": "ipython3",
   "version": "3.7.4"
  }
 },
 "nbformat": 4,
 "nbformat_minor": 2
}
