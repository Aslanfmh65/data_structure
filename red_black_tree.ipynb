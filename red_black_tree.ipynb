{
 "cells": [
  {
   "cell_type": "code",
   "execution_count": 1,
   "metadata": {},
   "outputs": [],
   "source": [
    "class Node:\n",
    "    def __init__(self, value, parent, color):\n",
    "        self.value = value\n",
    "        self.left = None\n",
    "        self.right = None\n",
    "        self.parent = parent\n",
    "        self.color = color"
   ]
  },
  {
   "cell_type": "code",
   "execution_count": 20,
   "metadata": {},
   "outputs": [],
   "source": [
    "def grandparent(node):\n",
    "    if node.parent == None:\n",
    "        return None\n",
    "    return node.parent.parent\n",
    "\n",
    "# Helper for finding the node's parent's sibling\n",
    "def sibling(node):\n",
    "    p = node.parent\n",
    "    gp = grandparent(node)\n",
    "    if gp == None:\n",
    "        return None\n",
    "    if p == gp.left:\n",
    "        return gp.right\n",
    "    if p == gp.right:\n",
    "        return gp.left\n",
    "    \n",
    "\n",
    "class RedBlackTree(object):\n",
    "    def __init__(self, root):\n",
    "        self.root = Node(root, None, 'red')\n",
    "        \n",
    "    def insert(self, new_val):\n",
    "        self.insert_helper(self.root, new_val)\n",
    "        \n",
    "    def insert_helper(self, current, new_val):\n",
    "        if current.value < new_val:\n",
    "            if current.right:\n",
    "                return self.insert_helper(current.right, new_val)\n",
    "            else:\n",
    "                current.right = Node(new_val, current.right, 'red')\n",
    "                return current.right\n",
    "        else:\n",
    "            \n",
    "            if current.left:\n",
    "                return self.insert_helper(current.left, new_val)\n",
    "            else:\n",
    "                current.left = Node(new_val, current.left, 'red')\n",
    "                return current.left\n",
    "            \n",
    "    def rebalance(self, node):    \n",
    "        # Case 1\n",
    "        if node.parent == None:\n",
    "            return\n",
    "        \n",
    "        # Case 2: if parent is black, no need to re-balance\n",
    "        if node.parent.color == 'black':\n",
    "            return\n",
    "        \n",
    "        # Case 3: if sibling is red, change it to black, parent to black, grandparent to red\n",
    "        if sibling(node) and sibling(node).color == 'red':\n",
    "            sibling(node).color = 'black'\n",
    "            node.parent.color = 'black'\n",
    "            grandparent(node).color = 'red'\n",
    "            return self.rebalance(grandparent(node))\n",
    "        \n",
    "        gp = grandparent(node)        \n",
    "        # Small change, if there is no grandparent, cases 4 and 5\n",
    "        # won't apply\n",
    "        if gp == None:\n",
    "            return\n",
    "        \n",
    "        # Case 4\n",
    "        if gp.left and node == gp.left.right:\n",
    "            self.rotate_left(node.parent)\n",
    "            node = node.left\n",
    "        elif gp.right and node == gp.right.left:\n",
    "            self.rotate_right(node.parent)\n",
    "            node = node.right\n",
    "\n",
    "        # Case 5\n",
    "        p = node.parent\n",
    "        gp = p.parent\n",
    "        if node == p.left:\n",
    "            self.rotate_right(gp)\n",
    "        else:\n",
    "            self.rotate_left(gp)\n",
    "        p.color = 'black'\n",
    "        gp.color = 'red'\n",
    "\n",
    "    def rotate_left(self, node):\n",
    "        # Save off the parent of the sub-tree we're rotating\n",
    "        p = node.parent\n",
    "\n",
    "        node_moving_up = node.right\n",
    "        # After 'node' moves up, the right child will now be a left child\n",
    "        node.right = node_moving_up.left\n",
    "\n",
    "        # 'node' moves down, to being a left child\n",
    "        node_moving_up.left = node\n",
    "        node.parent = node_moving_up\n",
    "\n",
    "        # Now we need to connect to the sub-tree's parent\n",
    "        # 'node' may have been the root\n",
    "        if p != None:\n",
    "            if node == p.left:\n",
    "                p.left = node_moving_up\n",
    "            else:\n",
    "                p.right = node_moving_up\n",
    "        node_moving_up.parent = p\n",
    "\n",
    "    def rotate_right(self, node):\n",
    "        p = node.parent\n",
    "\n",
    "        node_moving_up = node.left\n",
    "        node.left = node_moving_up.right\n",
    "\n",
    "        node_moving_up.right = node\n",
    "        node.parent = node_moving_up\n",
    "\n",
    "        # Now we need to connect to the sub-tree's parent\n",
    "        if p != None:\n",
    "            if node == p.left:\n",
    "                p.left = node_moving_up\n",
    "            else:\n",
    "                p.right = node_moving_up\n",
    "        node_moving_up.parent = p"
   ]
  },
  {
   "cell_type": "code",
   "execution_count": 21,
   "metadata": {},
   "outputs": [],
   "source": [
    "def print_tree(node, level=0):\n",
    "    print('   ' * (level - 1) + '+--' * (level > 0) + '%s' % node.value)\n",
    "    if node.left:\n",
    "        print_tree(node.left, level + 1)\n",
    "    if node.right:\n",
    "        print_tree(node.right, level + 1)"
   ]
  },
  {
   "cell_type": "code",
   "execution_count": 22,
   "metadata": {},
   "outputs": [
    {
     "name": "stdout",
     "output_type": "stream",
     "text": [
      "9\n",
      "+--6\n",
      "+--19\n"
     ]
    }
   ],
   "source": [
    "tree = RedBlackTree(9)\n",
    "tree.insert(6)\n",
    "tree.insert(19)\n",
    "\n",
    "print_tree(tree.root)"
   ]
  },
  {
   "cell_type": "code",
   "execution_count": 23,
   "metadata": {},
   "outputs": [
    {
     "name": "stdout",
     "output_type": "stream",
     "text": [
      "9\n",
      "+--6\n",
      "+--19\n",
      "   +--13\n"
     ]
    }
   ],
   "source": [
    "tree.insert(13)\n",
    "print_tree(tree.root)"
   ]
  },
  {
   "cell_type": "code",
   "execution_count": 24,
   "metadata": {},
   "outputs": [
    {
     "name": "stdout",
     "output_type": "stream",
     "text": [
      "9\n",
      "+--6\n",
      "+--19\n",
      "   +--13\n",
      "      +--16\n"
     ]
    }
   ],
   "source": [
    "tree.insert(16)\n",
    "print_tree(tree.root)"
   ]
  },
  {
   "cell_type": "code",
   "execution_count": null,
   "metadata": {},
   "outputs": [],
   "source": []
  }
 ],
 "metadata": {
  "kernelspec": {
   "display_name": "Python 3",
   "language": "python",
   "name": "python3"
  },
  "language_info": {
   "codemirror_mode": {
    "name": "ipython",
    "version": 3
   },
   "file_extension": ".py",
   "mimetype": "text/x-python",
   "name": "python",
   "nbconvert_exporter": "python",
   "pygments_lexer": "ipython3",
   "version": "3.7.4"
  }
 },
 "nbformat": 4,
 "nbformat_minor": 2
}
